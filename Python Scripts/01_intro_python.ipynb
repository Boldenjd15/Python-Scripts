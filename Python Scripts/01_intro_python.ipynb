{
 "cells": [
  {
   "cell_type": "markdown",
   "metadata": {},
   "source": [
    "### Define a variable"
   ]
  },
  {
   "cell_type": "code",
   "execution_count": 1,
   "metadata": {},
   "outputs": [],
   "source": [
    "# Define a variable, assign 1 to it\n",
    "\n",
    "temp = 1"
   ]
  },
  {
   "cell_type": "code",
   "execution_count": 2,
   "metadata": {},
   "outputs": [
    {
     "name": "stdout",
     "output_type": "stream",
     "text": [
      "1\n"
     ]
    }
   ],
   "source": [
    "# Print the value of this variable\n",
    "\n",
    "print(temp)"
   ]
  },
  {
   "cell_type": "markdown",
   "metadata": {},
   "source": [
    "Note: Python is case-sensitive, so if `temp` is not spelled in the same way, it will throw an error."
   ]
  },
  {
   "cell_type": "markdown",
   "metadata": {},
   "source": [
    "### Strings"
   ]
  },
  {
   "cell_type": "code",
   "execution_count": 3,
   "metadata": {},
   "outputs": [
    {
     "name": "stdout",
     "output_type": "stream",
     "text": [
      "Virginia Commonwealth University\n"
     ]
    }
   ],
   "source": [
    "# Define a new string\n",
    "\n",
    "vcu = 'Virginia Commonwealth University'\n",
    "\n",
    "print(vcu)"
   ]
  },
  {
   "cell_type": "code",
   "execution_count": 4,
   "metadata": {},
   "outputs": [
    {
     "data": {
      "text/plain": [
       "32"
      ]
     },
     "execution_count": 4,
     "metadata": {},
     "output_type": "execute_result"
    }
   ],
   "source": [
    "# Check the length of a string\n",
    "\n",
    "len(vcu)"
   ]
  },
  {
   "cell_type": "code",
   "execution_count": 5,
   "metadata": {},
   "outputs": [
    {
     "name": "stdout",
     "output_type": "stream",
     "text": [
      "Virginia\n"
     ]
    }
   ],
   "source": [
    "# Print the first 8 characters of the string\n",
    "\n",
    "print(vcu[0:8])"
   ]
  },
  {
   "cell_type": "code",
   "execution_count": 6,
   "metadata": {},
   "outputs": [
    {
     "name": "stdout",
     "output_type": "stream",
     "text": [
      "University\n"
     ]
    }
   ],
   "source": [
    "# Print the last 10 characters of the string\n",
    "\n",
    "print(vcu[22:32])"
   ]
  },
  {
   "cell_type": "markdown",
   "metadata": {},
   "source": [
    "### Quick Exercise"
   ]
  },
  {
   "cell_type": "markdown",
   "metadata": {},
   "source": [
    "Print 'Virginia Commonwealth'."
   ]
  },
  {
   "cell_type": "code",
   "execution_count": 7,
   "metadata": {},
   "outputs": [
    {
     "name": "stdout",
     "output_type": "stream",
     "text": [
      "Virginia Commonwealth \n"
     ]
    }
   ],
   "source": [
    "# Print everything except for the last 10 characters\n",
    "\n",
    "print(vcu[:-10])"
   ]
  },
  {
   "cell_type": "markdown",
   "metadata": {},
   "source": [
    "Some of the following examples are borrowed from _'Whirlwind Tour of Python' by Jake VanderPlas_."
   ]
  },
  {
   "cell_type": "markdown",
   "metadata": {},
   "source": [
    "### Conditional statements: `if-elif-else`:"
   ]
  },
  {
   "cell_type": "code",
   "execution_count": 9,
   "metadata": {},
   "outputs": [
    {
     "name": "stdout",
     "output_type": "stream",
     "text": [
      "10 is positive.\n"
     ]
    }
   ],
   "source": [
    "# Define/initialize a variable\n",
    "x = -15\n",
    "\n",
    "if x == 0:\n",
    "    print(x, 'is zero.')\n",
    "elif x > 0:\n",
    "    print(x, 'is positive.')\n",
    "else:\n",
    "    print(f'{x} is negative.')"
   ]
  },
  {
   "cell_type": "markdown",
   "metadata": {},
   "source": [
    "### `for` loops"
   ]
  },
  {
   "cell_type": "code",
   "execution_count": 10,
   "metadata": {},
   "outputs": [
    {
     "name": "stdout",
     "output_type": "stream",
     "text": [
      "0\n",
      "1\n",
      "2\n",
      "3\n",
      "4\n"
     ]
    }
   ],
   "source": [
    "# A simple for loop to pring the first five numbers\n",
    "\n",
    "for i in (0, 1, 2, 3, 4):\n",
    "    print(i)"
   ]
  },
  {
   "cell_type": "code",
   "execution_count": 11,
   "metadata": {},
   "outputs": [
    {
     "name": "stdout",
     "output_type": "stream",
     "text": [
      "0\n",
      "1\n",
      "2\n",
      "3\n",
      "4\n"
     ]
    }
   ],
   "source": [
    "# Alternatively...\n",
    "\n",
    "for i in range(5):\n",
    "    print(i)"
   ]
  },
  {
   "cell_type": "markdown",
   "metadata": {},
   "source": [
    "Notes: The index (counter) starts at zero in Python. Indentation matters."
   ]
  },
  {
   "cell_type": "code",
   "execution_count": 12,
   "metadata": {},
   "outputs": [
    {
     "name": "stdout",
     "output_type": "stream",
     "text": [
      "0\n",
      "2\n",
      "4\n",
      "6\n",
      "8\n"
     ]
    }
   ],
   "source": [
    "# A for loop to print the first five even numbers\n",
    "\n",
    "for i in range(0, 10, 2):\n",
    "    print(i)"
   ]
  },
  {
   "cell_type": "markdown",
   "metadata": {},
   "source": [
    "### `while` loops"
   ]
  },
  {
   "cell_type": "code",
   "execution_count": 13,
   "metadata": {},
   "outputs": [
    {
     "name": "stdout",
     "output_type": "stream",
     "text": [
      "0\n",
      "1\n",
      "2\n",
      "3\n",
      "4\n"
     ]
    }
   ],
   "source": [
    "# Initialize\n",
    "i = 0\n",
    "\n",
    "while i < 5:\n",
    "    print(i)\n",
    "    i = i + 1"
   ]
  },
  {
   "cell_type": "markdown",
   "metadata": {},
   "source": [
    "### `enumerate` counter"
   ]
  },
  {
   "cell_type": "code",
   "execution_count": 14,
   "metadata": {},
   "outputs": [
    {
     "name": "stdout",
     "output_type": "stream",
     "text": [
      "0 Red\n",
      "1 Green\n",
      "2 Blue\n"
     ]
    }
   ],
   "source": [
    "# Define a list (array)\n",
    "colors = ['Red', 'Green', 'Blue']\n",
    "\n",
    "# Initialize a counter\n",
    "i = 0\n",
    "\n",
    "# Print all elements in the array, with a counter\n",
    "for color in colors:\n",
    "    print(i, color)\n",
    "    # Increment the counter\n",
    "    i += 1"
   ]
  },
  {
   "cell_type": "code",
   "execution_count": 15,
   "metadata": {},
   "outputs": [
    {
     "name": "stdout",
     "output_type": "stream",
     "text": [
      "0 Red\n",
      "1 Green\n",
      "2 Blue\n"
     ]
    }
   ],
   "source": [
    "# Using enumerate\n",
    "\n",
    "for i, color in enumerate(colors):\n",
    "    print (i, color)"
   ]
  },
  {
   "cell_type": "markdown",
   "metadata": {},
   "source": [
    "### Functions"
   ]
  },
  {
   "cell_type": "code",
   "execution_count": 16,
   "metadata": {},
   "outputs": [
    {
     "data": {
      "text/plain": [
       "15.0"
      ]
     },
     "execution_count": 16,
     "metadata": {},
     "output_type": "execute_result"
    }
   ],
   "source": [
    "# Function definition\n",
    "\n",
    "def find_average(x, y):\n",
    "    return (x + y) / 2\n",
    "\n",
    "\n",
    "# Function call\n",
    "\n",
    "find_average(10, 20)"
   ]
  },
  {
   "cell_type": "code",
   "execution_count": 17,
   "metadata": {},
   "outputs": [
    {
     "data": {
      "text/plain": [
       "4.0"
      ]
     },
     "execution_count": 17,
     "metadata": {},
     "output_type": "execute_result"
    }
   ],
   "source": [
    "# Extension of the average function for a list of numbers\n",
    "\n",
    "nums = [1, 2, 5, 9, 3]\n",
    "\n",
    "# Function definition\n",
    "\n",
    "def find_average_list(x):\n",
    "    return sum(nums) / len(nums)\n",
    "\n",
    "# Function call\n",
    "\n",
    "find_average_list(nums)"
   ]
  },
  {
   "cell_type": "markdown",
   "metadata": {},
   "source": [
    "### Exercise"
   ]
  },
  {
   "cell_type": "markdown",
   "metadata": {},
   "source": [
    "Use the `if-elif-else` code from above and create a function. Apply this function on the sequence of numbers given below."
   ]
  },
  {
   "cell_type": "code",
   "execution_count": 19,
   "metadata": {},
   "outputs": [
    {
     "name": "stdout",
     "output_type": "stream",
     "text": [
      "0 is zero.\n",
      "10 is positive.\n",
      "-10 is negative.\n",
      "10000000000.0 is positive.\n",
      "-1.5 is negative.\n"
     ]
    }
   ],
   "source": [
    "seq = [0, 10, -10, 1e10, -1.5]\n",
    "\n",
    "# Function definition\n",
    "def pos_or_neg(in_seq):\n",
    "    \n",
    "    for x in in_seq:\n",
    "        if x == 0:\n",
    "            print(f'{x} is zero.')\n",
    "        elif x > 0:\n",
    "            print(f'{x} is positive.')\n",
    "        else:\n",
    "            print(f'{x} is negative.')\n",
    "    \n",
    "# Function call\n",
    "pos_or_neg(seq)"
   ]
  },
  {
   "cell_type": "markdown",
   "metadata": {},
   "source": [
    "### Anonymous (`lambda`) Functions"
   ]
  },
  {
   "cell_type": "code",
   "execution_count": 20,
   "metadata": {},
   "outputs": [
    {
     "data": {
      "text/plain": [
       "15.0"
      ]
     },
     "execution_count": 20,
     "metadata": {},
     "output_type": "execute_result"
    }
   ],
   "source": [
    "# Calculate the average of two numbers using a `lambda` function\n",
    "\n",
    "find_average = lambda x, y: (x + y) / 2\n",
    "\n",
    "find_average(10, 20)"
   ]
  },
  {
   "cell_type": "markdown",
   "metadata": {},
   "source": [
    "### List Comprehensions"
   ]
  },
  {
   "cell_type": "code",
   "execution_count": 21,
   "metadata": {},
   "outputs": [
    {
     "name": "stdout",
     "output_type": "stream",
     "text": [
      "[0, 1, 4, 9, 16, 25, 36, 49, 64, 81, 100, 121]\n"
     ]
    }
   ],
   "source": [
    "# Define an empty list (array)\n",
    "squares = []\n",
    "\n",
    "# Append some numbers (squares) to this list\n",
    "for n in range(12):\n",
    "    squares.append(n ** 2)\n",
    "\n",
    "# Print all values in the list\n",
    "print(squares)"
   ]
  },
  {
   "cell_type": "code",
   "execution_count": 22,
   "metadata": {},
   "outputs": [
    {
     "data": {
      "text/plain": [
       "[0, 1, 4, 9, 16, 25, 36, 49, 64, 81, 100, 121]"
      ]
     },
     "execution_count": 22,
     "metadata": {},
     "output_type": "execute_result"
    }
   ],
   "source": [
    "# Square each number in the list\n",
    "\n",
    "[n ** 2 for n in range(12)]"
   ]
  },
  {
   "cell_type": "code",
   "execution_count": 23,
   "metadata": {},
   "outputs": [
    {
     "data": {
      "text/plain": [
       "[0, 4, 16, 36, 64, 100]"
      ]
     },
     "execution_count": 23,
     "metadata": {},
     "output_type": "execute_result"
    }
   ],
   "source": [
    "# Square a number only if it's an even number\n",
    "\n",
    "[n ** 2 for n in range(12) if n%2 == 0]"
   ]
  },
  {
   "cell_type": "markdown",
   "metadata": {},
   "source": [
    "### Data structures"
   ]
  },
  {
   "cell_type": "markdown",
   "metadata": {},
   "source": [
    "#### Tuple"
   ]
  },
  {
   "cell_type": "code",
   "execution_count": 24,
   "metadata": {},
   "outputs": [
    {
     "name": "stdout",
     "output_type": "stream",
     "text": [
      "(1, 5, 100)\n"
     ]
    }
   ],
   "source": [
    "# Define a tuple\n",
    "x = (1, 5, 100)\n",
    "\n",
    "# Print values of the tuple\n",
    "print(x)"
   ]
  },
  {
   "cell_type": "markdown",
   "metadata": {},
   "source": [
    "#### List"
   ]
  },
  {
   "cell_type": "code",
   "execution_count": 25,
   "metadata": {},
   "outputs": [
    {
     "name": "stdout",
     "output_type": "stream",
     "text": [
      "[1, 5, 10]\n"
     ]
    }
   ],
   "source": [
    "# Define a list\n",
    "x = [1, 5, 10]\n",
    "\n",
    "# Print values of the list\n",
    "print(x)"
   ]
  },
  {
   "cell_type": "code",
   "execution_count": 26,
   "metadata": {},
   "outputs": [
    {
     "name": "stdout",
     "output_type": "stream",
     "text": [
      "[1, 5, 10, 100]\n"
     ]
    }
   ],
   "source": [
    "# Append a value to an existing list\n",
    "\n",
    "x.append(100)\n",
    "\n",
    "print(x)"
   ]
  },
  {
   "cell_type": "markdown",
   "metadata": {},
   "source": [
    "#### Dictionary"
   ]
  },
  {
   "cell_type": "code",
   "execution_count": 28,
   "metadata": {},
   "outputs": [
    {
     "name": "stdout",
     "output_type": "stream",
     "text": [
      "{1: 'Red', 5: 'Green', 10: 'Blue'}\n"
     ]
    }
   ],
   "source": [
    "# Define a dictionary\n",
    "xy = {1: 'Red', 5: 'Green', 10: 'Blue'}\n",
    "\n",
    "# Print values of the dictionary\n",
    "print(xy)"
   ]
  },
  {
   "cell_type": "code",
   "execution_count": 29,
   "metadata": {},
   "outputs": [
    {
     "name": "stdout",
     "output_type": "stream",
     "text": [
      "dict_keys([1, 5, 10])\n"
     ]
    }
   ],
   "source": [
    "# Print the dictionary keys\n",
    "\n",
    "print(xy.keys())"
   ]
  },
  {
   "cell_type": "code",
   "execution_count": 30,
   "metadata": {},
   "outputs": [
    {
     "name": "stdout",
     "output_type": "stream",
     "text": [
      "dict_values(['Red', 'Green', 'Blue'])\n"
     ]
    }
   ],
   "source": [
    "# Print the dictionary values\n",
    "\n",
    "print(xy.values())"
   ]
  },
  {
   "cell_type": "code",
   "execution_count": 31,
   "metadata": {},
   "outputs": [
    {
     "name": "stdout",
     "output_type": "stream",
     "text": [
      "Green\n"
     ]
    }
   ],
   "source": [
    "# Access a specific value from a dictionary based on a key\n",
    "\n",
    "print(xy[5])"
   ]
  },
  {
   "cell_type": "markdown",
   "metadata": {},
   "source": [
    "### Packages"
   ]
  },
  {
   "cell_type": "markdown",
   "metadata": {},
   "source": [
    "#### Explicit module import"
   ]
  },
  {
   "cell_type": "code",
   "execution_count": 32,
   "metadata": {},
   "outputs": [
    {
     "name": "stdout",
     "output_type": "stream",
     "text": [
      "1.1447298858494002\n"
     ]
    }
   ],
   "source": [
    "# Import the `math' module and print the log of pi\n",
    "\n",
    "import math\n",
    "\n",
    "print(math.log(math.pi))"
   ]
  },
  {
   "cell_type": "markdown",
   "metadata": {},
   "source": [
    "#### Explicit module import by alias"
   ]
  },
  {
   "cell_type": "code",
   "execution_count": 33,
   "metadata": {},
   "outputs": [
    {
     "name": "stdout",
     "output_type": "stream",
     "text": [
      "1.1447298858494002\n"
     ]
    }
   ],
   "source": [
    "# Import the `numpy` module and print the log  of pi\n",
    "\n",
    "import numpy as np\n",
    "\n",
    "print(np.log(np.pi))"
   ]
  },
  {
   "cell_type": "markdown",
   "metadata": {},
   "source": [
    "#### Explicit import of module contents"
   ]
  },
  {
   "cell_type": "code",
   "execution_count": 34,
   "metadata": {},
   "outputs": [
    {
     "name": "stdout",
     "output_type": "stream",
     "text": [
      "1.1447298858494002\n"
     ]
    }
   ],
   "source": [
    "# Import the `numpy` module and print the log  of pi\n",
    "\n",
    "from numpy import log, pi\n",
    "\n",
    "print(log(pi))"
   ]
  }
 ],
 "metadata": {
  "kernelspec": {
   "display_name": "Python 3",
   "language": "python",
   "name": "python3"
  },
  "language_info": {
   "codemirror_mode": {
    "name": "ipython",
    "version": 3
   },
   "file_extension": ".py",
   "mimetype": "text/x-python",
   "name": "python",
   "nbconvert_exporter": "python",
   "pygments_lexer": "ipython3",
   "version": "3.7.4"
  }
 },
 "nbformat": 4,
 "nbformat_minor": 2
}
