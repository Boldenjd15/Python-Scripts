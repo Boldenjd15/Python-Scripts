{
 "cells": [
  {
   "cell_type": "markdown",
   "metadata": {},
   "source": [
    "### Import packages"
   ]
  },
  {
   "cell_type": "code",
   "execution_count": 86,
   "metadata": {},
   "outputs": [],
   "source": [
    "import pandas as pd\n",
    "from datetime import date\n",
    "import matplotlib.pyplot as plt\n",
    "import seaborn as sns\n",
    "import numpy as np\n",
    "from dateutil.relativedelta import relativedelta"
   ]
  },
  {
   "cell_type": "markdown",
   "metadata": {},
   "source": [
    "### Set-up"
   ]
  },
  {
   "cell_type": "markdown",
   "metadata": {},
   "source": [
    "For this expercise, we will utilize two files (listed below) from the 'Brazilian E-Commerce Public Dataset' originally posted on [Kaggle]( https://www.kaggle.com/olistbr/brazilian-ecommerce)."
   ]
  },
  {
   "cell_type": "code",
   "execution_count": 87,
   "metadata": {},
   "outputs": [],
   "source": [
    "# full path of the 'orders' dataset\n",
    "orders_file = 'https://bitbucket.org/vishal_derive/vcu-data-mining/raw/11253d9f443241b3ce5949802966a80de73af1db/data/olist_orders_dataset.csv'\n",
    "\n",
    "# full path of the 'customer' dataset\n",
    "cust_file = 'https://bitbucket.org/vishal_derive/vcu-data-mining/raw/11253d9f443241b3ce5949802966a80de73af1db/data/olist_customers_dataset.csv'\n",
    "\n",
    "purchase_file= 'https://bitbucket.org/vishal_derive/vcu-data-mining/raw/3d740375d8d00c80e83dacbadc8b5e70cd2bfe48/data/olist_order_payments_dataset.csv'"
   ]
  },
  {
   "cell_type": "markdown",
   "metadata": {},
   "source": [
    "## Question# 1. Recreate all attributes (that we created in the class exercise) using this new sampling timeframe (snapshot date). "
   ]
  },
  {
   "cell_type": "markdown",
   "metadata": {},
   "source": [
    "### Read data"
   ]
  },
  {
   "cell_type": "code",
   "execution_count": 88,
   "metadata": {},
   "outputs": [],
   "source": [
    "def read_olist_data(file1, file2, file3, verbose):\n",
    "\n",
    "#Order Data\n",
    "    # read the orders data\n",
    "    orders = pd.read_csv(file1)\n",
    "    if verbose:\n",
    "        print (f'{len(orders):,} read from the orders file.')\n",
    "\n",
    "###DATA/TIME INFORMATION\n",
    "    # date-time conversion\n",
    "    orders['order_purchase_timestamp'] = pd.to_datetime(orders['order_purchase_timestamp'])\n",
    "    orders['order_delivered_customer_date'] = pd.to_datetime(orders['order_delivered_customer_date'])\n",
    "\n",
    "    # let's convert the order purchase timestamps into dates\n",
    "    orders['order_purchase_date'] = orders['order_purchase_timestamp'].dt.date\n",
    "    \n",
    "    orders['waiting'] = orders['order_delivered_customer_date'].dt.date - orders['order_purchase_date']\n",
    "    orders['waiting'] = orders['waiting']/np.timedelta64(1,'D')\n",
    "    \n",
    "        # extract month from the order date\n",
    "    orders['order_dow'] = orders['order_purchase_timestamp'].dt.weekday_name\n",
    "    \n",
    "        # drop unnecessary columns\n",
    "    drop_vars = ['order_approved_at', 'order_delivered_carrier_date', \n",
    "                 'order_delivered_customer_date', 'order_estimated_delivery_date']\n",
    "\n",
    "    orders = orders.drop(drop_vars, axis=1)\n",
    "\n",
    "#Customer data  \n",
    "    # read the file that contains the unique customer identifier\n",
    "    # also, let's keep only the following two columns: customer_id, customer_unique_id\n",
    "    cust = pd.read_csv(file2, usecols=['customer_id', 'customer_unique_id','customer_zip_code_prefix'])\n",
    "    \n",
    "    if verbose:\n",
    "        print (f'{len(cust):,} read from the customer file.')\n",
    "\n",
    "#Payments Data   \n",
    "    purchase = pd.read_csv(file3)    \n",
    "    if verbose:\n",
    "        print (f'{len(purchase):,} read from the purchase file.')\n",
    "        \n",
    "#Merge the order and customer data sets together based on key identifiers \n",
    "    orders_out = pd.merge(orders, cust, on='customer_id', how='inner')\n",
    "    \n",
    "    # apply filters to (a) discard (incomplete) data after 2018-8-22; see 06_pandas_wrangle.ipynb for the rationale\n",
    "    #  and (b) keep 'delivered' orders only\n",
    "    #  we do this here by using a boolean (True/False) mask\n",
    "    mask = (orders_out['order_purchase_date'] < date(2018, 8, 22)) & (orders_out['order_status'] == 'delivered')\n",
    "\n",
    "    orders_out = orders_out[mask]\n",
    "    \n",
    "    purchase.loc[purchase['payment_type'] =='boleto', 'boleto'] = 1\n",
    "    purchase.loc[purchase['payment_type'] !='boleto', 'boleto'] = 0\n",
    "    \n",
    "    purchase.loc[purchase['payment_type'] =='voucher', 'voucher'] = 1\n",
    "    purchase.loc[purchase['payment_type'] !='voucher', 'voucher'] = 0\n",
    "    \n",
    "    purchase.loc[purchase['payment_type'] =='credit_card', 'credit_card'] = 1\n",
    "    purchase.loc[purchase['payment_type'] !='credit_card', 'credit_card'] = 0\n",
    "    \n",
    "    purchase['total_purchase'] = purchase['payment_value'] * purchase['payment_installments']\n",
    "    \n",
    "    \n",
    "    purchase = purchase.drop(['payment_type','payment_value'], axis=1)\n",
    "    purchase_agg = purchase.groupby('order_id').agg({'payment_sequential':'sum', 'payment_installments':'max', 'boleto':'max', 'voucher':'max', 'credit_card':'max', 'total_purchase':'sum'})\n",
    "    \n",
    "    purchase_out = purchase_agg.reset_index()\n",
    "    \n",
    "#Merge all three data sets together based on key identifiers \n",
    "    orders_out_1 = pd.merge(orders_out, purchase_out, on='order_id', how='inner')\n",
    "    # discard 'order_status' as we don't need it any more\n",
    "    orders_out = orders_out_1.drop('order_status', axis=1)\n",
    "    # let's keep only those columns that we need (for this exercise)\n",
    "    keep_cols = ['customer_unique_id', 'order_id', 'order_purchase_timestamp', 'order_dow','waiting','customer_zip_code_prefix','payment_sequential','payment_installments','boleto','voucher','credit_card','total_purchase']\n",
    "    orders_out = orders_out[keep_cols].sort_values(['customer_unique_id', 'order_purchase_timestamp'])\n",
    "\n",
    "    if verbose:\n",
    "        print (f'{len(orders_out):,} records in the output  file.')\n",
    "    \n",
    "    return orders_out"
   ]
  },
  {
   "cell_type": "code",
   "execution_count": 89,
   "metadata": {},
   "outputs": [
    {
     "name": "stdout",
     "output_type": "stream",
     "text": [
      "99,441 read from the orders file.\n",
      "99,441 read from the customer file.\n",
      "103,886 read from the purchase file.\n",
      "95,796 records in the output  file.\n"
     ]
    }
   ],
   "source": [
    "orders = read_olist_data(orders_file, cust_file, purchase_file, 1)"
   ]
  },
  {
   "cell_type": "code",
   "execution_count": 90,
   "metadata": {},
   "outputs": [
    {
     "data": {
      "text/html": [
       "<div>\n",
       "<style scoped>\n",
       "    .dataframe tbody tr th:only-of-type {\n",
       "        vertical-align: middle;\n",
       "    }\n",
       "\n",
       "    .dataframe tbody tr th {\n",
       "        vertical-align: top;\n",
       "    }\n",
       "\n",
       "    .dataframe thead th {\n",
       "        text-align: right;\n",
       "    }\n",
       "</style>\n",
       "<table border=\"1\" class=\"dataframe\">\n",
       "  <thead>\n",
       "    <tr style=\"text-align: right;\">\n",
       "      <th></th>\n",
       "      <th>customer_unique_id</th>\n",
       "      <th>order_id</th>\n",
       "      <th>order_purchase_timestamp</th>\n",
       "      <th>order_dow</th>\n",
       "      <th>waiting</th>\n",
       "      <th>customer_zip_code_prefix</th>\n",
       "      <th>payment_sequential</th>\n",
       "      <th>payment_installments</th>\n",
       "      <th>boleto</th>\n",
       "      <th>voucher</th>\n",
       "      <th>credit_card</th>\n",
       "      <th>total_purchase</th>\n",
       "    </tr>\n",
       "  </thead>\n",
       "  <tbody>\n",
       "    <tr>\n",
       "      <th>50852</th>\n",
       "      <td>0000366f3b9a7992bf8c76cfdf3221e2</td>\n",
       "      <td>e22acc9c116caa3f2b7121bbb380d08e</td>\n",
       "      <td>2018-05-10 10:56:27</td>\n",
       "      <td>Thursday</td>\n",
       "      <td>6.0</td>\n",
       "      <td>7787</td>\n",
       "      <td>1</td>\n",
       "      <td>8</td>\n",
       "      <td>0.0</td>\n",
       "      <td>0.0</td>\n",
       "      <td>1.0</td>\n",
       "      <td>1135.20</td>\n",
       "    </tr>\n",
       "    <tr>\n",
       "      <th>71175</th>\n",
       "      <td>0000b849f77a49e4a4ce2b2a4ca5be3f</td>\n",
       "      <td>3594e05a005ac4d06a72673270ef9ec9</td>\n",
       "      <td>2018-05-07 11:11:27</td>\n",
       "      <td>Monday</td>\n",
       "      <td>3.0</td>\n",
       "      <td>6053</td>\n",
       "      <td>1</td>\n",
       "      <td>1</td>\n",
       "      <td>0.0</td>\n",
       "      <td>0.0</td>\n",
       "      <td>1.0</td>\n",
       "      <td>27.19</td>\n",
       "    </tr>\n",
       "    <tr>\n",
       "      <th>25485</th>\n",
       "      <td>0000f46a3911fa3c0805444483337064</td>\n",
       "      <td>b33ec3b699337181488304f362a6b734</td>\n",
       "      <td>2017-03-10 21:05:03</td>\n",
       "      <td>Friday</td>\n",
       "      <td>26.0</td>\n",
       "      <td>88115</td>\n",
       "      <td>1</td>\n",
       "      <td>8</td>\n",
       "      <td>0.0</td>\n",
       "      <td>0.0</td>\n",
       "      <td>1.0</td>\n",
       "      <td>689.76</td>\n",
       "    </tr>\n",
       "    <tr>\n",
       "      <th>94880</th>\n",
       "      <td>0000f6ccb0745a6a4b88665a16c9f078</td>\n",
       "      <td>41272756ecddd9a9ed0180413cc22fb6</td>\n",
       "      <td>2017-10-12 20:29:41</td>\n",
       "      <td>Thursday</td>\n",
       "      <td>20.0</td>\n",
       "      <td>66812</td>\n",
       "      <td>1</td>\n",
       "      <td>4</td>\n",
       "      <td>0.0</td>\n",
       "      <td>0.0</td>\n",
       "      <td>1.0</td>\n",
       "      <td>174.48</td>\n",
       "    </tr>\n",
       "    <tr>\n",
       "      <th>40017</th>\n",
       "      <td>0004aac84e0df4da2b147fca70cf8255</td>\n",
       "      <td>d957021f1127559cd947b62533f484f7</td>\n",
       "      <td>2017-11-14 19:45:42</td>\n",
       "      <td>Tuesday</td>\n",
       "      <td>13.0</td>\n",
       "      <td>18040</td>\n",
       "      <td>1</td>\n",
       "      <td>6</td>\n",
       "      <td>0.0</td>\n",
       "      <td>0.0</td>\n",
       "      <td>1.0</td>\n",
       "      <td>1181.34</td>\n",
       "    </tr>\n",
       "  </tbody>\n",
       "</table>\n",
       "</div>"
      ],
      "text/plain": [
       "                     customer_unique_id                          order_id  \\\n",
       "50852  0000366f3b9a7992bf8c76cfdf3221e2  e22acc9c116caa3f2b7121bbb380d08e   \n",
       "71175  0000b849f77a49e4a4ce2b2a4ca5be3f  3594e05a005ac4d06a72673270ef9ec9   \n",
       "25485  0000f46a3911fa3c0805444483337064  b33ec3b699337181488304f362a6b734   \n",
       "94880  0000f6ccb0745a6a4b88665a16c9f078  41272756ecddd9a9ed0180413cc22fb6   \n",
       "40017  0004aac84e0df4da2b147fca70cf8255  d957021f1127559cd947b62533f484f7   \n",
       "\n",
       "      order_purchase_timestamp order_dow  waiting  customer_zip_code_prefix  \\\n",
       "50852      2018-05-10 10:56:27  Thursday      6.0                      7787   \n",
       "71175      2018-05-07 11:11:27    Monday      3.0                      6053   \n",
       "25485      2017-03-10 21:05:03    Friday     26.0                     88115   \n",
       "94880      2017-10-12 20:29:41  Thursday     20.0                     66812   \n",
       "40017      2017-11-14 19:45:42   Tuesday     13.0                     18040   \n",
       "\n",
       "       payment_sequential  payment_installments  boleto  voucher  credit_card  \\\n",
       "50852                   1                     8     0.0      0.0          1.0   \n",
       "71175                   1                     1     0.0      0.0          1.0   \n",
       "25485                   1                     8     0.0      0.0          1.0   \n",
       "94880                   1                     4     0.0      0.0          1.0   \n",
       "40017                   1                     6     0.0      0.0          1.0   \n",
       "\n",
       "       total_purchase  \n",
       "50852         1135.20  \n",
       "71175           27.19  \n",
       "25485          689.76  \n",
       "94880          174.48  \n",
       "40017         1181.34  "
      ]
     },
     "execution_count": 90,
     "metadata": {},
     "output_type": "execute_result"
    }
   ],
   "source": [
    "#Just take a look at the the data frame created from the function above\n",
    "orders.head()"
   ]
  },
  {
   "cell_type": "markdown",
   "metadata": {},
   "source": [
    "## Question #2: Create at least seven additional attributes of your choice derived from the data available in the three files. "
   ]
  },
  {
   "cell_type": "code",
   "execution_count": 91,
   "metadata": {},
   "outputs": [],
   "source": [
    "#Creating a snapshot date of following year (01-JUL-2017)\n",
    "snapshot_date = date(2017, 6, 30)\n",
    "mask = orders['order_purchase_timestamp'].dt.date <= snapshot_date"
   ]
  },
  {
   "cell_type": "code",
   "execution_count": 92,
   "metadata": {},
   "outputs": [
    {
     "data": {
      "text/plain": [
       "(95796, 14199)"
      ]
     },
     "execution_count": 92,
     "metadata": {},
     "output_type": "execute_result"
    }
   ],
   "source": [
    "df_raw = orders[mask]\n",
    "len(orders), len(df_raw)"
   ]
  },
  {
   "cell_type": "markdown",
   "metadata": {},
   "source": [
    "### Attribute #1: Order recency"
   ]
  },
  {
   "cell_type": "markdown",
   "metadata": {},
   "source": [
    "For creating model attributes (features) we will have to restrict our data to the timeframe prior to the prediction window."
   ]
  },
  {
   "cell_type": "code",
   "execution_count": 93,
   "metadata": {},
   "outputs": [
    {
     "data": {
      "text/plain": [
       "50852    False\n",
       "71175    False\n",
       "25485     True\n",
       "94880    False\n",
       "40017    False\n",
       "Name: order_purchase_timestamp, dtype: bool"
      ]
     },
     "execution_count": 93,
     "metadata": {},
     "output_type": "execute_result"
    }
   ],
   "source": [
    "mask = orders['order_purchase_timestamp'].dt.date <= snapshot_date\n",
    "\n",
    "mask.head()"
   ]
  },
  {
   "cell_type": "code",
   "execution_count": 94,
   "metadata": {},
   "outputs": [
    {
     "data": {
      "text/plain": [
       "(95796, 14199)"
      ]
     },
     "execution_count": 94,
     "metadata": {},
     "output_type": "execute_result"
    }
   ],
   "source": [
    "df_raw = orders[mask]\n",
    "len(orders), len(df_raw)"
   ]
  },
  {
   "cell_type": "code",
   "execution_count": 95,
   "metadata": {},
   "outputs": [
    {
     "data": {
      "text/plain": [
       "Timestamp('2017-06-30 23:20:08')"
      ]
     },
     "execution_count": 95,
     "metadata": {},
     "output_type": "execute_result"
    }
   ],
   "source": [
    "# check the max date\n",
    "df_raw.order_purchase_timestamp.max()"
   ]
  },
  {
   "cell_type": "markdown",
   "metadata": {},
   "source": [
    "To calculate recency (days since the most recent order), we will have to extract *the most recent date* for each customer."
   ]
  },
  {
   "cell_type": "code",
   "execution_count": 96,
   "metadata": {},
   "outputs": [
    {
     "data": {
      "text/html": [
       "<div>\n",
       "<style scoped>\n",
       "    .dataframe tbody tr th:only-of-type {\n",
       "        vertical-align: middle;\n",
       "    }\n",
       "\n",
       "    .dataframe tbody tr th {\n",
       "        vertical-align: top;\n",
       "    }\n",
       "\n",
       "    .dataframe thead th {\n",
       "        text-align: right;\n",
       "    }\n",
       "</style>\n",
       "<table border=\"1\" class=\"dataframe\">\n",
       "  <thead>\n",
       "    <tr style=\"text-align: right;\">\n",
       "      <th></th>\n",
       "      <th>customer_unique_id</th>\n",
       "      <th>order_purchase_timestamp</th>\n",
       "    </tr>\n",
       "  </thead>\n",
       "  <tbody>\n",
       "    <tr>\n",
       "      <th>0</th>\n",
       "      <td>0000f46a3911fa3c0805444483337064</td>\n",
       "      <td>2017-03-10 21:05:03</td>\n",
       "    </tr>\n",
       "    <tr>\n",
       "      <th>1</th>\n",
       "      <td>0005e1862207bf6ccc02e4228effd9a0</td>\n",
       "      <td>2017-03-04 23:32:12</td>\n",
       "    </tr>\n",
       "    <tr>\n",
       "      <th>2</th>\n",
       "      <td>00115fc7123b5310cf6d3a3aa932699e</td>\n",
       "      <td>2017-01-21 21:58:35</td>\n",
       "    </tr>\n",
       "    <tr>\n",
       "      <th>3</th>\n",
       "      <td>0011805441c0d1b68b48002f1d005526</td>\n",
       "      <td>2017-04-24 13:36:48</td>\n",
       "    </tr>\n",
       "    <tr>\n",
       "      <th>4</th>\n",
       "      <td>0011857aff0e5871ce5eb429f21cdaf5</td>\n",
       "      <td>2017-06-28 11:08:38</td>\n",
       "    </tr>\n",
       "  </tbody>\n",
       "</table>\n",
       "</div>"
      ],
      "text/plain": [
       "                 customer_unique_id order_purchase_timestamp\n",
       "0  0000f46a3911fa3c0805444483337064      2017-03-10 21:05:03\n",
       "1  0005e1862207bf6ccc02e4228effd9a0      2017-03-04 23:32:12\n",
       "2  00115fc7123b5310cf6d3a3aa932699e      2017-01-21 21:58:35\n",
       "3  0011805441c0d1b68b48002f1d005526      2017-04-24 13:36:48\n",
       "4  0011857aff0e5871ce5eb429f21cdaf5      2017-06-28 11:08:38"
      ]
     },
     "execution_count": 96,
     "metadata": {},
     "output_type": "execute_result"
    }
   ],
   "source": [
    "# grab the max purchase date for each customer\n",
    "cust_recency = df_raw.groupby('customer_unique_id')['order_purchase_timestamp'].max().reset_index()\n",
    "cust_recency.head()"
   ]
  },
  {
   "cell_type": "code",
   "execution_count": 97,
   "metadata": {},
   "outputs": [
    {
     "data": {
      "text/plain": [
       "0   112 days\n",
       "1   118 days\n",
       "2   160 days\n",
       "3    67 days\n",
       "4     2 days\n",
       "Name: order_purchase_timestamp, dtype: timedelta64[ns]"
      ]
     },
     "execution_count": 97,
     "metadata": {},
     "output_type": "execute_result"
    }
   ],
   "source": [
    "# count the number of days between the most recent order date and the snapshot date\n",
    "delta = snapshot_date - cust_recency['order_purchase_timestamp'].dt.date\n",
    "delta.head()"
   ]
  },
  {
   "cell_type": "code",
   "execution_count": 98,
   "metadata": {},
   "outputs": [
    {
     "data": {
      "text/html": [
       "<div>\n",
       "<style scoped>\n",
       "    .dataframe tbody tr th:only-of-type {\n",
       "        vertical-align: middle;\n",
       "    }\n",
       "\n",
       "    .dataframe tbody tr th {\n",
       "        vertical-align: top;\n",
       "    }\n",
       "\n",
       "    .dataframe thead th {\n",
       "        text-align: right;\n",
       "    }\n",
       "</style>\n",
       "<table border=\"1\" class=\"dataframe\">\n",
       "  <thead>\n",
       "    <tr style=\"text-align: right;\">\n",
       "      <th></th>\n",
       "      <th>customer_unique_id</th>\n",
       "      <th>order_purchase_timestamp</th>\n",
       "      <th>order_recency</th>\n",
       "    </tr>\n",
       "  </thead>\n",
       "  <tbody>\n",
       "    <tr>\n",
       "      <th>0</th>\n",
       "      <td>0000f46a3911fa3c0805444483337064</td>\n",
       "      <td>2017-03-10 21:05:03</td>\n",
       "      <td>112</td>\n",
       "    </tr>\n",
       "    <tr>\n",
       "      <th>1</th>\n",
       "      <td>0005e1862207bf6ccc02e4228effd9a0</td>\n",
       "      <td>2017-03-04 23:32:12</td>\n",
       "      <td>118</td>\n",
       "    </tr>\n",
       "    <tr>\n",
       "      <th>2</th>\n",
       "      <td>00115fc7123b5310cf6d3a3aa932699e</td>\n",
       "      <td>2017-01-21 21:58:35</td>\n",
       "      <td>160</td>\n",
       "    </tr>\n",
       "    <tr>\n",
       "      <th>3</th>\n",
       "      <td>0011805441c0d1b68b48002f1d005526</td>\n",
       "      <td>2017-04-24 13:36:48</td>\n",
       "      <td>67</td>\n",
       "    </tr>\n",
       "    <tr>\n",
       "      <th>4</th>\n",
       "      <td>0011857aff0e5871ce5eb429f21cdaf5</td>\n",
       "      <td>2017-06-28 11:08:38</td>\n",
       "      <td>2</td>\n",
       "    </tr>\n",
       "  </tbody>\n",
       "</table>\n",
       "</div>"
      ],
      "text/plain": [
       "                 customer_unique_id order_purchase_timestamp  order_recency\n",
       "0  0000f46a3911fa3c0805444483337064      2017-03-10 21:05:03            112\n",
       "1  0005e1862207bf6ccc02e4228effd9a0      2017-03-04 23:32:12            118\n",
       "2  00115fc7123b5310cf6d3a3aa932699e      2017-01-21 21:58:35            160\n",
       "3  0011805441c0d1b68b48002f1d005526      2017-04-24 13:36:48             67\n",
       "4  0011857aff0e5871ce5eb429f21cdaf5      2017-06-28 11:08:38              2"
      ]
     },
     "execution_count": 98,
     "metadata": {},
     "output_type": "execute_result"
    }
   ],
   "source": [
    "# grab the number of days (as an integer) from the calculated deltas \n",
    "cust_recency['order_recency'] = delta.dt.days\n",
    "cust_recency.head()"
   ]
  },
  {
   "cell_type": "code",
   "execution_count": 99,
   "metadata": {},
   "outputs": [],
   "source": [
    "# drop the date (we don't need it any more for this exercise)\n",
    "cust_recency = cust_recency.drop('order_purchase_timestamp', axis=1)"
   ]
  },
  {
   "cell_type": "code",
   "execution_count": 100,
   "metadata": {},
   "outputs": [
    {
     "data": {
      "text/plain": [
       "13855"
      ]
     },
     "execution_count": 100,
     "metadata": {},
     "output_type": "execute_result"
    }
   ],
   "source": [
    "# how many records (unique customers) do we have for this timeframe?\n",
    "len(cust_recency)"
   ]
  },
  {
   "cell_type": "markdown",
   "metadata": {},
   "source": [
    "This is the number of customers who are included in the modeling dasetset for this specific time-frame."
   ]
  },
  {
   "cell_type": "code",
   "execution_count": 101,
   "metadata": {},
   "outputs": [
    {
     "data": {
      "image/png": "[encoded data removed]",
      "text/plain": [
       "<Figure size 1080x432 with 1 Axes>"
      ]
     },
     "metadata": {},
     "output_type": "display_data"
    }
   ],
   "source": [
    "#### NOT REQUIRED FOR HW\n",
    "\n",
    "sns.set(style='darkgrid')\n",
    "\n",
    "# adjust the plot size\n",
    "plt.figure().set_size_inches(15, 6)\n",
    "\n",
    "# histogram\n",
    "sns.distplot(cust_recency['order_recency'], kde=False)\n",
    "\n",
    "# assign axis labels\n",
    "plt.ylabel('Number of Customers', fontsize=14)\n",
    "plt.xlabel('Days Since the Most Recent Order', fontsize=14);"
   ]
  },
  {
   "cell_type": "markdown",
   "metadata": {},
   "source": [
    "Let's take a look at the cumulative distribution of customers by recency."
   ]
  },
  {
   "cell_type": "code",
   "execution_count": 102,
   "metadata": {},
   "outputs": [
    {
     "data": {
      "text/html": [
       "<div>\n",
       "<style scoped>\n",
       "    .dataframe tbody tr th:only-of-type {\n",
       "        vertical-align: middle;\n",
       "    }\n",
       "\n",
       "    .dataframe tbody tr th {\n",
       "        vertical-align: top;\n",
       "    }\n",
       "\n",
       "    .dataframe thead th {\n",
       "        text-align: right;\n",
       "    }\n",
       "</style>\n",
       "<table border=\"1\" class=\"dataframe\">\n",
       "  <thead>\n",
       "    <tr style=\"text-align: right;\">\n",
       "      <th></th>\n",
       "      <th>order_recency</th>\n",
       "      <th>cust_count</th>\n",
       "    </tr>\n",
       "  </thead>\n",
       "  <tbody>\n",
       "    <tr>\n",
       "      <th>0</th>\n",
       "      <td>0</td>\n",
       "      <td>93</td>\n",
       "    </tr>\n",
       "    <tr>\n",
       "      <th>1</th>\n",
       "      <td>1</td>\n",
       "      <td>108</td>\n",
       "    </tr>\n",
       "    <tr>\n",
       "      <th>2</th>\n",
       "      <td>2</td>\n",
       "      <td>117</td>\n",
       "    </tr>\n",
       "    <tr>\n",
       "      <th>3</th>\n",
       "      <td>3</td>\n",
       "      <td>140</td>\n",
       "    </tr>\n",
       "    <tr>\n",
       "      <th>4</th>\n",
       "      <td>4</td>\n",
       "      <td>65</td>\n",
       "    </tr>\n",
       "  </tbody>\n",
       "</table>\n",
       "</div>"
      ],
      "text/plain": [
       "   order_recency  cust_count\n",
       "0              0          93\n",
       "1              1         108\n",
       "2              2         117\n",
       "3              3         140\n",
       "4              4          65"
      ]
     },
     "execution_count": 102,
     "metadata": {},
     "output_type": "execute_result"
    }
   ],
   "source": [
    "#Calculate Customer recency distribution\n",
    "recency_distr = cust_recency.groupby('order_recency').size().reset_index()\n",
    "recency_distr = recency_distr.rename(columns={0: 'cust_count'})\n",
    "recency_distr.head()"
   ]
  },
  {
   "cell_type": "code",
   "execution_count": 103,
   "metadata": {},
   "outputs": [
    {
     "data": {
      "text/plain": [
       "0    0.006712\n",
       "1    0.014507\n",
       "2    0.022952\n",
       "3    0.033057\n",
       "4    0.037748\n",
       "Name: cust_count, dtype: float64"
      ]
     },
     "execution_count": 103,
     "metadata": {},
     "output_type": "execute_result"
    }
   ],
   "source": [
    "# calculate cumulative percentages \n",
    "cum_pctg = recency_distr['cust_count'].cumsum() / sum(recency_distr['cust_count'])\n",
    "cum_pctg.head()"
   ]
  },
  {
   "cell_type": "code",
   "execution_count": 104,
   "metadata": {},
   "outputs": [
    {
     "data": {
      "image/png": "[encoded data removed]",
      "text/plain": [
       "<Figure size 648x648 with 1 Axes>"
      ]
     },
     "metadata": {},
     "output_type": "display_data"
    }
   ],
   "source": [
    "#### NOT REQUIRED FOR HW\n",
    "\n",
    "sns.set(style='darkgrid')\n",
    "\n",
    "# adjust the plot size\n",
    "plt.figure().set_size_inches(9, 9)\n",
    "\n",
    "# histogram\n",
    "sns.lineplot(x=recency_distr['order_recency'], y=cum_pctg, color='royalblue', lw=3)\n",
    "\n",
    "# assign axis labels\n",
    "plt.ylabel('Cumulative % of Customers', fontsize=14)\n",
    "plt.xlabel('Days Since the Most Recent Order', fontsize=14);"
   ]
  },
  {
   "cell_type": "markdown",
   "metadata": {},
   "source": [
    "Additional eligibility criteria can be applied to exclude customers (from the modeling dataset) who have not shopped in more than, e.g., one/two years."
   ]
  },
  {
   "cell_type": "markdown",
   "metadata": {},
   "source": [
    "### Attribute #2: Number of orders per customer"
   ]
  },
  {
   "cell_type": "code",
   "execution_count": 105,
   "metadata": {},
   "outputs": [
    {
     "data": {
      "text/html": [
       "<div>\n",
       "<style scoped>\n",
       "    .dataframe tbody tr th:only-of-type {\n",
       "        vertical-align: middle;\n",
       "    }\n",
       "\n",
       "    .dataframe tbody tr th {\n",
       "        vertical-align: top;\n",
       "    }\n",
       "\n",
       "    .dataframe thead th {\n",
       "        text-align: right;\n",
       "    }\n",
       "</style>\n",
       "<table border=\"1\" class=\"dataframe\">\n",
       "  <thead>\n",
       "    <tr style=\"text-align: right;\">\n",
       "      <th></th>\n",
       "      <th>customer_unique_id</th>\n",
       "      <th>total_orders</th>\n",
       "    </tr>\n",
       "  </thead>\n",
       "  <tbody>\n",
       "    <tr>\n",
       "      <th>0</th>\n",
       "      <td>0000f46a3911fa3c0805444483337064</td>\n",
       "      <td>1</td>\n",
       "    </tr>\n",
       "    <tr>\n",
       "      <th>1</th>\n",
       "      <td>0005e1862207bf6ccc02e4228effd9a0</td>\n",
       "      <td>1</td>\n",
       "    </tr>\n",
       "    <tr>\n",
       "      <th>2</th>\n",
       "      <td>00115fc7123b5310cf6d3a3aa932699e</td>\n",
       "      <td>1</td>\n",
       "    </tr>\n",
       "    <tr>\n",
       "      <th>3</th>\n",
       "      <td>0011805441c0d1b68b48002f1d005526</td>\n",
       "      <td>1</td>\n",
       "    </tr>\n",
       "    <tr>\n",
       "      <th>4</th>\n",
       "      <td>0011857aff0e5871ce5eb429f21cdaf5</td>\n",
       "      <td>1</td>\n",
       "    </tr>\n",
       "  </tbody>\n",
       "</table>\n",
       "</div>"
      ],
      "text/plain": [
       "                 customer_unique_id  total_orders\n",
       "0  0000f46a3911fa3c0805444483337064             1\n",
       "1  0005e1862207bf6ccc02e4228effd9a0             1\n",
       "2  00115fc7123b5310cf6d3a3aa932699e             1\n",
       "3  0011805441c0d1b68b48002f1d005526             1\n",
       "4  0011857aff0e5871ce5eb429f21cdaf5             1"
      ]
     },
     "execution_count": 105,
     "metadata": {},
     "output_type": "execute_result"
    }
   ],
   "source": [
    "# Count total records (i.e., orders) per customer\n",
    "cust_orders = df_raw.groupby('customer_unique_id').size().reset_index().rename(columns={0: 'total_orders'})\n",
    "cust_orders.head()"
   ]
  },
  {
   "cell_type": "markdown",
   "metadata": {},
   "source": [
    "### Attribute #3: Weekday"
   ]
  },
  {
   "cell_type": "code",
   "execution_count": 106,
   "metadata": {},
   "outputs": [
    {
     "data": {
      "text/html": [
       "<div>\n",
       "<style scoped>\n",
       "    .dataframe tbody tr th:only-of-type {\n",
       "        vertical-align: middle;\n",
       "    }\n",
       "\n",
       "    .dataframe tbody tr th {\n",
       "        vertical-align: top;\n",
       "    }\n",
       "\n",
       "    .dataframe thead th {\n",
       "        text-align: right;\n",
       "    }\n",
       "</style>\n",
       "<table border=\"1\" class=\"dataframe\">\n",
       "  <thead>\n",
       "    <tr style=\"text-align: right;\">\n",
       "      <th></th>\n",
       "      <th>customer_unique_id</th>\n",
       "      <th>order_id</th>\n",
       "      <th>order_purchase_timestamp</th>\n",
       "      <th>order_dow</th>\n",
       "      <th>waiting</th>\n",
       "      <th>customer_zip_code_prefix</th>\n",
       "      <th>payment_sequential</th>\n",
       "      <th>payment_installments</th>\n",
       "      <th>boleto</th>\n",
       "      <th>voucher</th>\n",
       "      <th>credit_card</th>\n",
       "      <th>total_purchase</th>\n",
       "    </tr>\n",
       "  </thead>\n",
       "  <tbody>\n",
       "    <tr>\n",
       "      <th>25485</th>\n",
       "      <td>0000f46a3911fa3c0805444483337064</td>\n",
       "      <td>b33ec3b699337181488304f362a6b734</td>\n",
       "      <td>2017-03-10 21:05:03</td>\n",
       "      <td>Friday</td>\n",
       "      <td>26.0</td>\n",
       "      <td>88115</td>\n",
       "      <td>1</td>\n",
       "      <td>8</td>\n",
       "      <td>0.0</td>\n",
       "      <td>0.0</td>\n",
       "      <td>1.0</td>\n",
       "      <td>689.76</td>\n",
       "    </tr>\n",
       "    <tr>\n",
       "      <th>68602</th>\n",
       "      <td>0005e1862207bf6ccc02e4228effd9a0</td>\n",
       "      <td>ae76bef74b97bcb0b3e355e60d9a6f9c</td>\n",
       "      <td>2017-03-04 23:32:12</td>\n",
       "      <td>Saturday</td>\n",
       "      <td>5.0</td>\n",
       "      <td>25966</td>\n",
       "      <td>1</td>\n",
       "      <td>3</td>\n",
       "      <td>0.0</td>\n",
       "      <td>0.0</td>\n",
       "      <td>1.0</td>\n",
       "      <td>450.36</td>\n",
       "    </tr>\n",
       "    <tr>\n",
       "      <th>41258</th>\n",
       "      <td>00115fc7123b5310cf6d3a3aa932699e</td>\n",
       "      <td>91d1bf2b7745903cb0d17162d1bbd750</td>\n",
       "      <td>2017-01-21 21:58:35</td>\n",
       "      <td>Saturday</td>\n",
       "      <td>11.0</td>\n",
       "      <td>71015</td>\n",
       "      <td>1</td>\n",
       "      <td>1</td>\n",
       "      <td>0.0</td>\n",
       "      <td>0.0</td>\n",
       "      <td>1.0</td>\n",
       "      <td>76.11</td>\n",
       "    </tr>\n",
       "    <tr>\n",
       "      <th>67499</th>\n",
       "      <td>0011805441c0d1b68b48002f1d005526</td>\n",
       "      <td>fb5d8b462dc9570527eff204b8a1a57b</td>\n",
       "      <td>2017-04-24 13:36:48</td>\n",
       "      <td>Monday</td>\n",
       "      <td>18.0</td>\n",
       "      <td>68639</td>\n",
       "      <td>1</td>\n",
       "      <td>10</td>\n",
       "      <td>0.0</td>\n",
       "      <td>0.0</td>\n",
       "      <td>1.0</td>\n",
       "      <td>2971.40</td>\n",
       "    </tr>\n",
       "    <tr>\n",
       "      <th>33688</th>\n",
       "      <td>0011857aff0e5871ce5eb429f21cdaf5</td>\n",
       "      <td>58d34816de3da57e9e07d7b34aced1b8</td>\n",
       "      <td>2017-06-28 11:08:38</td>\n",
       "      <td>Wednesday</td>\n",
       "      <td>8.0</td>\n",
       "      <td>9070</td>\n",
       "      <td>1</td>\n",
       "      <td>3</td>\n",
       "      <td>0.0</td>\n",
       "      <td>0.0</td>\n",
       "      <td>1.0</td>\n",
       "      <td>578.49</td>\n",
       "    </tr>\n",
       "  </tbody>\n",
       "</table>\n",
       "</div>"
      ],
      "text/plain": [
       "                     customer_unique_id                          order_id  \\\n",
       "25485  0000f46a3911fa3c0805444483337064  b33ec3b699337181488304f362a6b734   \n",
       "68602  0005e1862207bf6ccc02e4228effd9a0  ae76bef74b97bcb0b3e355e60d9a6f9c   \n",
       "41258  00115fc7123b5310cf6d3a3aa932699e  91d1bf2b7745903cb0d17162d1bbd750   \n",
       "67499  0011805441c0d1b68b48002f1d005526  fb5d8b462dc9570527eff204b8a1a57b   \n",
       "33688  0011857aff0e5871ce5eb429f21cdaf5  58d34816de3da57e9e07d7b34aced1b8   \n",
       "\n",
       "      order_purchase_timestamp  order_dow  waiting  customer_zip_code_prefix  \\\n",
       "25485      2017-03-10 21:05:03     Friday     26.0                     88115   \n",
       "68602      2017-03-04 23:32:12   Saturday      5.0                     25966   \n",
       "41258      2017-01-21 21:58:35   Saturday     11.0                     71015   \n",
       "67499      2017-04-24 13:36:48     Monday     18.0                     68639   \n",
       "33688      2017-06-28 11:08:38  Wednesday      8.0                      9070   \n",
       "\n",
       "       payment_sequential  payment_installments  boleto  voucher  credit_card  \\\n",
       "25485                   1                     8     0.0      0.0          1.0   \n",
       "68602                   1                     3     0.0      0.0          1.0   \n",
       "41258                   1                     1     0.0      0.0          1.0   \n",
       "67499                   1                    10     0.0      0.0          1.0   \n",
       "33688                   1                     3     0.0      0.0          1.0   \n",
       "\n",
       "       total_purchase  \n",
       "25485          689.76  \n",
       "68602          450.36  \n",
       "41258           76.11  \n",
       "67499         2971.40  \n",
       "33688          578.49  "
      ]
     },
     "execution_count": 106,
     "metadata": {},
     "output_type": "execute_result"
    }
   ],
   "source": [
    "df_raw.head()"
   ]
  },
  {
   "cell_type": "code",
   "execution_count": 107,
   "metadata": {},
   "outputs": [
    {
     "data": {
      "text/html": [
       "<div>\n",
       "<style scoped>\n",
       "    .dataframe tbody tr th:only-of-type {\n",
       "        vertical-align: middle;\n",
       "    }\n",
       "\n",
       "    .dataframe tbody tr th {\n",
       "        vertical-align: top;\n",
       "    }\n",
       "\n",
       "    .dataframe thead th {\n",
       "        text-align: right;\n",
       "    }\n",
       "</style>\n",
       "<table border=\"1\" class=\"dataframe\">\n",
       "  <thead>\n",
       "    <tr style=\"text-align: right;\">\n",
       "      <th></th>\n",
       "      <th>customer_unique_id</th>\n",
       "      <th>order_id</th>\n",
       "      <th>order_purchase_timestamp</th>\n",
       "      <th>waiting</th>\n",
       "      <th>customer_zip_code_prefix</th>\n",
       "      <th>payment_sequential</th>\n",
       "      <th>payment_installments</th>\n",
       "      <th>boleto</th>\n",
       "      <th>voucher</th>\n",
       "      <th>credit_card</th>\n",
       "      <th>total_purchase</th>\n",
       "      <th>order_dow_Friday</th>\n",
       "      <th>order_dow_Monday</th>\n",
       "      <th>order_dow_Saturday</th>\n",
       "      <th>order_dow_Sunday</th>\n",
       "      <th>order_dow_Thursday</th>\n",
       "      <th>order_dow_Tuesday</th>\n",
       "      <th>order_dow_Wednesday</th>\n",
       "    </tr>\n",
       "  </thead>\n",
       "  <tbody>\n",
       "    <tr>\n",
       "      <th>25485</th>\n",
       "      <td>0000f46a3911fa3c0805444483337064</td>\n",
       "      <td>b33ec3b699337181488304f362a6b734</td>\n",
       "      <td>2017-03-10 21:05:03</td>\n",
       "      <td>26.0</td>\n",
       "      <td>88115</td>\n",
       "      <td>1</td>\n",
       "      <td>8</td>\n",
       "      <td>0.0</td>\n",
       "      <td>0.0</td>\n",
       "      <td>1.0</td>\n",
       "      <td>689.76</td>\n",
       "      <td>1</td>\n",
       "      <td>0</td>\n",
       "      <td>0</td>\n",
       "      <td>0</td>\n",
       "      <td>0</td>\n",
       "      <td>0</td>\n",
       "      <td>0</td>\n",
       "    </tr>\n",
       "    <tr>\n",
       "      <th>68602</th>\n",
       "      <td>0005e1862207bf6ccc02e4228effd9a0</td>\n",
       "      <td>ae76bef74b97bcb0b3e355e60d9a6f9c</td>\n",
       "      <td>2017-03-04 23:32:12</td>\n",
       "      <td>5.0</td>\n",
       "      <td>25966</td>\n",
       "      <td>1</td>\n",
       "      <td>3</td>\n",
       "      <td>0.0</td>\n",
       "      <td>0.0</td>\n",
       "      <td>1.0</td>\n",
       "      <td>450.36</td>\n",
       "      <td>0</td>\n",
       "      <td>0</td>\n",
       "      <td>1</td>\n",
       "      <td>0</td>\n",
       "      <td>0</td>\n",
       "      <td>0</td>\n",
       "      <td>0</td>\n",
       "    </tr>\n",
       "    <tr>\n",
       "      <th>41258</th>\n",
       "      <td>00115fc7123b5310cf6d3a3aa932699e</td>\n",
       "      <td>91d1bf2b7745903cb0d17162d1bbd750</td>\n",
       "      <td>2017-01-21 21:58:35</td>\n",
       "      <td>11.0</td>\n",
       "      <td>71015</td>\n",
       "      <td>1</td>\n",
       "      <td>1</td>\n",
       "      <td>0.0</td>\n",
       "      <td>0.0</td>\n",
       "      <td>1.0</td>\n",
       "      <td>76.11</td>\n",
       "      <td>0</td>\n",
       "      <td>0</td>\n",
       "      <td>1</td>\n",
       "      <td>0</td>\n",
       "      <td>0</td>\n",
       "      <td>0</td>\n",
       "      <td>0</td>\n",
       "    </tr>\n",
       "    <tr>\n",
       "      <th>67499</th>\n",
       "      <td>0011805441c0d1b68b48002f1d005526</td>\n",
       "      <td>fb5d8b462dc9570527eff204b8a1a57b</td>\n",
       "      <td>2017-04-24 13:36:48</td>\n",
       "      <td>18.0</td>\n",
       "      <td>68639</td>\n",
       "      <td>1</td>\n",
       "      <td>10</td>\n",
       "      <td>0.0</td>\n",
       "      <td>0.0</td>\n",
       "      <td>1.0</td>\n",
       "      <td>2971.40</td>\n",
       "      <td>0</td>\n",
       "      <td>1</td>\n",
       "      <td>0</td>\n",
       "      <td>0</td>\n",
       "      <td>0</td>\n",
       "      <td>0</td>\n",
       "      <td>0</td>\n",
       "    </tr>\n",
       "    <tr>\n",
       "      <th>33688</th>\n",
       "      <td>0011857aff0e5871ce5eb429f21cdaf5</td>\n",
       "      <td>58d34816de3da57e9e07d7b34aced1b8</td>\n",
       "      <td>2017-06-28 11:08:38</td>\n",
       "      <td>8.0</td>\n",
       "      <td>9070</td>\n",
       "      <td>1</td>\n",
       "      <td>3</td>\n",
       "      <td>0.0</td>\n",
       "      <td>0.0</td>\n",
       "      <td>1.0</td>\n",
       "      <td>578.49</td>\n",
       "      <td>0</td>\n",
       "      <td>0</td>\n",
       "      <td>0</td>\n",
       "      <td>0</td>\n",
       "      <td>0</td>\n",
       "      <td>0</td>\n",
       "      <td>1</td>\n",
       "    </tr>\n",
       "  </tbody>\n",
       "</table>\n",
       "</div>"
      ],
      "text/plain": [
       "                     customer_unique_id                          order_id  \\\n",
       "25485  0000f46a3911fa3c0805444483337064  b33ec3b699337181488304f362a6b734   \n",
       "68602  0005e1862207bf6ccc02e4228effd9a0  ae76bef74b97bcb0b3e355e60d9a6f9c   \n",
       "41258  00115fc7123b5310cf6d3a3aa932699e  91d1bf2b7745903cb0d17162d1bbd750   \n",
       "67499  0011805441c0d1b68b48002f1d005526  fb5d8b462dc9570527eff204b8a1a57b   \n",
       "33688  0011857aff0e5871ce5eb429f21cdaf5  58d34816de3da57e9e07d7b34aced1b8   \n",
       "\n",
       "      order_purchase_timestamp  waiting  customer_zip_code_prefix  \\\n",
       "25485      2017-03-10 21:05:03     26.0                     88115   \n",
       "68602      2017-03-04 23:32:12      5.0                     25966   \n",
       "41258      2017-01-21 21:58:35     11.0                     71015   \n",
       "67499      2017-04-24 13:36:48     18.0                     68639   \n",
       "33688      2017-06-28 11:08:38      8.0                      9070   \n",
       "\n",
       "       payment_sequential  payment_installments  boleto  voucher  credit_card  \\\n",
       "25485                   1                     8     0.0      0.0          1.0   \n",
       "68602                   1                     3     0.0      0.0          1.0   \n",
       "41258                   1                     1     0.0      0.0          1.0   \n",
       "67499                   1                    10     0.0      0.0          1.0   \n",
       "33688                   1                     3     0.0      0.0          1.0   \n",
       "\n",
       "       total_purchase  order_dow_Friday  order_dow_Monday  order_dow_Saturday  \\\n",
       "25485          689.76                 1                 0                   0   \n",
       "68602          450.36                 0                 0                   1   \n",
       "41258           76.11                 0                 0                   1   \n",
       "67499         2971.40                 0                 1                   0   \n",
       "33688          578.49                 0                 0                   0   \n",
       "\n",
       "       order_dow_Sunday  order_dow_Thursday  order_dow_Tuesday  \\\n",
       "25485                 0                   0                  0   \n",
       "68602                 0                   0                  0   \n",
       "41258                 0                   0                  0   \n",
       "67499                 0                   0                  0   \n",
       "33688                 0                   0                  0   \n",
       "\n",
       "       order_dow_Wednesday  \n",
       "25485                    0  \n",
       "68602                    0  \n",
       "41258                    0  \n",
       "67499                    0  \n",
       "33688                    1  "
      ]
     },
     "execution_count": 107,
     "metadata": {},
     "output_type": "execute_result"
    }
   ],
   "source": [
    "# get dummies\n",
    "df_raw = pd.get_dummies(df_raw, columns=['order_dow'])\n",
    "df_raw.head()"
   ]
  },
  {
   "cell_type": "code",
   "execution_count": 108,
   "metadata": {},
   "outputs": [
    {
     "data": {
      "text/html": [
       "<div>\n",
       "<style scoped>\n",
       "    .dataframe tbody tr th:only-of-type {\n",
       "        vertical-align: middle;\n",
       "    }\n",
       "\n",
       "    .dataframe tbody tr th {\n",
       "        vertical-align: top;\n",
       "    }\n",
       "\n",
       "    .dataframe thead th {\n",
       "        text-align: right;\n",
       "    }\n",
       "</style>\n",
       "<table border=\"1\" class=\"dataframe\">\n",
       "  <thead>\n",
       "    <tr style=\"text-align: right;\">\n",
       "      <th></th>\n",
       "      <th>customer_unique_id</th>\n",
       "      <th>waiting</th>\n",
       "      <th>customer_zip_code_prefix</th>\n",
       "      <th>payment_sequential</th>\n",
       "      <th>payment_installments</th>\n",
       "      <th>boleto</th>\n",
       "      <th>voucher</th>\n",
       "      <th>credit_card</th>\n",
       "      <th>total_purchase</th>\n",
       "      <th>order_dow_Friday</th>\n",
       "      <th>order_dow_Monday</th>\n",
       "      <th>order_dow_Saturday</th>\n",
       "      <th>order_dow_Sunday</th>\n",
       "      <th>order_dow_Thursday</th>\n",
       "      <th>order_dow_Tuesday</th>\n",
       "      <th>order_dow_Wednesday</th>\n",
       "    </tr>\n",
       "  </thead>\n",
       "  <tbody>\n",
       "    <tr>\n",
       "      <th>25485</th>\n",
       "      <td>0000f46a3911fa3c0805444483337064</td>\n",
       "      <td>26.0</td>\n",
       "      <td>88115</td>\n",
       "      <td>1</td>\n",
       "      <td>8</td>\n",
       "      <td>0.0</td>\n",
       "      <td>0.0</td>\n",
       "      <td>1.0</td>\n",
       "      <td>689.76</td>\n",
       "      <td>1</td>\n",
       "      <td>0</td>\n",
       "      <td>0</td>\n",
       "      <td>0</td>\n",
       "      <td>0</td>\n",
       "      <td>0</td>\n",
       "      <td>0</td>\n",
       "    </tr>\n",
       "    <tr>\n",
       "      <th>68602</th>\n",
       "      <td>0005e1862207bf6ccc02e4228effd9a0</td>\n",
       "      <td>5.0</td>\n",
       "      <td>25966</td>\n",
       "      <td>1</td>\n",
       "      <td>3</td>\n",
       "      <td>0.0</td>\n",
       "      <td>0.0</td>\n",
       "      <td>1.0</td>\n",
       "      <td>450.36</td>\n",
       "      <td>0</td>\n",
       "      <td>0</td>\n",
       "      <td>1</td>\n",
       "      <td>0</td>\n",
       "      <td>0</td>\n",
       "      <td>0</td>\n",
       "      <td>0</td>\n",
       "    </tr>\n",
       "    <tr>\n",
       "      <th>41258</th>\n",
       "      <td>00115fc7123b5310cf6d3a3aa932699e</td>\n",
       "      <td>11.0</td>\n",
       "      <td>71015</td>\n",
       "      <td>1</td>\n",
       "      <td>1</td>\n",
       "      <td>0.0</td>\n",
       "      <td>0.0</td>\n",
       "      <td>1.0</td>\n",
       "      <td>76.11</td>\n",
       "      <td>0</td>\n",
       "      <td>0</td>\n",
       "      <td>1</td>\n",
       "      <td>0</td>\n",
       "      <td>0</td>\n",
       "      <td>0</td>\n",
       "      <td>0</td>\n",
       "    </tr>\n",
       "    <tr>\n",
       "      <th>67499</th>\n",
       "      <td>0011805441c0d1b68b48002f1d005526</td>\n",
       "      <td>18.0</td>\n",
       "      <td>68639</td>\n",
       "      <td>1</td>\n",
       "      <td>10</td>\n",
       "      <td>0.0</td>\n",
       "      <td>0.0</td>\n",
       "      <td>1.0</td>\n",
       "      <td>2971.40</td>\n",
       "      <td>0</td>\n",
       "      <td>1</td>\n",
       "      <td>0</td>\n",
       "      <td>0</td>\n",
       "      <td>0</td>\n",
       "      <td>0</td>\n",
       "      <td>0</td>\n",
       "    </tr>\n",
       "    <tr>\n",
       "      <th>33688</th>\n",
       "      <td>0011857aff0e5871ce5eb429f21cdaf5</td>\n",
       "      <td>8.0</td>\n",
       "      <td>9070</td>\n",
       "      <td>1</td>\n",
       "      <td>3</td>\n",
       "      <td>0.0</td>\n",
       "      <td>0.0</td>\n",
       "      <td>1.0</td>\n",
       "      <td>578.49</td>\n",
       "      <td>0</td>\n",
       "      <td>0</td>\n",
       "      <td>0</td>\n",
       "      <td>0</td>\n",
       "      <td>0</td>\n",
       "      <td>0</td>\n",
       "      <td>1</td>\n",
       "    </tr>\n",
       "  </tbody>\n",
       "</table>\n",
       "</div>"
      ],
      "text/plain": [
       "                     customer_unique_id  waiting  customer_zip_code_prefix  \\\n",
       "25485  0000f46a3911fa3c0805444483337064     26.0                     88115   \n",
       "68602  0005e1862207bf6ccc02e4228effd9a0      5.0                     25966   \n",
       "41258  00115fc7123b5310cf6d3a3aa932699e     11.0                     71015   \n",
       "67499  0011805441c0d1b68b48002f1d005526     18.0                     68639   \n",
       "33688  0011857aff0e5871ce5eb429f21cdaf5      8.0                      9070   \n",
       "\n",
       "       payment_sequential  payment_installments  boleto  voucher  credit_card  \\\n",
       "25485                   1                     8     0.0      0.0          1.0   \n",
       "68602                   1                     3     0.0      0.0          1.0   \n",
       "41258                   1                     1     0.0      0.0          1.0   \n",
       "67499                   1                    10     0.0      0.0          1.0   \n",
       "33688                   1                     3     0.0      0.0          1.0   \n",
       "\n",
       "       total_purchase  order_dow_Friday  order_dow_Monday  order_dow_Saturday  \\\n",
       "25485          689.76                 1                 0                   0   \n",
       "68602          450.36                 0                 0                   1   \n",
       "41258           76.11                 0                 0                   1   \n",
       "67499         2971.40                 0                 1                   0   \n",
       "33688          578.49                 0                 0                   0   \n",
       "\n",
       "       order_dow_Sunday  order_dow_Thursday  order_dow_Tuesday  \\\n",
       "25485                 0                   0                  0   \n",
       "68602                 0                   0                  0   \n",
       "41258                 0                   0                  0   \n",
       "67499                 0                   0                  0   \n",
       "33688                 0                   0                  0   \n",
       "\n",
       "       order_dow_Wednesday  \n",
       "25485                    0  \n",
       "68602                    0  \n",
       "41258                    0  \n",
       "67499                    0  \n",
       "33688                    1  "
      ]
     },
     "execution_count": 108,
     "metadata": {},
     "output_type": "execute_result"
    }
   ],
   "source": [
    "cust_dow = df_raw.drop(['order_id','order_purchase_timestamp'], axis=1)\n",
    "cust_dow.head()"
   ]
  },
  {
   "cell_type": "markdown",
   "metadata": {},
   "source": [
    "### Combine all attributes into a single dataframe"
   ]
  },
  {
   "cell_type": "code",
   "execution_count": 109,
   "metadata": {},
   "outputs": [
    {
     "data": {
      "text/plain": [
       "((13855, 2), (13855, 2), (14199, 16))"
      ]
     },
     "execution_count": 109,
     "metadata": {},
     "output_type": "execute_result"
    }
   ],
   "source": [
    "# let's check the number of records in each dataframe first\n",
    "cust_recency.shape, cust_orders.shape, cust_dow.shape"
   ]
  },
  {
   "cell_type": "code",
   "execution_count": 110,
   "metadata": {},
   "outputs": [
    {
     "data": {
      "text/plain": [
       "14199"
      ]
     },
     "execution_count": 110,
     "metadata": {},
     "output_type": "execute_result"
    }
   ],
   "source": [
    "# combine (merge) `cust_recency` with `cust_orders` so that we have both attributes in one dataset\n",
    "df = pd.merge(cust_recency, cust_orders, on='customer_unique_id').merge(cust_dow, on='customer_unique_id')\n",
    "len(df)"
   ]
  },
  {
   "cell_type": "code",
   "execution_count": 111,
   "metadata": {},
   "outputs": [
    {
     "data": {
      "text/html": [
       "<div>\n",
       "<style scoped>\n",
       "    .dataframe tbody tr th:only-of-type {\n",
       "        vertical-align: middle;\n",
       "    }\n",
       "\n",
       "    .dataframe tbody tr th {\n",
       "        vertical-align: top;\n",
       "    }\n",
       "\n",
       "    .dataframe thead th {\n",
       "        text-align: right;\n",
       "    }\n",
       "</style>\n",
       "<table border=\"1\" class=\"dataframe\">\n",
       "  <thead>\n",
       "    <tr style=\"text-align: right;\">\n",
       "      <th></th>\n",
       "      <th>customer_unique_id</th>\n",
       "      <th>order_recency</th>\n",
       "      <th>total_orders</th>\n",
       "      <th>waiting</th>\n",
       "      <th>customer_zip_code_prefix</th>\n",
       "      <th>payment_sequential</th>\n",
       "      <th>payment_installments</th>\n",
       "      <th>boleto</th>\n",
       "      <th>voucher</th>\n",
       "      <th>credit_card</th>\n",
       "      <th>total_purchase</th>\n",
       "      <th>order_dow_Friday</th>\n",
       "      <th>order_dow_Monday</th>\n",
       "      <th>order_dow_Saturday</th>\n",
       "      <th>order_dow_Sunday</th>\n",
       "      <th>order_dow_Thursday</th>\n",
       "      <th>order_dow_Tuesday</th>\n",
       "      <th>order_dow_Wednesday</th>\n",
       "    </tr>\n",
       "  </thead>\n",
       "  <tbody>\n",
       "    <tr>\n",
       "      <th>0</th>\n",
       "      <td>0000f46a3911fa3c0805444483337064</td>\n",
       "      <td>112</td>\n",
       "      <td>1</td>\n",
       "      <td>26.0</td>\n",
       "      <td>88115</td>\n",
       "      <td>1</td>\n",
       "      <td>8</td>\n",
       "      <td>0.0</td>\n",
       "      <td>0.0</td>\n",
       "      <td>1.0</td>\n",
       "      <td>689.76</td>\n",
       "      <td>1</td>\n",
       "      <td>0</td>\n",
       "      <td>0</td>\n",
       "      <td>0</td>\n",
       "      <td>0</td>\n",
       "      <td>0</td>\n",
       "      <td>0</td>\n",
       "    </tr>\n",
       "    <tr>\n",
       "      <th>1</th>\n",
       "      <td>0005e1862207bf6ccc02e4228effd9a0</td>\n",
       "      <td>118</td>\n",
       "      <td>1</td>\n",
       "      <td>5.0</td>\n",
       "      <td>25966</td>\n",
       "      <td>1</td>\n",
       "      <td>3</td>\n",
       "      <td>0.0</td>\n",
       "      <td>0.0</td>\n",
       "      <td>1.0</td>\n",
       "      <td>450.36</td>\n",
       "      <td>0</td>\n",
       "      <td>0</td>\n",
       "      <td>1</td>\n",
       "      <td>0</td>\n",
       "      <td>0</td>\n",
       "      <td>0</td>\n",
       "      <td>0</td>\n",
       "    </tr>\n",
       "    <tr>\n",
       "      <th>2</th>\n",
       "      <td>00115fc7123b5310cf6d3a3aa932699e</td>\n",
       "      <td>160</td>\n",
       "      <td>1</td>\n",
       "      <td>11.0</td>\n",
       "      <td>71015</td>\n",
       "      <td>1</td>\n",
       "      <td>1</td>\n",
       "      <td>0.0</td>\n",
       "      <td>0.0</td>\n",
       "      <td>1.0</td>\n",
       "      <td>76.11</td>\n",
       "      <td>0</td>\n",
       "      <td>0</td>\n",
       "      <td>1</td>\n",
       "      <td>0</td>\n",
       "      <td>0</td>\n",
       "      <td>0</td>\n",
       "      <td>0</td>\n",
       "    </tr>\n",
       "    <tr>\n",
       "      <th>3</th>\n",
       "      <td>0011805441c0d1b68b48002f1d005526</td>\n",
       "      <td>67</td>\n",
       "      <td>1</td>\n",
       "      <td>18.0</td>\n",
       "      <td>68639</td>\n",
       "      <td>1</td>\n",
       "      <td>10</td>\n",
       "      <td>0.0</td>\n",
       "      <td>0.0</td>\n",
       "      <td>1.0</td>\n",
       "      <td>2971.40</td>\n",
       "      <td>0</td>\n",
       "      <td>1</td>\n",
       "      <td>0</td>\n",
       "      <td>0</td>\n",
       "      <td>0</td>\n",
       "      <td>0</td>\n",
       "      <td>0</td>\n",
       "    </tr>\n",
       "    <tr>\n",
       "      <th>4</th>\n",
       "      <td>0011857aff0e5871ce5eb429f21cdaf5</td>\n",
       "      <td>2</td>\n",
       "      <td>1</td>\n",
       "      <td>8.0</td>\n",
       "      <td>9070</td>\n",
       "      <td>1</td>\n",
       "      <td>3</td>\n",
       "      <td>0.0</td>\n",
       "      <td>0.0</td>\n",
       "      <td>1.0</td>\n",
       "      <td>578.49</td>\n",
       "      <td>0</td>\n",
       "      <td>0</td>\n",
       "      <td>0</td>\n",
       "      <td>0</td>\n",
       "      <td>0</td>\n",
       "      <td>0</td>\n",
       "      <td>1</td>\n",
       "    </tr>\n",
       "  </tbody>\n",
       "</table>\n",
       "</div>"
      ],
      "text/plain": [
       "                 customer_unique_id  order_recency  total_orders  waiting  \\\n",
       "0  0000f46a3911fa3c0805444483337064            112             1     26.0   \n",
       "1  0005e1862207bf6ccc02e4228effd9a0            118             1      5.0   \n",
       "2  00115fc7123b5310cf6d3a3aa932699e            160             1     11.0   \n",
       "3  0011805441c0d1b68b48002f1d005526             67             1     18.0   \n",
       "4  0011857aff0e5871ce5eb429f21cdaf5              2             1      8.0   \n",
       "\n",
       "   customer_zip_code_prefix  payment_sequential  payment_installments  boleto  \\\n",
       "0                     88115                   1                     8     0.0   \n",
       "1                     25966                   1                     3     0.0   \n",
       "2                     71015                   1                     1     0.0   \n",
       "3                     68639                   1                    10     0.0   \n",
       "4                      9070                   1                     3     0.0   \n",
       "\n",
       "   voucher  credit_card  total_purchase  order_dow_Friday  order_dow_Monday  \\\n",
       "0      0.0          1.0          689.76                 1                 0   \n",
       "1      0.0          1.0          450.36                 0                 0   \n",
       "2      0.0          1.0           76.11                 0                 0   \n",
       "3      0.0          1.0         2971.40                 0                 1   \n",
       "4      0.0          1.0          578.49                 0                 0   \n",
       "\n",
       "   order_dow_Saturday  order_dow_Sunday  order_dow_Thursday  \\\n",
       "0                   0                 0                   0   \n",
       "1                   1                 0                   0   \n",
       "2                   1                 0                   0   \n",
       "3                   0                 0                   0   \n",
       "4                   0                 0                   0   \n",
       "\n",
       "   order_dow_Tuesday  order_dow_Wednesday  \n",
       "0                  0                    0  \n",
       "1                  0                    0  \n",
       "2                  0                    0  \n",
       "3                  0                    0  \n",
       "4                  0                    1  "
      ]
     },
     "execution_count": 111,
     "metadata": {},
     "output_type": "execute_result"
    }
   ],
   "source": [
    "df.head()"
   ]
  },
  {
   "cell_type": "markdown",
   "metadata": {},
   "source": [
    "Exclude customers who have not placed an order within the past one year."
   ]
  },
  {
   "cell_type": "code",
   "execution_count": 112,
   "metadata": {},
   "outputs": [
    {
     "data": {
      "text/plain": [
       "14199"
      ]
     },
     "execution_count": 112,
     "metadata": {},
     "output_type": "execute_result"
    }
   ],
   "source": [
    "df = df[df['order_recency'] <= 365]\n",
    "len(df)"
   ]
  },
  {
   "cell_type": "code",
   "execution_count": 113,
   "metadata": {},
   "outputs": [],
   "source": [
    "df.to_csv('df.csv',index=False)"
   ]
  },
  {
   "cell_type": "code",
   "execution_count": 114,
   "metadata": {},
   "outputs": [
    {
     "name": "stdout",
     "output_type": "stream",
     "text": [
      "customer_unique_id\n",
      "order_recency\n",
      "total_orders\n",
      "waiting\n",
      "customer_zip_code_prefix\n",
      "payment_sequential\n",
      "payment_installments\n",
      "boleto\n",
      "voucher\n",
      "credit_card\n",
      "total_purchase\n",
      "order_dow_Friday\n",
      "order_dow_Monday\n",
      "order_dow_Saturday\n",
      "order_dow_Sunday\n",
      "order_dow_Thursday\n",
      "order_dow_Tuesday\n",
      "order_dow_Wednesday\n"
     ]
    }
   ],
   "source": [
    "# iterating the columns to show all available attributes created for the data set above:\n",
    "#Payment seq,Payment installment,Total purchase,Waiting,Zip code,Boleto,Voucher,Credit card\n",
    "for col in df.columns: \n",
    "    print(col)"
   ]
  },
  {
   "cell_type": "markdown",
   "metadata": {},
   "source": [
    "### Question #3: Create the dependent variable, purch, using the following definition: did the customer make at least one purchase during the prediction window? If a customer did make a purchase within the prediction window, then set purch to 1, otherwise set it to 0. (This is the same definition that we used in the class.)"
   ]
  },
  {
   "cell_type": "markdown",
   "metadata": {},
   "source": [
    "### Assign labels (aka the target variable or the dependent variable)"
   ]
  },
  {
   "cell_type": "markdown",
   "metadata": {},
   "source": [
    "For this exercise, we will assume that the objective of the model is to predict whether a customer will make *at least one purchase* in the future (i.e., within the target window of the model)."
   ]
  },
  {
   "cell_type": "markdown",
   "metadata": {},
   "source": [
    "**Step 1:** Isolate all orders that were placed within the prediction window."
   ]
  },
  {
   "cell_type": "code",
   "execution_count": 115,
   "metadata": {},
   "outputs": [
    {
     "data": {
      "text/plain": [
       "76020"
      ]
     },
     "execution_count": 115,
     "metadata": {},
     "output_type": "execute_result"
    }
   ],
   "source": [
    "start_date = '06-30-2017'\n",
    "end_date = '08-01-2018'\n",
    "mask = (orders['order_purchase_timestamp'] > start_date) & (orders['order_purchase_timestamp'] <= end_date)\n",
    "\n",
    "target_events_raw = orders[mask]\n",
    "\n",
    "len(target_events_raw)"
   ]
  },
  {
   "cell_type": "code",
   "execution_count": 116,
   "metadata": {
    "scrolled": true
   },
   "outputs": [],
   "source": [
    "target_events_raw\n",
    "target_events_raw.to_csv('tgt.csv',index=False)\n",
    "df.to_csv('df.csv',index=False)"
   ]
  },
  {
   "cell_type": "code",
   "execution_count": 117,
   "metadata": {},
   "outputs": [
    {
     "name": "stdout",
     "output_type": "stream",
     "text": [
      "2017-06-30 00:42:53 2018-07-31 23:54:20\n"
     ]
    }
   ],
   "source": [
    "# confirm the min and max dates are within the month of August 2018\n",
    "\n",
    "print (target_events_raw['order_purchase_timestamp'].min(), target_events_raw['order_purchase_timestamp'].max())"
   ]
  },
  {
   "cell_type": "markdown",
   "metadata": {},
   "source": [
    "**Step 2:** Summarize data to get one record per customer."
   ]
  },
  {
   "cell_type": "code",
   "execution_count": 118,
   "metadata": {},
   "outputs": [
    {
     "data": {
      "text/html": [
       "<div>\n",
       "<style scoped>\n",
       "    .dataframe tbody tr th:only-of-type {\n",
       "        vertical-align: middle;\n",
       "    }\n",
       "\n",
       "    .dataframe tbody tr th {\n",
       "        vertical-align: top;\n",
       "    }\n",
       "\n",
       "    .dataframe thead th {\n",
       "        text-align: right;\n",
       "    }\n",
       "</style>\n",
       "<table border=\"1\" class=\"dataframe\">\n",
       "  <thead>\n",
       "    <tr style=\"text-align: right;\">\n",
       "      <th></th>\n",
       "      <th>customer_unique_id</th>\n",
       "      <th>purch</th>\n",
       "    </tr>\n",
       "  </thead>\n",
       "  <tbody>\n",
       "    <tr>\n",
       "      <th>0</th>\n",
       "      <td>0000366f3b9a7992bf8c76cfdf3221e2</td>\n",
       "      <td>1</td>\n",
       "    </tr>\n",
       "    <tr>\n",
       "      <th>1</th>\n",
       "      <td>0000b849f77a49e4a4ce2b2a4ca5be3f</td>\n",
       "      <td>1</td>\n",
       "    </tr>\n",
       "    <tr>\n",
       "      <th>2</th>\n",
       "      <td>0000f6ccb0745a6a4b88665a16c9f078</td>\n",
       "      <td>1</td>\n",
       "    </tr>\n",
       "    <tr>\n",
       "      <th>3</th>\n",
       "      <td>0004aac84e0df4da2b147fca70cf8255</td>\n",
       "      <td>1</td>\n",
       "    </tr>\n",
       "    <tr>\n",
       "      <th>4</th>\n",
       "      <td>0004bd2a26a76fe21f786e4fbd80607f</td>\n",
       "      <td>1</td>\n",
       "    </tr>\n",
       "  </tbody>\n",
       "</table>\n",
       "</div>"
      ],
      "text/plain": [
       "                 customer_unique_id  purch\n",
       "0  0000366f3b9a7992bf8c76cfdf3221e2      1\n",
       "1  0000b849f77a49e4a4ce2b2a4ca5be3f      1\n",
       "2  0000f6ccb0745a6a4b88665a16c9f078      1\n",
       "3  0004aac84e0df4da2b147fca70cf8255      1\n",
       "4  0004bd2a26a76fe21f786e4fbd80607f      1"
      ]
     },
     "execution_count": 118,
     "metadata": {},
     "output_type": "execute_result"
    }
   ],
   "source": [
    "# count the number of orders (we will convert this into a binary flag later)\n",
    "\n",
    "target_events = target_events_raw.groupby('customer_unique_id').size().reset_index().rename(columns={0: 'purch'})\n",
    "\n",
    "target_events.head()"
   ]
  },
  {
   "cell_type": "code",
   "execution_count": 119,
   "metadata": {},
   "outputs": [
    {
     "name": "stdout",
     "output_type": "stream",
     "text": [
      "Number of customers who made at least one purchase durnig the prediction window: 73,831\n"
     ]
    }
   ],
   "source": [
    "print(f'Number of customers who made at least one purchase durnig the prediction window: {len(target_events):,}')"
   ]
  },
  {
   "cell_type": "markdown",
   "metadata": {},
   "source": [
    "**Step 3:** Merge this dataframe with the `attr` dataframe to create the modeling dataset."
   ]
  },
  {
   "cell_type": "code",
   "execution_count": 120,
   "metadata": {},
   "outputs": [
    {
     "data": {
      "text/plain": [
       "(14199, 19)"
      ]
     },
     "execution_count": 120,
     "metadata": {},
     "output_type": "execute_result"
    }
   ],
   "source": [
    "# merge `target_events` with the dataframe that contains customer attributes\n",
    "\n",
    "df = pd.merge(df, target_events, how='left', on='customer_unique_id')\n",
    "\n",
    "df.shape"
   ]
  },
  {
   "cell_type": "code",
   "execution_count": 121,
   "metadata": {},
   "outputs": [
    {
     "data": {
      "text/html": [
       "<div>\n",
       "<style scoped>\n",
       "    .dataframe tbody tr th:only-of-type {\n",
       "        vertical-align: middle;\n",
       "    }\n",
       "\n",
       "    .dataframe tbody tr th {\n",
       "        vertical-align: top;\n",
       "    }\n",
       "\n",
       "    .dataframe thead th {\n",
       "        text-align: right;\n",
       "    }\n",
       "</style>\n",
       "<table border=\"1\" class=\"dataframe\">\n",
       "  <thead>\n",
       "    <tr style=\"text-align: right;\">\n",
       "      <th></th>\n",
       "      <th>customer_unique_id</th>\n",
       "      <th>order_recency</th>\n",
       "      <th>total_orders</th>\n",
       "      <th>waiting</th>\n",
       "      <th>customer_zip_code_prefix</th>\n",
       "      <th>payment_sequential</th>\n",
       "      <th>payment_installments</th>\n",
       "      <th>boleto</th>\n",
       "      <th>voucher</th>\n",
       "      <th>credit_card</th>\n",
       "      <th>total_purchase</th>\n",
       "      <th>order_dow_Friday</th>\n",
       "      <th>order_dow_Monday</th>\n",
       "      <th>order_dow_Saturday</th>\n",
       "      <th>order_dow_Sunday</th>\n",
       "      <th>order_dow_Thursday</th>\n",
       "      <th>order_dow_Tuesday</th>\n",
       "      <th>order_dow_Wednesday</th>\n",
       "      <th>purch</th>\n",
       "    </tr>\n",
       "  </thead>\n",
       "  <tbody>\n",
       "    <tr>\n",
       "      <th>0</th>\n",
       "      <td>0000f46a3911fa3c0805444483337064</td>\n",
       "      <td>112</td>\n",
       "      <td>1</td>\n",
       "      <td>26.0</td>\n",
       "      <td>88115</td>\n",
       "      <td>1</td>\n",
       "      <td>8</td>\n",
       "      <td>0.0</td>\n",
       "      <td>0.0</td>\n",
       "      <td>1.0</td>\n",
       "      <td>689.76</td>\n",
       "      <td>1</td>\n",
       "      <td>0</td>\n",
       "      <td>0</td>\n",
       "      <td>0</td>\n",
       "      <td>0</td>\n",
       "      <td>0</td>\n",
       "      <td>0</td>\n",
       "      <td>NaN</td>\n",
       "    </tr>\n",
       "    <tr>\n",
       "      <th>1</th>\n",
       "      <td>0005e1862207bf6ccc02e4228effd9a0</td>\n",
       "      <td>118</td>\n",
       "      <td>1</td>\n",
       "      <td>5.0</td>\n",
       "      <td>25966</td>\n",
       "      <td>1</td>\n",
       "      <td>3</td>\n",
       "      <td>0.0</td>\n",
       "      <td>0.0</td>\n",
       "      <td>1.0</td>\n",
       "      <td>450.36</td>\n",
       "      <td>0</td>\n",
       "      <td>0</td>\n",
       "      <td>1</td>\n",
       "      <td>0</td>\n",
       "      <td>0</td>\n",
       "      <td>0</td>\n",
       "      <td>0</td>\n",
       "      <td>NaN</td>\n",
       "    </tr>\n",
       "    <tr>\n",
       "      <th>2</th>\n",
       "      <td>00115fc7123b5310cf6d3a3aa932699e</td>\n",
       "      <td>160</td>\n",
       "      <td>1</td>\n",
       "      <td>11.0</td>\n",
       "      <td>71015</td>\n",
       "      <td>1</td>\n",
       "      <td>1</td>\n",
       "      <td>0.0</td>\n",
       "      <td>0.0</td>\n",
       "      <td>1.0</td>\n",
       "      <td>76.11</td>\n",
       "      <td>0</td>\n",
       "      <td>0</td>\n",
       "      <td>1</td>\n",
       "      <td>0</td>\n",
       "      <td>0</td>\n",
       "      <td>0</td>\n",
       "      <td>0</td>\n",
       "      <td>NaN</td>\n",
       "    </tr>\n",
       "    <tr>\n",
       "      <th>3</th>\n",
       "      <td>0011805441c0d1b68b48002f1d005526</td>\n",
       "      <td>67</td>\n",
       "      <td>1</td>\n",
       "      <td>18.0</td>\n",
       "      <td>68639</td>\n",
       "      <td>1</td>\n",
       "      <td>10</td>\n",
       "      <td>0.0</td>\n",
       "      <td>0.0</td>\n",
       "      <td>1.0</td>\n",
       "      <td>2971.40</td>\n",
       "      <td>0</td>\n",
       "      <td>1</td>\n",
       "      <td>0</td>\n",
       "      <td>0</td>\n",
       "      <td>0</td>\n",
       "      <td>0</td>\n",
       "      <td>0</td>\n",
       "      <td>NaN</td>\n",
       "    </tr>\n",
       "    <tr>\n",
       "      <th>4</th>\n",
       "      <td>0011857aff0e5871ce5eb429f21cdaf5</td>\n",
       "      <td>2</td>\n",
       "      <td>1</td>\n",
       "      <td>8.0</td>\n",
       "      <td>9070</td>\n",
       "      <td>1</td>\n",
       "      <td>3</td>\n",
       "      <td>0.0</td>\n",
       "      <td>0.0</td>\n",
       "      <td>1.0</td>\n",
       "      <td>578.49</td>\n",
       "      <td>0</td>\n",
       "      <td>0</td>\n",
       "      <td>0</td>\n",
       "      <td>0</td>\n",
       "      <td>0</td>\n",
       "      <td>0</td>\n",
       "      <td>1</td>\n",
       "      <td>NaN</td>\n",
       "    </tr>\n",
       "  </tbody>\n",
       "</table>\n",
       "</div>"
      ],
      "text/plain": [
       "                 customer_unique_id  order_recency  total_orders  waiting  \\\n",
       "0  0000f46a3911fa3c0805444483337064            112             1     26.0   \n",
       "1  0005e1862207bf6ccc02e4228effd9a0            118             1      5.0   \n",
       "2  00115fc7123b5310cf6d3a3aa932699e            160             1     11.0   \n",
       "3  0011805441c0d1b68b48002f1d005526             67             1     18.0   \n",
       "4  0011857aff0e5871ce5eb429f21cdaf5              2             1      8.0   \n",
       "\n",
       "   customer_zip_code_prefix  payment_sequential  payment_installments  boleto  \\\n",
       "0                     88115                   1                     8     0.0   \n",
       "1                     25966                   1                     3     0.0   \n",
       "2                     71015                   1                     1     0.0   \n",
       "3                     68639                   1                    10     0.0   \n",
       "4                      9070                   1                     3     0.0   \n",
       "\n",
       "   voucher  credit_card  total_purchase  order_dow_Friday  order_dow_Monday  \\\n",
       "0      0.0          1.0          689.76                 1                 0   \n",
       "1      0.0          1.0          450.36                 0                 0   \n",
       "2      0.0          1.0           76.11                 0                 0   \n",
       "3      0.0          1.0         2971.40                 0                 1   \n",
       "4      0.0          1.0          578.49                 0                 0   \n",
       "\n",
       "   order_dow_Saturday  order_dow_Sunday  order_dow_Thursday  \\\n",
       "0                   0                 0                   0   \n",
       "1                   1                 0                   0   \n",
       "2                   1                 0                   0   \n",
       "3                   0                 0                   0   \n",
       "4                   0                 0                   0   \n",
       "\n",
       "   order_dow_Tuesday  order_dow_Wednesday  purch  \n",
       "0                  0                    0    NaN  \n",
       "1                  0                    0    NaN  \n",
       "2                  0                    0    NaN  \n",
       "3                  0                    0    NaN  \n",
       "4                  0                    1    NaN  "
      ]
     },
     "execution_count": 121,
     "metadata": {},
     "output_type": "execute_result"
    }
   ],
   "source": [
    "df.head()"
   ]
  },
  {
   "cell_type": "code",
   "execution_count": 122,
   "metadata": {},
   "outputs": [
    {
     "data": {
      "text/plain": [
       "1.0     445\n",
       "2.0      40\n",
       "3.0       5\n",
       "11.0      1\n",
       "5.0       1\n",
       "4.0       1\n",
       "Name: purch, dtype: int64"
      ]
     },
     "execution_count": 122,
     "metadata": {},
     "output_type": "execute_result"
    }
   ],
   "source": [
    "df.purch.value_counts()"
   ]
  },
  {
   "cell_type": "markdown",
   "metadata": {},
   "source": [
    "We need to convert this variable into a binary flag."
   ]
  },
  {
   "cell_type": "markdown",
   "metadata": {},
   "source": [
    "**Step 4:** Set the target variable to 1 if at least one purchase was made, 0 otherwise."
   ]
  },
  {
   "cell_type": "code",
   "execution_count": 123,
   "metadata": {},
   "outputs": [
    {
     "data": {
      "text/plain": [
       "0    13706\n",
       "1      493\n",
       "Name: purch, dtype: int64"
      ]
     },
     "execution_count": 123,
     "metadata": {},
     "output_type": "execute_result"
    }
   ],
   "source": [
    "# create the binary target flag\n",
    "\n",
    "df['purch'] = [1 if x > 0 else 0 for x in df['purch']]\n",
    "\n",
    "df.purch.value_counts()"
   ]
  },
  {
   "cell_type": "code",
   "execution_count": 124,
   "metadata": {},
   "outputs": [
    {
     "data": {
      "text/plain": [
       "0    0.965279\n",
       "1    0.034721\n",
       "Name: purch, dtype: float64"
      ]
     },
     "execution_count": 124,
     "metadata": {},
     "output_type": "execute_result"
    }
   ],
   "source": [
    "# % distribution of the target flag\n",
    "\n",
    "df.purch.value_counts() / len(df)"
   ]
  },
  {
   "cell_type": "markdown",
   "metadata": {},
   "source": [
    "There are two issues here: (1) the target event is extremely rare, and (2) the number of target events is also extremely small. There are several ways to circumvent these issues, but for now we will proceed with this dataset. "
   ]
  },
  {
   "cell_type": "code",
   "execution_count": 125,
   "metadata": {},
   "outputs": [
    {
     "data": {
      "text/plain": [
       "order_recency              -0.080542\n",
       "total_orders                0.027830\n",
       "waiting                    -0.012079\n",
       "customer_zip_code_prefix    0.000500\n",
       "payment_sequential         -0.005086\n",
       "payment_installments        0.035238\n",
       "boleto                     -0.019485\n",
       "voucher                     0.005221\n",
       "credit_card                 0.018997\n",
       "total_purchase              0.006867\n",
       "order_dow_Friday            0.080240\n",
       "order_dow_Monday           -0.030008\n",
       "order_dow_Saturday         -0.011716\n",
       "order_dow_Sunday           -0.009910\n",
       "order_dow_Thursday         -0.007923\n",
       "order_dow_Tuesday          -0.020309\n",
       "order_dow_Wednesday         0.001530\n",
       "purch                       1.000000\n",
       "Name: purch, dtype: float64"
      ]
     },
     "execution_count": 125,
     "metadata": {},
     "output_type": "execute_result"
    }
   ],
   "source": [
    "# check the correlations\n",
    "\n",
    "df.corr()['purch']"
   ]
  },
  {
   "cell_type": "markdown",
   "metadata": {},
   "source": [
    "Before moving on to model building, lets create a two-axis plot to view the purchase rates by recency."
   ]
  },
  {
   "cell_type": "code",
   "execution_count": 126,
   "metadata": {},
   "outputs": [
    {
     "data": {
      "image/png": "[encoded data removed]",
      "text/plain": [
       "<Figure size 864x648 with 2 Axes>"
      ]
     },
     "metadata": {},
     "output_type": "display_data"
    }
   ],
   "source": [
    "purch_rate_by_recency = df.groupby('order_recency')['purch'].mean().reset_index()\n",
    "purch_rate_by_recency['orders'] = df.groupby('order_recency').size().reset_index()[0]\n",
    "\n",
    "sns.set(style = 'dark')\n",
    "f, ax = plt.subplots(figsize = (12, 9))\n",
    "\n",
    "ax2 = ax.twinx()\n",
    "\n",
    "ax.bar(purch_rate_by_recency['order_recency'], purch_rate_by_recency['orders'], color='teal', alpha=0.3)\n",
    "\n",
    "ax2.plot(purch_rate_by_recency['order_recency'], purch_rate_by_recency['purch'], \n",
    "         color='orangered', marker='o', markersize=5, lw=0)\n",
    "\n",
    "#ax2.set_ylabel('Average Populatiry', fontsize = 14, color='orangered', weight='bold')\n",
    "ax.set_xlabel('Days Since the Most Recent Order', fontsize=14, weight='bold')\n",
    "ax.set_ylabel('Number of Customers', fontsize=14, weight='bold', color='teal')\n",
    "ax2.set_ylabel('Average Purchase Rate', fontsize = 14, color='orangered', weight='bold')\n",
    "\n",
    "plt.show()"
   ]
  },
  {
   "cell_type": "code",
   "execution_count": 127,
   "metadata": {},
   "outputs": [
    {
     "data": {
      "text/html": [
       "<div>\n",
       "<style scoped>\n",
       "    .dataframe tbody tr th:only-of-type {\n",
       "        vertical-align: middle;\n",
       "    }\n",
       "\n",
       "    .dataframe tbody tr th {\n",
       "        vertical-align: top;\n",
       "    }\n",
       "\n",
       "    .dataframe thead th {\n",
       "        text-align: right;\n",
       "    }\n",
       "</style>\n",
       "<table border=\"1\" class=\"dataframe\">\n",
       "  <thead>\n",
       "    <tr style=\"text-align: right;\">\n",
       "      <th></th>\n",
       "      <th>order_recency</th>\n",
       "      <th>purch</th>\n",
       "      <th>orders</th>\n",
       "    </tr>\n",
       "  </thead>\n",
       "  <tbody>\n",
       "    <tr>\n",
       "      <th>0</th>\n",
       "      <td>0</td>\n",
       "      <td>1.000000</td>\n",
       "      <td>94</td>\n",
       "    </tr>\n",
       "    <tr>\n",
       "      <th>1</th>\n",
       "      <td>1</td>\n",
       "      <td>0.052632</td>\n",
       "      <td>114</td>\n",
       "    </tr>\n",
       "    <tr>\n",
       "      <th>2</th>\n",
       "      <td>2</td>\n",
       "      <td>0.051282</td>\n",
       "      <td>117</td>\n",
       "    </tr>\n",
       "    <tr>\n",
       "      <th>3</th>\n",
       "      <td>3</td>\n",
       "      <td>0.027972</td>\n",
       "      <td>143</td>\n",
       "    </tr>\n",
       "    <tr>\n",
       "      <th>4</th>\n",
       "      <td>4</td>\n",
       "      <td>0.029851</td>\n",
       "      <td>67</td>\n",
       "    </tr>\n",
       "  </tbody>\n",
       "</table>\n",
       "</div>"
      ],
      "text/plain": [
       "   order_recency     purch  orders\n",
       "0              0  1.000000      94\n",
       "1              1  0.052632     114\n",
       "2              2  0.051282     117\n",
       "3              3  0.027972     143\n",
       "4              4  0.029851      67"
      ]
     },
     "execution_count": 127,
     "metadata": {},
     "output_type": "execute_result"
    }
   ],
   "source": [
    "purch_rate_by_recency.head()"
   ]
  },
  {
   "cell_type": "markdown",
   "metadata": {},
   "source": [
    "### Questions#4. Split the modeling set into two equal partitions: ‘train’ and ‘test’.\n",
    "#### a) For 2 extra credits: Perform this task without using the sklearn.model_selection.train_test_split() function"
   ]
  },
  {
   "cell_type": "code",
   "execution_count": 128,
   "metadata": {},
   "outputs": [
    {
     "data": {
      "text/plain": [
       "Index(['customer_unique_id', 'order_recency', 'total_orders', 'waiting',\n",
       "       'customer_zip_code_prefix', 'payment_sequential',\n",
       "       'payment_installments', 'boleto', 'voucher', 'credit_card',\n",
       "       'total_purchase', 'order_dow_Friday', 'order_dow_Monday',\n",
       "       'order_dow_Saturday', 'order_dow_Sunday', 'order_dow_Thursday',\n",
       "       'order_dow_Tuesday', 'order_dow_Wednesday', 'purch'],\n",
       "      dtype='object')"
      ]
     },
     "execution_count": 128,
     "metadata": {},
     "output_type": "execute_result"
    }
   ],
   "source": [
    "df.columns"
   ]
  },
  {
   "cell_type": "code",
   "execution_count": 129,
   "metadata": {},
   "outputs": [
    {
     "data": {
      "text/html": [
       "<div>\n",
       "<style scoped>\n",
       "    .dataframe tbody tr th:only-of-type {\n",
       "        vertical-align: middle;\n",
       "    }\n",
       "\n",
       "    .dataframe tbody tr th {\n",
       "        vertical-align: top;\n",
       "    }\n",
       "\n",
       "    .dataframe thead th {\n",
       "        text-align: right;\n",
       "    }\n",
       "</style>\n",
       "<table border=\"1\" class=\"dataframe\">\n",
       "  <thead>\n",
       "    <tr style=\"text-align: right;\">\n",
       "      <th></th>\n",
       "      <th>order_recency</th>\n",
       "      <th>total_orders</th>\n",
       "      <th>waiting</th>\n",
       "      <th>customer_zip_code_prefix</th>\n",
       "      <th>payment_sequential</th>\n",
       "      <th>payment_installments</th>\n",
       "      <th>boleto</th>\n",
       "      <th>voucher</th>\n",
       "      <th>credit_card</th>\n",
       "      <th>total_purchase</th>\n",
       "      <th>order_dow_Friday</th>\n",
       "      <th>order_dow_Monday</th>\n",
       "      <th>order_dow_Saturday</th>\n",
       "      <th>order_dow_Sunday</th>\n",
       "      <th>order_dow_Thursday</th>\n",
       "      <th>order_dow_Tuesday</th>\n",
       "      <th>order_dow_Wednesday</th>\n",
       "      <th>purch</th>\n",
       "    </tr>\n",
       "  </thead>\n",
       "  <tbody>\n",
       "    <tr>\n",
       "      <th>count</th>\n",
       "      <td>14199.000000</td>\n",
       "      <td>14199.000000</td>\n",
       "      <td>14198.000000</td>\n",
       "      <td>14199.000000</td>\n",
       "      <td>14199.000000</td>\n",
       "      <td>14199.000000</td>\n",
       "      <td>14199.000000</td>\n",
       "      <td>14199.000000</td>\n",
       "      <td>14199.00000</td>\n",
       "      <td>14199.000000</td>\n",
       "      <td>14199.000000</td>\n",
       "      <td>14199.000000</td>\n",
       "      <td>14199.000000</td>\n",
       "      <td>14199.000000</td>\n",
       "      <td>14199.000000</td>\n",
       "      <td>14199.000000</td>\n",
       "      <td>14199.000000</td>\n",
       "      <td>14199.000000</td>\n",
       "    </tr>\n",
       "    <tr>\n",
       "      <th>mean</th>\n",
       "      <td>74.564617</td>\n",
       "      <td>1.053807</td>\n",
       "      <td>12.870545</td>\n",
       "      <td>37111.392070</td>\n",
       "      <td>1.226354</td>\n",
       "      <td>3.152757</td>\n",
       "      <td>0.216776</td>\n",
       "      <td>0.045003</td>\n",
       "      <td>0.75618</td>\n",
       "      <td>720.248598</td>\n",
       "      <td>0.138038</td>\n",
       "      <td>0.161702</td>\n",
       "      <td>0.108458</td>\n",
       "      <td>0.122614</td>\n",
       "      <td>0.155081</td>\n",
       "      <td>0.158814</td>\n",
       "      <td>0.155293</td>\n",
       "      <td>0.034721</td>\n",
       "    </tr>\n",
       "    <tr>\n",
       "      <th>std</th>\n",
       "      <td>52.510129</td>\n",
       "      <td>0.269198</td>\n",
       "      <td>10.643963</td>\n",
       "      <td>30060.565193</td>\n",
       "      <td>4.129698</td>\n",
       "      <td>2.856990</td>\n",
       "      <td>0.412063</td>\n",
       "      <td>0.207318</td>\n",
       "      <td>0.42940</td>\n",
       "      <td>1954.655539</td>\n",
       "      <td>0.344952</td>\n",
       "      <td>0.368190</td>\n",
       "      <td>0.310969</td>\n",
       "      <td>0.328005</td>\n",
       "      <td>0.361995</td>\n",
       "      <td>0.365515</td>\n",
       "      <td>0.362196</td>\n",
       "      <td>0.183078</td>\n",
       "    </tr>\n",
       "    <tr>\n",
       "      <th>min</th>\n",
       "      <td>0.000000</td>\n",
       "      <td>1.000000</td>\n",
       "      <td>0.000000</td>\n",
       "      <td>1004.000000</td>\n",
       "      <td>1.000000</td>\n",
       "      <td>1.000000</td>\n",
       "      <td>0.000000</td>\n",
       "      <td>0.000000</td>\n",
       "      <td>0.00000</td>\n",
       "      <td>11.620000</td>\n",
       "      <td>0.000000</td>\n",
       "      <td>0.000000</td>\n",
       "      <td>0.000000</td>\n",
       "      <td>0.000000</td>\n",
       "      <td>0.000000</td>\n",
       "      <td>0.000000</td>\n",
       "      <td>0.000000</td>\n",
       "      <td>0.000000</td>\n",
       "    </tr>\n",
       "    <tr>\n",
       "      <th>25%</th>\n",
       "      <td>33.000000</td>\n",
       "      <td>1.000000</td>\n",
       "      <td>8.000000</td>\n",
       "      <td>13042.000000</td>\n",
       "      <td>1.000000</td>\n",
       "      <td>1.000000</td>\n",
       "      <td>0.000000</td>\n",
       "      <td>0.000000</td>\n",
       "      <td>1.00000</td>\n",
       "      <td>79.620000</td>\n",
       "      <td>0.000000</td>\n",
       "      <td>0.000000</td>\n",
       "      <td>0.000000</td>\n",
       "      <td>0.000000</td>\n",
       "      <td>0.000000</td>\n",
       "      <td>0.000000</td>\n",
       "      <td>0.000000</td>\n",
       "      <td>0.000000</td>\n",
       "    </tr>\n",
       "    <tr>\n",
       "      <th>50%</th>\n",
       "      <td>65.000000</td>\n",
       "      <td>1.000000</td>\n",
       "      <td>11.000000</td>\n",
       "      <td>27521.000000</td>\n",
       "      <td>1.000000</td>\n",
       "      <td>2.000000</td>\n",
       "      <td>0.000000</td>\n",
       "      <td>0.000000</td>\n",
       "      <td>1.00000</td>\n",
       "      <td>193.260000</td>\n",
       "      <td>0.000000</td>\n",
       "      <td>0.000000</td>\n",
       "      <td>0.000000</td>\n",
       "      <td>0.000000</td>\n",
       "      <td>0.000000</td>\n",
       "      <td>0.000000</td>\n",
       "      <td>0.000000</td>\n",
       "      <td>0.000000</td>\n",
       "    </tr>\n",
       "    <tr>\n",
       "      <th>75%</th>\n",
       "      <td>110.000000</td>\n",
       "      <td>1.000000</td>\n",
       "      <td>15.000000</td>\n",
       "      <td>64000.500000</td>\n",
       "      <td>1.000000</td>\n",
       "      <td>4.000000</td>\n",
       "      <td>0.000000</td>\n",
       "      <td>0.000000</td>\n",
       "      <td>1.00000</td>\n",
       "      <td>591.630000</td>\n",
       "      <td>0.000000</td>\n",
       "      <td>0.000000</td>\n",
       "      <td>0.000000</td>\n",
       "      <td>0.000000</td>\n",
       "      <td>0.000000</td>\n",
       "      <td>0.000000</td>\n",
       "      <td>0.000000</td>\n",
       "      <td>0.000000</td>\n",
       "    </tr>\n",
       "    <tr>\n",
       "      <th>max</th>\n",
       "      <td>270.000000</td>\n",
       "      <td>6.000000</td>\n",
       "      <td>210.000000</td>\n",
       "      <td>99950.000000</td>\n",
       "      <td>351.000000</td>\n",
       "      <td>18.000000</td>\n",
       "      <td>1.000000</td>\n",
       "      <td>1.000000</td>\n",
       "      <td>1.00000</td>\n",
       "      <td>55434.480000</td>\n",
       "      <td>1.000000</td>\n",
       "      <td>1.000000</td>\n",
       "      <td>1.000000</td>\n",
       "      <td>1.000000</td>\n",
       "      <td>1.000000</td>\n",
       "      <td>1.000000</td>\n",
       "      <td>1.000000</td>\n",
       "      <td>1.000000</td>\n",
       "    </tr>\n",
       "  </tbody>\n",
       "</table>\n",
       "</div>"
      ],
      "text/plain": [
       "       order_recency  total_orders       waiting  customer_zip_code_prefix  \\\n",
       "count   14199.000000  14199.000000  14198.000000              14199.000000   \n",
       "mean       74.564617      1.053807     12.870545              37111.392070   \n",
       "std        52.510129      0.269198     10.643963              30060.565193   \n",
       "min         0.000000      1.000000      0.000000               1004.000000   \n",
       "25%        33.000000      1.000000      8.000000              13042.000000   \n",
       "50%        65.000000      1.000000     11.000000              27521.000000   \n",
       "75%       110.000000      1.000000     15.000000              64000.500000   \n",
       "max       270.000000      6.000000    210.000000              99950.000000   \n",
       "\n",
       "       payment_sequential  payment_installments        boleto       voucher  \\\n",
       "count        14199.000000          14199.000000  14199.000000  14199.000000   \n",
       "mean             1.226354              3.152757      0.216776      0.045003   \n",
       "std              4.129698              2.856990      0.412063      0.207318   \n",
       "min              1.000000              1.000000      0.000000      0.000000   \n",
       "25%              1.000000              1.000000      0.000000      0.000000   \n",
       "50%              1.000000              2.000000      0.000000      0.000000   \n",
       "75%              1.000000              4.000000      0.000000      0.000000   \n",
       "max            351.000000             18.000000      1.000000      1.000000   \n",
       "\n",
       "       credit_card  total_purchase  order_dow_Friday  order_dow_Monday  \\\n",
       "count  14199.00000    14199.000000      14199.000000      14199.000000   \n",
       "mean       0.75618      720.248598          0.138038          0.161702   \n",
       "std        0.42940     1954.655539          0.344952          0.368190   \n",
       "min        0.00000       11.620000          0.000000          0.000000   \n",
       "25%        1.00000       79.620000          0.000000          0.000000   \n",
       "50%        1.00000      193.260000          0.000000          0.000000   \n",
       "75%        1.00000      591.630000          0.000000          0.000000   \n",
       "max        1.00000    55434.480000          1.000000          1.000000   \n",
       "\n",
       "       order_dow_Saturday  order_dow_Sunday  order_dow_Thursday  \\\n",
       "count        14199.000000      14199.000000        14199.000000   \n",
       "mean             0.108458          0.122614            0.155081   \n",
       "std              0.310969          0.328005            0.361995   \n",
       "min              0.000000          0.000000            0.000000   \n",
       "25%              0.000000          0.000000            0.000000   \n",
       "50%              0.000000          0.000000            0.000000   \n",
       "75%              0.000000          0.000000            0.000000   \n",
       "max              1.000000          1.000000            1.000000   \n",
       "\n",
       "       order_dow_Tuesday  order_dow_Wednesday         purch  \n",
       "count       14199.000000         14199.000000  14199.000000  \n",
       "mean            0.158814             0.155293      0.034721  \n",
       "std             0.365515             0.362196      0.183078  \n",
       "min             0.000000             0.000000      0.000000  \n",
       "25%             0.000000             0.000000      0.000000  \n",
       "50%             0.000000             0.000000      0.000000  \n",
       "75%             0.000000             0.000000      0.000000  \n",
       "max             1.000000             1.000000      1.000000  "
      ]
     },
     "execution_count": 129,
     "metadata": {},
     "output_type": "execute_result"
    }
   ],
   "source": [
    "df.describe()"
   ]
  },
  {
   "cell_type": "code",
   "execution_count": 130,
   "metadata": {},
   "outputs": [],
   "source": [
    "#df[df['waiting'].isnull()]['waiting']\n",
    "df.loc[df['waiting'].isnull(),'waiting']=0"
   ]
  },
  {
   "cell_type": "code",
   "execution_count": 131,
   "metadata": {},
   "outputs": [],
   "source": [
    "# set-up\n",
    "\n",
    "preds = df.columns[1:-1]\n",
    "\n",
    "X = df[preds]\n",
    "y = df['purch']"
   ]
  },
  {
   "cell_type": "markdown",
   "metadata": {},
   "source": [
    "Tri-fold partitioning is recommended as long as there's sufficient sample size avaiable. In this example, since the number of target events is very small, we will perform a two-fold paritioning of the modeling sample."
   ]
  },
  {
   "cell_type": "markdown",
   "metadata": {},
   "source": [
    "Note that we could increase the size of the prediction window to capture more purchase events. However, for this exercise we will continue with the current prediction window (of one month)."
   ]
  },
  {
   "cell_type": "markdown",
   "metadata": {},
   "source": [
    "#### Two-fold partition"
   ]
  },
  {
   "cell_type": "code",
   "execution_count": 171,
   "metadata": {},
   "outputs": [],
   "source": [
    "# # split the dataframe into train(50%) and test(50%)\n",
    "# To confirm analysis, run the code below to confirm they are equal...\n",
    "\n",
    "# from sklearn.model_selection import train_test_split\n",
    "\n",
    "# X_train, X_test, y_train, y_test = train_test_split(X, y, test_size=0.5, random_state=314)\n",
    "\n",
    "# len(X_train), len(X_test)"
   ]
  },
  {
   "cell_type": "code",
   "execution_count": 133,
   "metadata": {},
   "outputs": [],
   "source": [
    "msk = np.random.rand(len(df)) < 0.8\n",
    "\n",
    "X_train = X[msk]\n",
    "\n",
    "X_test = X[~msk]\n",
    "\n",
    "\n",
    "\n",
    "y_train = y[msk]\n",
    "\n",
    "y_test = y[~msk]"
   ]
  },
  {
   "cell_type": "code",
   "execution_count": 134,
   "metadata": {},
   "outputs": [
    {
     "data": {
      "text/plain": [
       "0    10976\n",
       "1      397\n",
       "Name: purch, dtype: int64"
      ]
     },
     "execution_count": 134,
     "metadata": {},
     "output_type": "execute_result"
    }
   ],
   "source": [
    "# target distribution in the trainig sample\n",
    "\n",
    "y_train.value_counts()"
   ]
  },
  {
   "cell_type": "code",
   "execution_count": 135,
   "metadata": {},
   "outputs": [
    {
     "data": {
      "text/plain": [
       "0    2730\n",
       "1      96\n",
       "Name: purch, dtype: int64"
      ]
     },
     "execution_count": 135,
     "metadata": {},
     "output_type": "execute_result"
    }
   ],
   "source": [
    "# target distribution in the test sample\n",
    "\n",
    "y_test.value_counts()"
   ]
  },
  {
   "cell_type": "markdown",
   "metadata": {},
   "source": [
    "### Question #5. Build a Logistic Regression model using purch as the dependent (target) variable and include all attributes created in tasks #1 and #2 above as the independent variables in the model. Use the ‘train’ set for training the model."
   ]
  },
  {
   "cell_type": "code",
   "execution_count": 136,
   "metadata": {},
   "outputs": [],
   "source": [
    "from sklearn.linear_model import LogisticRegression\n",
    "\n",
    "# define the model object ('liblinear' is recommended for small datasets)\n",
    "clf = LogisticRegression(solver='liblinear', random_state=314)\n",
    "\n",
    "# train (fit) the model using the training sample\n",
    "clf.fit(X_train, y_train)\n",
    "\n",
    "# make predictions on the test sample\n",
    "y_preds = clf.predict(X_test)"
   ]
  },
  {
   "cell_type": "code",
   "execution_count": null,
   "metadata": {},
   "outputs": [],
   "source": []
  },
  {
   "cell_type": "markdown",
   "metadata": {},
   "source": [
    "### Question #7: Model accuracy.  Using the ‘test’ partition (created in task #4), to compare the performance of these two models using the following metrics:\n",
    "#### a. AUC (Area Under the ROC Curve),\n",
    "#### b. Confusion matrix,\n",
    "#### c. Precision, and\n",
    "#### d. Recall"
   ]
  },
  {
   "cell_type": "code",
   "execution_count": 137,
   "metadata": {},
   "outputs": [
    {
     "data": {
      "text/plain": [
       "0.9660297239915074"
      ]
     },
     "execution_count": 137,
     "metadata": {},
     "output_type": "execute_result"
    }
   ],
   "source": [
    "from sklearn.metrics import accuracy_score\n",
    "\n",
    "accuracy_score(y_test, y_preds)"
   ]
  },
  {
   "cell_type": "markdown",
   "metadata": {},
   "source": [
    "Why does the model appear to be very strong in spite of only two predictors that didn't look correlated with the target?"
   ]
  },
  {
   "cell_type": "code",
   "execution_count": 138,
   "metadata": {},
   "outputs": [
    {
     "data": {
      "text/plain": [
       "0.6307883089133088"
      ]
     },
     "execution_count": 138,
     "metadata": {},
     "output_type": "execute_result"
    }
   ],
   "source": [
    "# a. Area under the ROC curve (AUC)\n",
    "from sklearn.metrics import roc_auc_score\n",
    "\n",
    "# calculate the probabilities on the test sample\n",
    "y_scores = clf.predict_proba(X_test)[:, 1]\n",
    "\n",
    "# calcualte AUC\n",
    "roc_auc_score(y_test, y_scores)"
   ]
  },
  {
   "cell_type": "code",
   "execution_count": 139,
   "metadata": {},
   "outputs": [
    {
     "data": {
      "text/html": [
       "<div>\n",
       "<style scoped>\n",
       "    .dataframe tbody tr th:only-of-type {\n",
       "        vertical-align: middle;\n",
       "    }\n",
       "\n",
       "    .dataframe tbody tr th {\n",
       "        vertical-align: top;\n",
       "    }\n",
       "\n",
       "    .dataframe thead th {\n",
       "        text-align: right;\n",
       "    }\n",
       "</style>\n",
       "<table border=\"1\" class=\"dataframe\">\n",
       "  <thead>\n",
       "    <tr style=\"text-align: right;\">\n",
       "      <th>col_0</th>\n",
       "      <th>0</th>\n",
       "    </tr>\n",
       "    <tr>\n",
       "      <th>purch</th>\n",
       "      <th></th>\n",
       "    </tr>\n",
       "  </thead>\n",
       "  <tbody>\n",
       "    <tr>\n",
       "      <th>0</th>\n",
       "      <td>2730</td>\n",
       "    </tr>\n",
       "    <tr>\n",
       "      <th>1</th>\n",
       "      <td>96</td>\n",
       "    </tr>\n",
       "  </tbody>\n",
       "</table>\n",
       "</div>"
      ],
      "text/plain": [
       "col_0     0\n",
       "purch      \n",
       "0      2730\n",
       "1        96"
      ]
     },
     "execution_count": 139,
     "metadata": {},
     "output_type": "execute_result"
    }
   ],
   "source": [
    "# check model's predictions against actual value of the target event\n",
    "# b. Confusion Matrix\n",
    "confusion_matrix=pd.crosstab(y_test, y_preds)\n",
    "confusion_matrix"
   ]
  },
  {
   "cell_type": "code",
   "execution_count": 140,
   "metadata": {},
   "outputs": [
    {
     "data": {
      "text/plain": [
       "array([[2730,    0],\n",
       "       [  96,    0]], dtype=int64)"
      ]
     },
     "execution_count": 140,
     "metadata": {},
     "output_type": "execute_result"
    }
   ],
   "source": [
    "from sklearn.metrics import confusion_matrix\n",
    "cm=confusion_matrix(y_test, y_preds)\n",
    "cm"
   ]
  },
  {
   "cell_type": "markdown",
   "metadata": {},
   "source": [
    "The model is predicting 0 (no purchase) for all customers! Accuracy score is not a reliable measure while dealing with rare events. Let's take a look at a few additional metrics."
   ]
  },
  {
   "cell_type": "code",
   "execution_count": 141,
   "metadata": {},
   "outputs": [
    {
     "data": {
      "text/plain": [
       "0.09480533520603929"
      ]
     },
     "execution_count": 141,
     "metadata": {},
     "output_type": "execute_result"
    }
   ],
   "source": [
    "# c. Precision\n",
    "from sklearn.metrics import average_precision_score\n",
    "average_precision = average_precision_score(y_test, y_scores)\n",
    "average_precision"
   ]
  },
  {
   "cell_type": "code",
   "execution_count": 142,
   "metadata": {},
   "outputs": [
    {
     "data": {
      "text/plain": [
       "0.0"
      ]
     },
     "execution_count": 142,
     "metadata": {},
     "output_type": "execute_result"
    }
   ],
   "source": [
    "# d. Recall\n",
    "from sklearn.metrics import recall_score\n",
    "recall_score(y_test, y_preds)"
   ]
  },
  {
   "cell_type": "markdown",
   "metadata": {},
   "source": [
    "## Question #8\n",
    "#### For 3 extra credits: Using the confusion matrix, calculate the misclassification rate for both models.The misclassification can be calculated by adding the false positive counts and the false negative counts and then dividing by the total number of records (samples).\n",
    "#### a) Combine the predictions from both models in the following way: if both models predicn purch=1,     then set the prediction to 1, otherwise set it to 0. Create a confusion matrix from thisnew           “ensemble” model and calculate the mis-classification rate.\n"
   ]
  },
  {
   "cell_type": "code",
   "execution_count": 143,
   "metadata": {},
   "outputs": [
    {
     "data": {
      "text/plain": [
       "0.03397027600849257"
      ]
     },
     "execution_count": 143,
     "metadata": {},
     "output_type": "execute_result"
    }
   ],
   "source": [
    "from sklearn.metrics import mean_squared_error\n",
    "\n",
    "mean_squared_error(y_test, y_preds)\n"
   ]
  },
  {
   "cell_type": "code",
   "execution_count": 144,
   "metadata": {},
   "outputs": [
    {
     "data": {
      "text/plain": [
       "0.03397027600849257"
      ]
     },
     "execution_count": 144,
     "metadata": {},
     "output_type": "execute_result"
    }
   ],
   "source": [
    "misclassification=(cm[1][0]  + cm[0][1] )/len(y_test)\n",
    "misclassification"
   ]
  },
  {
   "cell_type": "markdown",
   "metadata": {},
   "source": [
    "## Export results"
   ]
  },
  {
   "cell_type": "markdown",
   "metadata": {},
   "source": [
    "#### 1. Scored dataset (with all model attributes)"
   ]
  },
  {
   "cell_type": "code",
   "execution_count": 145,
   "metadata": {},
   "outputs": [
    {
     "data": {
      "text/html": [
       "<div>\n",
       "<style scoped>\n",
       "    .dataframe tbody tr th:only-of-type {\n",
       "        vertical-align: middle;\n",
       "    }\n",
       "\n",
       "    .dataframe tbody tr th {\n",
       "        vertical-align: top;\n",
       "    }\n",
       "\n",
       "    .dataframe thead th {\n",
       "        text-align: right;\n",
       "    }\n",
       "</style>\n",
       "<table border=\"1\" class=\"dataframe\">\n",
       "  <thead>\n",
       "    <tr style=\"text-align: right;\">\n",
       "      <th></th>\n",
       "      <th>customer_unique_id</th>\n",
       "      <th>order_recency</th>\n",
       "      <th>total_orders</th>\n",
       "      <th>waiting</th>\n",
       "      <th>customer_zip_code_prefix</th>\n",
       "      <th>payment_sequential</th>\n",
       "      <th>payment_installments</th>\n",
       "      <th>boleto</th>\n",
       "      <th>voucher</th>\n",
       "      <th>credit_card</th>\n",
       "      <th>total_purchase</th>\n",
       "      <th>order_dow_Friday</th>\n",
       "      <th>order_dow_Monday</th>\n",
       "      <th>order_dow_Saturday</th>\n",
       "      <th>order_dow_Sunday</th>\n",
       "      <th>order_dow_Thursday</th>\n",
       "      <th>order_dow_Tuesday</th>\n",
       "      <th>order_dow_Wednesday</th>\n",
       "      <th>purch</th>\n",
       "      <th>prob_to_purchase</th>\n",
       "    </tr>\n",
       "  </thead>\n",
       "  <tbody>\n",
       "    <tr>\n",
       "      <th>0</th>\n",
       "      <td>0000f46a3911fa3c0805444483337064</td>\n",
       "      <td>112</td>\n",
       "      <td>1</td>\n",
       "      <td>26.0</td>\n",
       "      <td>88115</td>\n",
       "      <td>1</td>\n",
       "      <td>8</td>\n",
       "      <td>0.0</td>\n",
       "      <td>0.0</td>\n",
       "      <td>1.0</td>\n",
       "      <td>689.76</td>\n",
       "      <td>1</td>\n",
       "      <td>0</td>\n",
       "      <td>0</td>\n",
       "      <td>0</td>\n",
       "      <td>0</td>\n",
       "      <td>0</td>\n",
       "      <td>0</td>\n",
       "      <td>0</td>\n",
       "      <td>0.003733</td>\n",
       "    </tr>\n",
       "    <tr>\n",
       "      <th>1</th>\n",
       "      <td>0005e1862207bf6ccc02e4228effd9a0</td>\n",
       "      <td>118</td>\n",
       "      <td>1</td>\n",
       "      <td>5.0</td>\n",
       "      <td>25966</td>\n",
       "      <td>1</td>\n",
       "      <td>3</td>\n",
       "      <td>0.0</td>\n",
       "      <td>0.0</td>\n",
       "      <td>1.0</td>\n",
       "      <td>450.36</td>\n",
       "      <td>0</td>\n",
       "      <td>0</td>\n",
       "      <td>1</td>\n",
       "      <td>0</td>\n",
       "      <td>0</td>\n",
       "      <td>0</td>\n",
       "      <td>0</td>\n",
       "      <td>0</td>\n",
       "      <td>0.023238</td>\n",
       "    </tr>\n",
       "    <tr>\n",
       "      <th>2</th>\n",
       "      <td>00115fc7123b5310cf6d3a3aa932699e</td>\n",
       "      <td>160</td>\n",
       "      <td>1</td>\n",
       "      <td>11.0</td>\n",
       "      <td>71015</td>\n",
       "      <td>1</td>\n",
       "      <td>1</td>\n",
       "      <td>0.0</td>\n",
       "      <td>0.0</td>\n",
       "      <td>1.0</td>\n",
       "      <td>76.11</td>\n",
       "      <td>0</td>\n",
       "      <td>0</td>\n",
       "      <td>1</td>\n",
       "      <td>0</td>\n",
       "      <td>0</td>\n",
       "      <td>0</td>\n",
       "      <td>0</td>\n",
       "      <td>0</td>\n",
       "      <td>0.006442</td>\n",
       "    </tr>\n",
       "    <tr>\n",
       "      <th>3</th>\n",
       "      <td>0011805441c0d1b68b48002f1d005526</td>\n",
       "      <td>67</td>\n",
       "      <td>1</td>\n",
       "      <td>18.0</td>\n",
       "      <td>68639</td>\n",
       "      <td>1</td>\n",
       "      <td>10</td>\n",
       "      <td>0.0</td>\n",
       "      <td>0.0</td>\n",
       "      <td>1.0</td>\n",
       "      <td>2971.40</td>\n",
       "      <td>0</td>\n",
       "      <td>1</td>\n",
       "      <td>0</td>\n",
       "      <td>0</td>\n",
       "      <td>0</td>\n",
       "      <td>0</td>\n",
       "      <td>0</td>\n",
       "      <td>0</td>\n",
       "      <td>0.012574</td>\n",
       "    </tr>\n",
       "    <tr>\n",
       "      <th>4</th>\n",
       "      <td>0011857aff0e5871ce5eb429f21cdaf5</td>\n",
       "      <td>2</td>\n",
       "      <td>1</td>\n",
       "      <td>8.0</td>\n",
       "      <td>9070</td>\n",
       "      <td>1</td>\n",
       "      <td>3</td>\n",
       "      <td>0.0</td>\n",
       "      <td>0.0</td>\n",
       "      <td>1.0</td>\n",
       "      <td>578.49</td>\n",
       "      <td>0</td>\n",
       "      <td>0</td>\n",
       "      <td>0</td>\n",
       "      <td>0</td>\n",
       "      <td>0</td>\n",
       "      <td>0</td>\n",
       "      <td>1</td>\n",
       "      <td>0</td>\n",
       "      <td>0.151367</td>\n",
       "    </tr>\n",
       "  </tbody>\n",
       "</table>\n",
       "</div>"
      ],
      "text/plain": [
       "                 customer_unique_id  order_recency  total_orders  waiting  \\\n",
       "0  0000f46a3911fa3c0805444483337064            112             1     26.0   \n",
       "1  0005e1862207bf6ccc02e4228effd9a0            118             1      5.0   \n",
       "2  00115fc7123b5310cf6d3a3aa932699e            160             1     11.0   \n",
       "3  0011805441c0d1b68b48002f1d005526             67             1     18.0   \n",
       "4  0011857aff0e5871ce5eb429f21cdaf5              2             1      8.0   \n",
       "\n",
       "   customer_zip_code_prefix  payment_sequential  payment_installments  boleto  \\\n",
       "0                     88115                   1                     8     0.0   \n",
       "1                     25966                   1                     3     0.0   \n",
       "2                     71015                   1                     1     0.0   \n",
       "3                     68639                   1                    10     0.0   \n",
       "4                      9070                   1                     3     0.0   \n",
       "\n",
       "   voucher  credit_card  total_purchase  order_dow_Friday  order_dow_Monday  \\\n",
       "0      0.0          1.0          689.76                 1                 0   \n",
       "1      0.0          1.0          450.36                 0                 0   \n",
       "2      0.0          1.0           76.11                 0                 0   \n",
       "3      0.0          1.0         2971.40                 0                 1   \n",
       "4      0.0          1.0          578.49                 0                 0   \n",
       "\n",
       "   order_dow_Saturday  order_dow_Sunday  order_dow_Thursday  \\\n",
       "0                   0                 0                   0   \n",
       "1                   1                 0                   0   \n",
       "2                   1                 0                   0   \n",
       "3                   0                 0                   0   \n",
       "4                   0                 0                   0   \n",
       "\n",
       "   order_dow_Tuesday  order_dow_Wednesday  purch  prob_to_purchase  \n",
       "0                  0                    0      0          0.003733  \n",
       "1                  0                    0      0          0.023238  \n",
       "2                  0                    0      0          0.006442  \n",
       "3                  0                    0      0          0.012574  \n",
       "4                  0                    1      0          0.151367  "
      ]
     },
     "execution_count": 145,
     "metadata": {},
     "output_type": "execute_result"
    }
   ],
   "source": [
    "scores_all = clf.predict_proba(df[preds])[:, 1]\n",
    "\n",
    "df['prob_to_purchase'] = scores_all\n",
    "\n",
    "df.head()"
   ]
  },
  {
   "cell_type": "code",
   "execution_count": 146,
   "metadata": {},
   "outputs": [],
   "source": [
    "csv_file_zipped = 'purch_model_scores.csv.gz'\n",
    "\n",
    "df.to_csv(csv_file_zipped, compression='gzip')"
   ]
  },
  {
   "cell_type": "markdown",
   "metadata": {},
   "source": [
    "#### 2. Export the model"
   ]
  },
  {
   "cell_type": "code",
   "execution_count": 147,
   "metadata": {},
   "outputs": [
    {
     "data": {
      "text/plain": [
       "['purch_model.joblib']"
      ]
     },
     "execution_count": 147,
     "metadata": {},
     "output_type": "execute_result"
    }
   ],
   "source": [
    "import joblib\n",
    "\n",
    "model_pkl_file = 'purch_model.joblib'\n",
    "\n",
    "joblib.dump(clf, model_pkl_file)"
   ]
  },
  {
   "cell_type": "markdown",
   "metadata": {},
   "source": [
    "##### Load the model"
   ]
  },
  {
   "cell_type": "code",
   "execution_count": 148,
   "metadata": {},
   "outputs": [
    {
     "data": {
      "text/plain": [
       "LogisticRegression(C=1.0, class_weight=None, dual=False, fit_intercept=True,\n",
       "                   intercept_scaling=1, l1_ratio=None, max_iter=100,\n",
       "                   multi_class='warn', n_jobs=None, penalty='l2',\n",
       "                   random_state=314, solver='liblinear', tol=0.0001, verbose=0,\n",
       "                   warm_start=False)"
      ]
     },
     "execution_count": 148,
     "metadata": {},
     "output_type": "execute_result"
    }
   ],
   "source": [
    "clf_loaded = joblib.load(model_pkl_file)\n",
    "\n",
    "clf_loaded"
   ]
  },
  {
   "cell_type": "code",
   "execution_count": 149,
   "metadata": {},
   "outputs": [
    {
     "data": {
      "text/plain": [
       "array([[0.97676158, 0.02323842],\n",
       "       [0.78700246, 0.21299754],\n",
       "       [0.9914427 , 0.0085573 ],\n",
       "       ...,\n",
       "       [0.98680817, 0.01319183],\n",
       "       [0.99885698, 0.00114302],\n",
       "       [0.99375446, 0.00624554]])"
      ]
     },
     "execution_count": 149,
     "metadata": {},
     "output_type": "execute_result"
    }
   ],
   "source": [
    "# use the model to score a \"new\" data frame\n",
    "\n",
    "clf_loaded.predict_proba(X_test)"
   ]
  },
  {
   "cell_type": "markdown",
   "metadata": {},
   "source": [
    "### Question 6: Repeat task #5 with a Decision Tree instead of Logistic Regression model. Specify at least two parameters to reduce the amount of over-fitting"
   ]
  },
  {
   "cell_type": "code",
   "execution_count": 150,
   "metadata": {},
   "outputs": [],
   "source": [
    "from sklearn.tree import DecisionTreeClassifier\n",
    "clf_dt = DecisionTreeClassifier(\n",
    "                     random_state = 1337,\n",
    "                     criterion = 'gini',\n",
    "                     splitter = 'best',\n",
    "                     max_depth = 5,\n",
    "                     min_samples_leaf = 1\n",
    "            )"
   ]
  },
  {
   "cell_type": "code",
   "execution_count": 151,
   "metadata": {},
   "outputs": [
    {
     "name": "stdout",
     "output_type": "stream",
     "text": [
      "Wall time: 27.9 ms\n",
      "Wall time: 998 µs\n"
     ]
    }
   ],
   "source": [
    "# train (fit) the model using the training sample\n",
    "%time clf_dt.fit(X_train, y_train)\n",
    "\n",
    "# make predictions on the test sample\n",
    "%time y_preds_dt = clf_dt.predict(X_test)"
   ]
  },
  {
   "cell_type": "code",
   "execution_count": 152,
   "metadata": {},
   "outputs": [
    {
     "data": {
      "text/plain": [
       "0.97310686482661"
      ]
     },
     "execution_count": 152,
     "metadata": {},
     "output_type": "execute_result"
    }
   ],
   "source": [
    "from sklearn.metrics import accuracy_score\n",
    "\n",
    "accuracy_score(y_test, y_preds_dt)"
   ]
  },
  {
   "cell_type": "code",
   "execution_count": 153,
   "metadata": {},
   "outputs": [
    {
     "data": {
      "text/html": [
       "<div>\n",
       "<style scoped>\n",
       "    .dataframe tbody tr th:only-of-type {\n",
       "        vertical-align: middle;\n",
       "    }\n",
       "\n",
       "    .dataframe tbody tr th {\n",
       "        vertical-align: top;\n",
       "    }\n",
       "\n",
       "    .dataframe thead th {\n",
       "        text-align: right;\n",
       "    }\n",
       "</style>\n",
       "<table border=\"1\" class=\"dataframe\">\n",
       "  <thead>\n",
       "    <tr style=\"text-align: right;\">\n",
       "      <th>col_0</th>\n",
       "      <th>0</th>\n",
       "      <th>1</th>\n",
       "    </tr>\n",
       "    <tr>\n",
       "      <th>purch</th>\n",
       "      <th></th>\n",
       "      <th></th>\n",
       "    </tr>\n",
       "  </thead>\n",
       "  <tbody>\n",
       "    <tr>\n",
       "      <th>0</th>\n",
       "      <td>2730</td>\n",
       "      <td>0</td>\n",
       "    </tr>\n",
       "    <tr>\n",
       "      <th>1</th>\n",
       "      <td>76</td>\n",
       "      <td>20</td>\n",
       "    </tr>\n",
       "  </tbody>\n",
       "</table>\n",
       "</div>"
      ],
      "text/plain": [
       "col_0     0   1\n",
       "purch          \n",
       "0      2730   0\n",
       "1        76  20"
      ]
     },
     "execution_count": 153,
     "metadata": {},
     "output_type": "execute_result"
    }
   ],
   "source": [
    "confusion_matrix_dt = pd.crosstab(y_test, y_preds_dt)\n",
    "confusion_matrix_dt"
   ]
  },
  {
   "cell_type": "code",
   "execution_count": 154,
   "metadata": {},
   "outputs": [
    {
     "data": {
      "text/plain": [
       "array([[2730,    0],\n",
       "       [  76,   20]], dtype=int64)"
      ]
     },
     "execution_count": 154,
     "metadata": {},
     "output_type": "execute_result"
    }
   ],
   "source": [
    "from sklearn.metrics import confusion_matrix\n",
    "cm_dt=confusion_matrix(y_test, y_preds_dt)\n",
    "cm_dt"
   ]
  },
  {
   "cell_type": "code",
   "execution_count": 155,
   "metadata": {},
   "outputs": [
    {
     "data": {
      "text/plain": [
       "0.6496108058608058"
      ]
     },
     "execution_count": 155,
     "metadata": {},
     "output_type": "execute_result"
    }
   ],
   "source": [
    "from sklearn.metrics import roc_auc_score\n",
    "\n",
    "# calculate the probabilities on the test sample\n",
    "y_scores_dt = clf_dt.predict_proba(X_test)[:, 1]\n",
    "\n",
    "# calcualte AUC\n",
    "roc_auc_score(y_test, y_scores_dt)"
   ]
  },
  {
   "cell_type": "code",
   "execution_count": 156,
   "metadata": {},
   "outputs": [
    {
     "data": {
      "text/plain": [
       "0.24213548529750115"
      ]
     },
     "execution_count": 156,
     "metadata": {},
     "output_type": "execute_result"
    }
   ],
   "source": [
    "from sklearn.metrics import average_precision_score\n",
    "\n",
    "average_precision_dt = average_precision_score(y_test, y_scores_dt)\n",
    "\n",
    "average_precision_dt"
   ]
  },
  {
   "cell_type": "code",
   "execution_count": 157,
   "metadata": {},
   "outputs": [
    {
     "data": {
      "text/plain": [
       "0.02689313517338995"
      ]
     },
     "execution_count": 157,
     "metadata": {},
     "output_type": "execute_result"
    }
   ],
   "source": [
    "from sklearn.metrics import mean_squared_error\n",
    "\n",
    "mean_squared_error(y_test, y_preds_dt)\n"
   ]
  },
  {
   "cell_type": "code",
   "execution_count": 158,
   "metadata": {},
   "outputs": [
    {
     "data": {
      "text/plain": [
       "0.02689313517338995"
      ]
     },
     "execution_count": 158,
     "metadata": {},
     "output_type": "execute_result"
    }
   ],
   "source": [
    "misclassification_dt=(cm_dt[1][0]  + cm_dt[0][1] )/len(y_test)\n",
    "misclassification_dt"
   ]
  },
  {
   "cell_type": "code",
   "execution_count": 159,
   "metadata": {},
   "outputs": [
    {
     "data": {
      "text/plain": [
       "0.20833333333333334"
      ]
     },
     "execution_count": 159,
     "metadata": {},
     "output_type": "execute_result"
    }
   ],
   "source": [
    "from sklearn.metrics import recall_score\n",
    "recall_score(y_test, y_preds_dt)"
   ]
  },
  {
   "cell_type": "code",
   "execution_count": 160,
   "metadata": {},
   "outputs": [
    {
     "data": {
      "text/html": [
       "<div>\n",
       "<style scoped>\n",
       "    .dataframe tbody tr th:only-of-type {\n",
       "        vertical-align: middle;\n",
       "    }\n",
       "\n",
       "    .dataframe tbody tr th {\n",
       "        vertical-align: top;\n",
       "    }\n",
       "\n",
       "    .dataframe thead th {\n",
       "        text-align: right;\n",
       "    }\n",
       "</style>\n",
       "<table border=\"1\" class=\"dataframe\">\n",
       "  <thead>\n",
       "    <tr style=\"text-align: right;\">\n",
       "      <th></th>\n",
       "      <th>customer_unique_id</th>\n",
       "      <th>order_recency</th>\n",
       "      <th>total_orders</th>\n",
       "      <th>waiting</th>\n",
       "      <th>customer_zip_code_prefix</th>\n",
       "      <th>payment_sequential</th>\n",
       "      <th>payment_installments</th>\n",
       "      <th>boleto</th>\n",
       "      <th>voucher</th>\n",
       "      <th>credit_card</th>\n",
       "      <th>...</th>\n",
       "      <th>order_dow_Friday</th>\n",
       "      <th>order_dow_Monday</th>\n",
       "      <th>order_dow_Saturday</th>\n",
       "      <th>order_dow_Sunday</th>\n",
       "      <th>order_dow_Thursday</th>\n",
       "      <th>order_dow_Tuesday</th>\n",
       "      <th>order_dow_Wednesday</th>\n",
       "      <th>purch</th>\n",
       "      <th>prob_to_purchase</th>\n",
       "      <th>prob_to_purchase_dt</th>\n",
       "    </tr>\n",
       "  </thead>\n",
       "  <tbody>\n",
       "    <tr>\n",
       "      <th>0</th>\n",
       "      <td>0000f46a3911fa3c0805444483337064</td>\n",
       "      <td>112</td>\n",
       "      <td>1</td>\n",
       "      <td>26.0</td>\n",
       "      <td>88115</td>\n",
       "      <td>1</td>\n",
       "      <td>8</td>\n",
       "      <td>0.0</td>\n",
       "      <td>0.0</td>\n",
       "      <td>1.0</td>\n",
       "      <td>...</td>\n",
       "      <td>1</td>\n",
       "      <td>0</td>\n",
       "      <td>0</td>\n",
       "      <td>0</td>\n",
       "      <td>0</td>\n",
       "      <td>0</td>\n",
       "      <td>0</td>\n",
       "      <td>0</td>\n",
       "      <td>0.003733</td>\n",
       "      <td>0.022236</td>\n",
       "    </tr>\n",
       "    <tr>\n",
       "      <th>1</th>\n",
       "      <td>0005e1862207bf6ccc02e4228effd9a0</td>\n",
       "      <td>118</td>\n",
       "      <td>1</td>\n",
       "      <td>5.0</td>\n",
       "      <td>25966</td>\n",
       "      <td>1</td>\n",
       "      <td>3</td>\n",
       "      <td>0.0</td>\n",
       "      <td>0.0</td>\n",
       "      <td>1.0</td>\n",
       "      <td>...</td>\n",
       "      <td>0</td>\n",
       "      <td>0</td>\n",
       "      <td>1</td>\n",
       "      <td>0</td>\n",
       "      <td>0</td>\n",
       "      <td>0</td>\n",
       "      <td>0</td>\n",
       "      <td>0</td>\n",
       "      <td>0.023238</td>\n",
       "      <td>0.022236</td>\n",
       "    </tr>\n",
       "    <tr>\n",
       "      <th>2</th>\n",
       "      <td>00115fc7123b5310cf6d3a3aa932699e</td>\n",
       "      <td>160</td>\n",
       "      <td>1</td>\n",
       "      <td>11.0</td>\n",
       "      <td>71015</td>\n",
       "      <td>1</td>\n",
       "      <td>1</td>\n",
       "      <td>0.0</td>\n",
       "      <td>0.0</td>\n",
       "      <td>1.0</td>\n",
       "      <td>...</td>\n",
       "      <td>0</td>\n",
       "      <td>0</td>\n",
       "      <td>1</td>\n",
       "      <td>0</td>\n",
       "      <td>0</td>\n",
       "      <td>0</td>\n",
       "      <td>0</td>\n",
       "      <td>0</td>\n",
       "      <td>0.006442</td>\n",
       "      <td>0.022236</td>\n",
       "    </tr>\n",
       "    <tr>\n",
       "      <th>3</th>\n",
       "      <td>0011805441c0d1b68b48002f1d005526</td>\n",
       "      <td>67</td>\n",
       "      <td>1</td>\n",
       "      <td>18.0</td>\n",
       "      <td>68639</td>\n",
       "      <td>1</td>\n",
       "      <td>10</td>\n",
       "      <td>0.0</td>\n",
       "      <td>0.0</td>\n",
       "      <td>1.0</td>\n",
       "      <td>...</td>\n",
       "      <td>0</td>\n",
       "      <td>1</td>\n",
       "      <td>0</td>\n",
       "      <td>0</td>\n",
       "      <td>0</td>\n",
       "      <td>0</td>\n",
       "      <td>0</td>\n",
       "      <td>0</td>\n",
       "      <td>0.012574</td>\n",
       "      <td>0.022236</td>\n",
       "    </tr>\n",
       "    <tr>\n",
       "      <th>4</th>\n",
       "      <td>0011857aff0e5871ce5eb429f21cdaf5</td>\n",
       "      <td>2</td>\n",
       "      <td>1</td>\n",
       "      <td>8.0</td>\n",
       "      <td>9070</td>\n",
       "      <td>1</td>\n",
       "      <td>3</td>\n",
       "      <td>0.0</td>\n",
       "      <td>0.0</td>\n",
       "      <td>1.0</td>\n",
       "      <td>...</td>\n",
       "      <td>0</td>\n",
       "      <td>0</td>\n",
       "      <td>0</td>\n",
       "      <td>0</td>\n",
       "      <td>0</td>\n",
       "      <td>0</td>\n",
       "      <td>1</td>\n",
       "      <td>0</td>\n",
       "      <td>0.151367</td>\n",
       "      <td>0.034941</td>\n",
       "    </tr>\n",
       "  </tbody>\n",
       "</table>\n",
       "<p>5 rows × 21 columns</p>\n",
       "</div>"
      ],
      "text/plain": [
       "                 customer_unique_id  order_recency  total_orders  waiting  \\\n",
       "0  0000f46a3911fa3c0805444483337064            112             1     26.0   \n",
       "1  0005e1862207bf6ccc02e4228effd9a0            118             1      5.0   \n",
       "2  00115fc7123b5310cf6d3a3aa932699e            160             1     11.0   \n",
       "3  0011805441c0d1b68b48002f1d005526             67             1     18.0   \n",
       "4  0011857aff0e5871ce5eb429f21cdaf5              2             1      8.0   \n",
       "\n",
       "   customer_zip_code_prefix  payment_sequential  payment_installments  boleto  \\\n",
       "0                     88115                   1                     8     0.0   \n",
       "1                     25966                   1                     3     0.0   \n",
       "2                     71015                   1                     1     0.0   \n",
       "3                     68639                   1                    10     0.0   \n",
       "4                      9070                   1                     3     0.0   \n",
       "\n",
       "   voucher  credit_card  ...  order_dow_Friday  order_dow_Monday  \\\n",
       "0      0.0          1.0  ...                 1                 0   \n",
       "1      0.0          1.0  ...                 0                 0   \n",
       "2      0.0          1.0  ...                 0                 0   \n",
       "3      0.0          1.0  ...                 0                 1   \n",
       "4      0.0          1.0  ...                 0                 0   \n",
       "\n",
       "   order_dow_Saturday  order_dow_Sunday  order_dow_Thursday  \\\n",
       "0                   0                 0                   0   \n",
       "1                   1                 0                   0   \n",
       "2                   1                 0                   0   \n",
       "3                   0                 0                   0   \n",
       "4                   0                 0                   0   \n",
       "\n",
       "   order_dow_Tuesday  order_dow_Wednesday  purch  prob_to_purchase  \\\n",
       "0                  0                    0      0          0.003733   \n",
       "1                  0                    0      0          0.023238   \n",
       "2                  0                    0      0          0.006442   \n",
       "3                  0                    0      0          0.012574   \n",
       "4                  0                    1      0          0.151367   \n",
       "\n",
       "   prob_to_purchase_dt  \n",
       "0             0.022236  \n",
       "1             0.022236  \n",
       "2             0.022236  \n",
       "3             0.022236  \n",
       "4             0.034941  \n",
       "\n",
       "[5 rows x 21 columns]"
      ]
     },
     "execution_count": 160,
     "metadata": {},
     "output_type": "execute_result"
    }
   ],
   "source": [
    "scores_all_dt = clf_dt.predict_proba(df[preds])[:, 1]\n",
    "\n",
    "df['prob_to_purchase_dt'] = scores_all_dt\n",
    "\n",
    "df.head()"
   ]
  },
  {
   "cell_type": "code",
   "execution_count": 161,
   "metadata": {},
   "outputs": [],
   "source": [
    "csv_file_zipped_dt = 'purch_model_scores_dt.csv.gz'\n",
    "\n",
    "df.to_csv(csv_file_zipped_dt, compression='gzip')"
   ]
  },
  {
   "cell_type": "code",
   "execution_count": 162,
   "metadata": {},
   "outputs": [
    {
     "data": {
      "text/plain": [
       "['purch_model_dt.joblib']"
      ]
     },
     "execution_count": 162,
     "metadata": {},
     "output_type": "execute_result"
    }
   ],
   "source": [
    "import joblib\n",
    "\n",
    "model_pkl_file_dt = 'purch_model_dt.joblib'\n",
    "\n",
    "joblib.dump(clf_dt, model_pkl_file_dt)"
   ]
  },
  {
   "cell_type": "code",
   "execution_count": 163,
   "metadata": {},
   "outputs": [
    {
     "data": {
      "text/plain": [
       "DecisionTreeClassifier(class_weight=None, criterion='gini', max_depth=5,\n",
       "                       max_features=None, max_leaf_nodes=None,\n",
       "                       min_impurity_decrease=0.0, min_impurity_split=None,\n",
       "                       min_samples_leaf=1, min_samples_split=2,\n",
       "                       min_weight_fraction_leaf=0.0, presort=False,\n",
       "                       random_state=1337, splitter='best')"
      ]
     },
     "execution_count": 163,
     "metadata": {},
     "output_type": "execute_result"
    }
   ],
   "source": [
    "clf_loaded_dt = joblib.load(model_pkl_file_dt)\n",
    "\n",
    "clf_loaded_dt"
   ]
  },
  {
   "cell_type": "code",
   "execution_count": 164,
   "metadata": {},
   "outputs": [
    {
     "data": {
      "text/plain": [
       "array([[0.97776376, 0.02223624],\n",
       "       [0.96505926, 0.03494074],\n",
       "       [0.97776376, 0.02223624],\n",
       "       ...,\n",
       "       [0.97776376, 0.02223624],\n",
       "       [0.97776376, 0.02223624],\n",
       "       [0.97776376, 0.02223624]])"
      ]
     },
     "execution_count": 164,
     "metadata": {},
     "output_type": "execute_result"
    }
   ],
   "source": [
    "clf_loaded_dt.predict_proba(X_test)"
   ]
  },
  {
   "cell_type": "code",
   "execution_count": 165,
   "metadata": {},
   "outputs": [
    {
     "data": {
      "text/plain": [
       "2826"
      ]
     },
     "execution_count": 165,
     "metadata": {},
     "output_type": "execute_result"
    }
   ],
   "source": [
    "len(y_preds)"
   ]
  },
  {
   "cell_type": "code",
   "execution_count": 166,
   "metadata": {},
   "outputs": [
    {
     "data": {
      "text/plain": [
       "2826"
      ]
     },
     "execution_count": 166,
     "metadata": {},
     "output_type": "execute_result"
    }
   ],
   "source": [
    "len(y_preds_dt)"
   ]
  },
  {
   "cell_type": "code",
   "execution_count": 167,
   "metadata": {},
   "outputs": [],
   "source": [
    "dataset = pd.DataFrame({'y_test' : y_test, 'lr_preds': y_preds, 'dt_preds': y_preds_dt}, columns=['y_test','lr_preds', 'dt_preds'])\n"
   ]
  },
  {
   "cell_type": "code",
   "execution_count": 168,
   "metadata": {
    "scrolled": true
   },
   "outputs": [
    {
     "data": {
      "text/html": [
       "<div>\n",
       "<style scoped>\n",
       "    .dataframe tbody tr th:only-of-type {\n",
       "        vertical-align: middle;\n",
       "    }\n",
       "\n",
       "    .dataframe tbody tr th {\n",
       "        vertical-align: top;\n",
       "    }\n",
       "\n",
       "    .dataframe thead th {\n",
       "        text-align: right;\n",
       "    }\n",
       "</style>\n",
       "<table border=\"1\" class=\"dataframe\">\n",
       "  <thead>\n",
       "    <tr style=\"text-align: right;\">\n",
       "      <th></th>\n",
       "      <th>y_test</th>\n",
       "      <th>lr_preds</th>\n",
       "      <th>dt_preds</th>\n",
       "    </tr>\n",
       "  </thead>\n",
       "  <tbody>\n",
       "    <tr>\n",
       "      <th>1</th>\n",
       "      <td>0</td>\n",
       "      <td>0</td>\n",
       "      <td>0</td>\n",
       "    </tr>\n",
       "    <tr>\n",
       "      <th>6</th>\n",
       "      <td>0</td>\n",
       "      <td>0</td>\n",
       "      <td>0</td>\n",
       "    </tr>\n",
       "    <tr>\n",
       "      <th>8</th>\n",
       "      <td>0</td>\n",
       "      <td>0</td>\n",
       "      <td>0</td>\n",
       "    </tr>\n",
       "    <tr>\n",
       "      <th>10</th>\n",
       "      <td>0</td>\n",
       "      <td>0</td>\n",
       "      <td>0</td>\n",
       "    </tr>\n",
       "    <tr>\n",
       "      <th>14</th>\n",
       "      <td>0</td>\n",
       "      <td>0</td>\n",
       "      <td>0</td>\n",
       "    </tr>\n",
       "    <tr>\n",
       "      <th>15</th>\n",
       "      <td>0</td>\n",
       "      <td>0</td>\n",
       "      <td>0</td>\n",
       "    </tr>\n",
       "    <tr>\n",
       "      <th>19</th>\n",
       "      <td>0</td>\n",
       "      <td>0</td>\n",
       "      <td>0</td>\n",
       "    </tr>\n",
       "    <tr>\n",
       "      <th>22</th>\n",
       "      <td>0</td>\n",
       "      <td>0</td>\n",
       "      <td>0</td>\n",
       "    </tr>\n",
       "    <tr>\n",
       "      <th>26</th>\n",
       "      <td>0</td>\n",
       "      <td>0</td>\n",
       "      <td>0</td>\n",
       "    </tr>\n",
       "    <tr>\n",
       "      <th>30</th>\n",
       "      <td>0</td>\n",
       "      <td>0</td>\n",
       "      <td>0</td>\n",
       "    </tr>\n",
       "    <tr>\n",
       "      <th>38</th>\n",
       "      <td>0</td>\n",
       "      <td>0</td>\n",
       "      <td>0</td>\n",
       "    </tr>\n",
       "    <tr>\n",
       "      <th>45</th>\n",
       "      <td>0</td>\n",
       "      <td>0</td>\n",
       "      <td>0</td>\n",
       "    </tr>\n",
       "    <tr>\n",
       "      <th>47</th>\n",
       "      <td>0</td>\n",
       "      <td>0</td>\n",
       "      <td>0</td>\n",
       "    </tr>\n",
       "    <tr>\n",
       "      <th>51</th>\n",
       "      <td>0</td>\n",
       "      <td>0</td>\n",
       "      <td>0</td>\n",
       "    </tr>\n",
       "    <tr>\n",
       "      <th>58</th>\n",
       "      <td>0</td>\n",
       "      <td>0</td>\n",
       "      <td>0</td>\n",
       "    </tr>\n",
       "    <tr>\n",
       "      <th>61</th>\n",
       "      <td>1</td>\n",
       "      <td>0</td>\n",
       "      <td>0</td>\n",
       "    </tr>\n",
       "    <tr>\n",
       "      <th>77</th>\n",
       "      <td>0</td>\n",
       "      <td>0</td>\n",
       "      <td>0</td>\n",
       "    </tr>\n",
       "    <tr>\n",
       "      <th>89</th>\n",
       "      <td>0</td>\n",
       "      <td>0</td>\n",
       "      <td>0</td>\n",
       "    </tr>\n",
       "    <tr>\n",
       "      <th>106</th>\n",
       "      <td>1</td>\n",
       "      <td>0</td>\n",
       "      <td>0</td>\n",
       "    </tr>\n",
       "    <tr>\n",
       "      <th>107</th>\n",
       "      <td>0</td>\n",
       "      <td>0</td>\n",
       "      <td>0</td>\n",
       "    </tr>\n",
       "    <tr>\n",
       "      <th>120</th>\n",
       "      <td>0</td>\n",
       "      <td>0</td>\n",
       "      <td>0</td>\n",
       "    </tr>\n",
       "    <tr>\n",
       "      <th>121</th>\n",
       "      <td>0</td>\n",
       "      <td>0</td>\n",
       "      <td>0</td>\n",
       "    </tr>\n",
       "    <tr>\n",
       "      <th>122</th>\n",
       "      <td>0</td>\n",
       "      <td>0</td>\n",
       "      <td>0</td>\n",
       "    </tr>\n",
       "    <tr>\n",
       "      <th>136</th>\n",
       "      <td>0</td>\n",
       "      <td>0</td>\n",
       "      <td>0</td>\n",
       "    </tr>\n",
       "    <tr>\n",
       "      <th>137</th>\n",
       "      <td>0</td>\n",
       "      <td>0</td>\n",
       "      <td>0</td>\n",
       "    </tr>\n",
       "    <tr>\n",
       "      <th>167</th>\n",
       "      <td>0</td>\n",
       "      <td>0</td>\n",
       "      <td>0</td>\n",
       "    </tr>\n",
       "    <tr>\n",
       "      <th>181</th>\n",
       "      <td>0</td>\n",
       "      <td>0</td>\n",
       "      <td>0</td>\n",
       "    </tr>\n",
       "    <tr>\n",
       "      <th>184</th>\n",
       "      <td>0</td>\n",
       "      <td>0</td>\n",
       "      <td>0</td>\n",
       "    </tr>\n",
       "    <tr>\n",
       "      <th>196</th>\n",
       "      <td>1</td>\n",
       "      <td>0</td>\n",
       "      <td>1</td>\n",
       "    </tr>\n",
       "    <tr>\n",
       "      <th>199</th>\n",
       "      <td>0</td>\n",
       "      <td>0</td>\n",
       "      <td>0</td>\n",
       "    </tr>\n",
       "    <tr>\n",
       "      <th>...</th>\n",
       "      <td>...</td>\n",
       "      <td>...</td>\n",
       "      <td>...</td>\n",
       "    </tr>\n",
       "    <tr>\n",
       "      <th>386</th>\n",
       "      <td>0</td>\n",
       "      <td>0</td>\n",
       "      <td>0</td>\n",
       "    </tr>\n",
       "    <tr>\n",
       "      <th>387</th>\n",
       "      <td>0</td>\n",
       "      <td>0</td>\n",
       "      <td>0</td>\n",
       "    </tr>\n",
       "    <tr>\n",
       "      <th>389</th>\n",
       "      <td>0</td>\n",
       "      <td>0</td>\n",
       "      <td>0</td>\n",
       "    </tr>\n",
       "    <tr>\n",
       "      <th>390</th>\n",
       "      <td>1</td>\n",
       "      <td>0</td>\n",
       "      <td>0</td>\n",
       "    </tr>\n",
       "    <tr>\n",
       "      <th>393</th>\n",
       "      <td>0</td>\n",
       "      <td>0</td>\n",
       "      <td>0</td>\n",
       "    </tr>\n",
       "    <tr>\n",
       "      <th>396</th>\n",
       "      <td>0</td>\n",
       "      <td>0</td>\n",
       "      <td>0</td>\n",
       "    </tr>\n",
       "    <tr>\n",
       "      <th>403</th>\n",
       "      <td>0</td>\n",
       "      <td>0</td>\n",
       "      <td>0</td>\n",
       "    </tr>\n",
       "    <tr>\n",
       "      <th>405</th>\n",
       "      <td>0</td>\n",
       "      <td>0</td>\n",
       "      <td>0</td>\n",
       "    </tr>\n",
       "    <tr>\n",
       "      <th>409</th>\n",
       "      <td>0</td>\n",
       "      <td>0</td>\n",
       "      <td>0</td>\n",
       "    </tr>\n",
       "    <tr>\n",
       "      <th>412</th>\n",
       "      <td>0</td>\n",
       "      <td>0</td>\n",
       "      <td>0</td>\n",
       "    </tr>\n",
       "    <tr>\n",
       "      <th>413</th>\n",
       "      <td>0</td>\n",
       "      <td>0</td>\n",
       "      <td>0</td>\n",
       "    </tr>\n",
       "    <tr>\n",
       "      <th>414</th>\n",
       "      <td>0</td>\n",
       "      <td>0</td>\n",
       "      <td>0</td>\n",
       "    </tr>\n",
       "    <tr>\n",
       "      <th>417</th>\n",
       "      <td>0</td>\n",
       "      <td>0</td>\n",
       "      <td>0</td>\n",
       "    </tr>\n",
       "    <tr>\n",
       "      <th>433</th>\n",
       "      <td>0</td>\n",
       "      <td>0</td>\n",
       "      <td>0</td>\n",
       "    </tr>\n",
       "    <tr>\n",
       "      <th>444</th>\n",
       "      <td>0</td>\n",
       "      <td>0</td>\n",
       "      <td>0</td>\n",
       "    </tr>\n",
       "    <tr>\n",
       "      <th>446</th>\n",
       "      <td>0</td>\n",
       "      <td>0</td>\n",
       "      <td>0</td>\n",
       "    </tr>\n",
       "    <tr>\n",
       "      <th>448</th>\n",
       "      <td>1</td>\n",
       "      <td>0</td>\n",
       "      <td>0</td>\n",
       "    </tr>\n",
       "    <tr>\n",
       "      <th>453</th>\n",
       "      <td>0</td>\n",
       "      <td>0</td>\n",
       "      <td>0</td>\n",
       "    </tr>\n",
       "    <tr>\n",
       "      <th>456</th>\n",
       "      <td>1</td>\n",
       "      <td>0</td>\n",
       "      <td>0</td>\n",
       "    </tr>\n",
       "    <tr>\n",
       "      <th>468</th>\n",
       "      <td>0</td>\n",
       "      <td>0</td>\n",
       "      <td>0</td>\n",
       "    </tr>\n",
       "    <tr>\n",
       "      <th>472</th>\n",
       "      <td>0</td>\n",
       "      <td>0</td>\n",
       "      <td>0</td>\n",
       "    </tr>\n",
       "    <tr>\n",
       "      <th>475</th>\n",
       "      <td>0</td>\n",
       "      <td>0</td>\n",
       "      <td>0</td>\n",
       "    </tr>\n",
       "    <tr>\n",
       "      <th>479</th>\n",
       "      <td>0</td>\n",
       "      <td>0</td>\n",
       "      <td>0</td>\n",
       "    </tr>\n",
       "    <tr>\n",
       "      <th>480</th>\n",
       "      <td>0</td>\n",
       "      <td>0</td>\n",
       "      <td>0</td>\n",
       "    </tr>\n",
       "    <tr>\n",
       "      <th>487</th>\n",
       "      <td>0</td>\n",
       "      <td>0</td>\n",
       "      <td>0</td>\n",
       "    </tr>\n",
       "    <tr>\n",
       "      <th>492</th>\n",
       "      <td>0</td>\n",
       "      <td>0</td>\n",
       "      <td>0</td>\n",
       "    </tr>\n",
       "    <tr>\n",
       "      <th>499</th>\n",
       "      <td>0</td>\n",
       "      <td>0</td>\n",
       "      <td>0</td>\n",
       "    </tr>\n",
       "    <tr>\n",
       "      <th>506</th>\n",
       "      <td>0</td>\n",
       "      <td>0</td>\n",
       "      <td>0</td>\n",
       "    </tr>\n",
       "    <tr>\n",
       "      <th>518</th>\n",
       "      <td>0</td>\n",
       "      <td>0</td>\n",
       "      <td>0</td>\n",
       "    </tr>\n",
       "    <tr>\n",
       "      <th>524</th>\n",
       "      <td>0</td>\n",
       "      <td>0</td>\n",
       "      <td>0</td>\n",
       "    </tr>\n",
       "  </tbody>\n",
       "</table>\n",
       "<p>100 rows × 3 columns</p>\n",
       "</div>"
      ],
      "text/plain": [
       "     y_test  lr_preds  dt_preds\n",
       "1         0         0         0\n",
       "6         0         0         0\n",
       "8         0         0         0\n",
       "10        0         0         0\n",
       "14        0         0         0\n",
       "15        0         0         0\n",
       "19        0         0         0\n",
       "22        0         0         0\n",
       "26        0         0         0\n",
       "30        0         0         0\n",
       "38        0         0         0\n",
       "45        0         0         0\n",
       "47        0         0         0\n",
       "51        0         0         0\n",
       "58        0         0         0\n",
       "61        1         0         0\n",
       "77        0         0         0\n",
       "89        0         0         0\n",
       "106       1         0         0\n",
       "107       0         0         0\n",
       "120       0         0         0\n",
       "121       0         0         0\n",
       "122       0         0         0\n",
       "136       0         0         0\n",
       "137       0         0         0\n",
       "167       0         0         0\n",
       "181       0         0         0\n",
       "184       0         0         0\n",
       "196       1         0         1\n",
       "199       0         0         0\n",
       "..      ...       ...       ...\n",
       "386       0         0         0\n",
       "387       0         0         0\n",
       "389       0         0         0\n",
       "390       1         0         0\n",
       "393       0         0         0\n",
       "396       0         0         0\n",
       "403       0         0         0\n",
       "405       0         0         0\n",
       "409       0         0         0\n",
       "412       0         0         0\n",
       "413       0         0         0\n",
       "414       0         0         0\n",
       "417       0         0         0\n",
       "433       0         0         0\n",
       "444       0         0         0\n",
       "446       0         0         0\n",
       "448       1         0         0\n",
       "453       0         0         0\n",
       "456       1         0         0\n",
       "468       0         0         0\n",
       "472       0         0         0\n",
       "475       0         0         0\n",
       "479       0         0         0\n",
       "480       0         0         0\n",
       "487       0         0         0\n",
       "492       0         0         0\n",
       "499       0         0         0\n",
       "506       0         0         0\n",
       "518       0         0         0\n",
       "524       0         0         0\n",
       "\n",
       "[100 rows x 3 columns]"
      ]
     },
     "execution_count": 168,
     "metadata": {},
     "output_type": "execute_result"
    }
   ],
   "source": [
    "dataset.head(100)"
   ]
  },
  {
   "cell_type": "code",
   "execution_count": 169,
   "metadata": {
    "scrolled": true
   },
   "outputs": [],
   "source": [
    "dataset.loc[np.logical_and(dataset['lr_preds'] == 1 ,  dataset['dt_preds'] == 1), 'f_preds'] = 1 \n",
    "dataset.loc[dataset['f_preds'].isnull() , 'f_preds'] = 0\n"
   ]
  },
  {
   "cell_type": "code",
   "execution_count": 170,
   "metadata": {},
   "outputs": [
    {
     "data": {
      "text/plain": [
       "array([[2730,    0],\n",
       "       [  96,    0]], dtype=int64)"
      ]
     },
     "execution_count": 170,
     "metadata": {},
     "output_type": "execute_result"
    }
   ],
   "source": [
    "from sklearn.metrics import confusion_matrix\n",
    "cm_a=confusion_matrix(dataset['y_test'], dataset['f_preds'])\n",
    "cm_a"
   ]
  }
 ],
 "metadata": {
  "kernelspec": {
   "display_name": "Python 3",
   "language": "python",
   "name": "python3"
  },
  "language_info": {
   "codemirror_mode": {
    "name": "ipython",
    "version": 3
   },
   "file_extension": ".py",
   "mimetype": "text/x-python",
   "name": "python",
   "nbconvert_exporter": "python",
   "pygments_lexer": "ipython3",
   "version": "3.7.3"
  }
 },
 "nbformat": 4,
 "nbformat_minor": 2
}
