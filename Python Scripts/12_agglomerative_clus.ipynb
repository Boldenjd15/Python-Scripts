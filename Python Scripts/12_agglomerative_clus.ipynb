{
 "cells": [
  {
   "cell_type": "markdown",
   "metadata": {},
   "source": [
    "Reference: https://scikit-learn.org/stable/auto_examples/cluster/plot_cluster_comparison.html"
   ]
  },
  {
   "cell_type": "markdown",
   "metadata": {},
   "source": [
    "### Import Packages"
   ]
  },
  {
   "cell_type": "code",
   "execution_count": null,
   "metadata": {},
   "outputs": [],
   "source": [
    "import numpy as np\n",
    "import pandas as pd\n",
    "\n",
    "from sklearn.preprocessing import StandardScaler\n",
    "from sklearn import cluster\n",
    "\n",
    "import matplotlib.pyplot as plt\n",
    "import seaborn as sns\n",
    "\n",
    "%matplotlib inline"
   ]
  },
  {
   "cell_type": "markdown",
   "metadata": {},
   "source": [
    "### Set-up"
   ]
  },
  {
   "cell_type": "code",
   "execution_count": null,
   "metadata": {},
   "outputs": [],
   "source": [
    "# seaborn plot style\n",
    "sns.set_style('white')\n",
    "\n",
    "# color palette for plotting\n",
    "colors = [\"#e74c3c\", \"#34495e\", \"#2ecc71\"]"
   ]
  },
  {
   "cell_type": "markdown",
   "metadata": {},
   "source": [
    "### Read data"
   ]
  },
  {
   "cell_type": "markdown",
   "metadata": {},
   "source": [
    "The following datasets are generated for demonstrative purposes. The goal is to show how characteristics of different clustering algorithms on datasets with different 2D shapes."
   ]
  },
  {
   "cell_type": "code",
   "execution_count": null,
   "metadata": {},
   "outputs": [],
   "source": [
    "# 1. Concentric circles\n",
    "noisy_circles = pd.read_csv('https://www.dropbox.com/s/cgabfjzilc5hzcz/noisy_circles.csv?dl=1')\n",
    "\n",
    "# 2. Interleaving half circles\n",
    "noisy_moons = pd.read_csv('https://www.dropbox.com/s/t9dhhn3yuayfa7i/noisy_moons.csv?dl=1')\n",
    "\n",
    "# 3. Blobs with varied variances\n",
    "varied = pd.read_csv('https://www.dropbox.com/s/esgfpgjebb5fj9d/varied.csv?dl=1')\n",
    "\n",
    "# 4. Anisotropicly distributed data\n",
    "aniso = pd.read_csv('https://www.dropbox.com/s/2ei3rerl5kl2zt0/aniso.csv?dl=1')\n",
    "\n",
    "# 5. Gaussian blobs\n",
    "blobs = pd.read_csv('https://www.dropbox.com/s/dvxhka6v2n1jagv/blobs.csv?dl=1')\n",
    "\n",
    "# 6. No structure\n",
    "no_structure = pd.read_csv('https://www.dropbox.com/s/rbjmbwr6zovs12z/no_structure.csv?dl=1')"
   ]
  },
  {
   "cell_type": "markdown",
   "metadata": {},
   "source": [
    "### View datasets"
   ]
  },
  {
   "cell_type": "code",
   "execution_count": null,
   "metadata": {},
   "outputs": [],
   "source": [
    "datasets = [noisy_circles, noisy_moons, varied, aniso, blobs, no_structure]\n",
    "\n",
    "for dataset in datasets:\n",
    "\n",
    "    # standardize the dataset\n",
    "    X = StandardScaler().fit_transform(dataset[['X1', 'X2']])\n",
    "    \n",
    "    # count the number of clusters in the dataset\n",
    "    n_clus = dataset['y'].nunique()\n",
    "\n",
    "    # scatter plot\n",
    "    plt.figure(figsize=(6, 6))\n",
    "    sns.scatterplot(x=X[:, 0], y=X[:, 1], hue=dataset['y'], palette=colors[:n_clus])\n",
    "    \n",
    "    # adjust/clean the plot\n",
    "    plt.xlim(-2.5, 2.5)\n",
    "    plt.ylim(-2.5, 2.5)\n",
    "    plt.xticks(())\n",
    "    plt.yticks(())"
   ]
  },
  {
   "cell_type": "markdown",
   "metadata": {},
   "source": [
    "### Agglomerative Clustering using Ward Linkage Method"
   ]
  },
  {
   "cell_type": "code",
   "execution_count": null,
   "metadata": {},
   "outputs": [],
   "source": [
    "req_clus = 2\n",
    "\n",
    "for dataset in datasets:\n",
    "\n",
    "    # standardize the dataset\n",
    "    X = StandardScaler().fit_transform(dataset[['X1', 'X2']])\n",
    "\n",
    "    # fit a model using Ward's linkage\n",
    "    ward = cluster.AgglomerativeClustering(n_clusters=req_clus, linkage='ward').fit(X)\n",
    "\n",
    "    # predict cluster\n",
    "    y_pred = ward.labels_.astype(np.int)\n",
    "    \n",
    "    # count the number of _predicted_ clusters\n",
    "    n_pred_clus = len(np.unique(y_pred))\n",
    "\n",
    "    # scatter plot, color each data point according to the predicted cluster\n",
    "    plt.figure(figsize=(6, 6))\n",
    "    sns.scatterplot(x=X[:, 0], y=X[:, 1], hue=y_pred, palette=colors[:n_pred_clus])\n",
    "    \n",
    "    # adjust/clean the plot\n",
    "    plt.xlim(-2.5, 2.5)\n",
    "    plt.ylim(-2.5, 2.5)\n",
    "    plt.xticks(())\n",
    "    plt.yticks(());"
   ]
  },
  {
   "cell_type": "markdown",
   "metadata": {},
   "source": [
    "**EXERCISE:** Agglomerative Clustering using Complete Linkage Method."
   ]
  },
  {
   "cell_type": "code",
   "execution_count": null,
   "metadata": {},
   "outputs": [],
   "source": [
    "for dataset in datasets:\n",
    "\n",
    "    # standardize the dataset\n",
    "    X = StandardScaler().fit_transform(dataset[['X1', 'X2']])\n",
    "\n",
    "    # fit a model using Ward's linkage\n",
    "    ward = cluster.AgglomerativeClustering(n_clusters=req_clus, linkage='complete').fit(X)\n",
    "\n",
    "    # predict cluster\n",
    "    y_pred = ward.labels_.astype(np.int)\n",
    "    \n",
    "    # count the number of _predicted_ clusters\n",
    "    n_pred_clus = len(np.unique(y_pred))\n",
    "\n",
    "    # scatter plot, color each data point according to the predicted cluster\n",
    "    plt.figure(figsize=(6, 6))\n",
    "    sns.scatterplot(x=X[:, 0], y=X[:, 1], hue=y_pred, palette=colors[:n_pred_clus])\n",
    "    \n",
    "    # adjust/clean the plot\n",
    "    plt.xlim(-2.5, 2.5)\n",
    "    plt.ylim(-2.5, 2.5)\n",
    "    plt.xticks(())\n",
    "    plt.yticks(());"
   ]
  },
  {
   "cell_type": "markdown",
   "metadata": {},
   "source": [
    "### Comparisons of two linkage methods for Agglomerative Clustering"
   ]
  },
  {
   "cell_type": "code",
   "execution_count": null,
   "metadata": {},
   "outputs": [],
   "source": [
    "plt.figure(figsize=(15, 30))\n",
    "plot_num = 1\n",
    "\n",
    "for i, dataset in enumerate(datasets):\n",
    "           \n",
    "    X = StandardScaler().fit_transform(dataset[['X1', 'X2']])\n",
    "    \n",
    "    for criterion in ['none', 'ward', 'complete']:\n",
    "\n",
    "        plt.subplot(len(datasets), 3, plot_num)\n",
    "        \n",
    "        if criterion == 'none':\n",
    "                \n",
    "            n_clus = dataset['y'].nunique()\n",
    "            if i == 0:\n",
    "                plt.title(criterion, size=14)\n",
    "                \n",
    "            sns.scatterplot(x=X[:, 0], y=X[:, 1], hue=dataset['y'], palette=colors[:n_clus])\n",
    "\n",
    "        else:\n",
    "            agglomerative = cluster.AgglomerativeClustering(n_clusters=req_clus, linkage=criterion).fit(X)\n",
    "            y_pred = agglomerative.labels_.astype(np.int)\n",
    "            n_pred_clus = len(np.unique(y_pred))\n",
    "            if i == 0:\n",
    "                plt.title(criterion, size=14)\n",
    "            sns.scatterplot(x=X[:, 0], y=X[:, 1], hue=y_pred, palette=colors[:n_pred_clus])\n",
    "            \n",
    "        plt.xlim(-2.5, 2.5)\n",
    "        plt.ylim(-2.5, 2.5)\n",
    "        plt.xticks(())\n",
    "        plt.yticks(())\n",
    "        \n",
    "        plot_num += 1\n",
    "    \n",
    "plt.show()"
   ]
  }
 ],
 "metadata": {
  "kernelspec": {
   "display_name": "Python 3",
   "language": "python",
   "name": "python3"
  },
  "language_info": {
   "codemirror_mode": {
    "name": "ipython",
    "version": 3
   },
   "file_extension": ".py",
   "mimetype": "text/x-python",
   "name": "python",
   "nbconvert_exporter": "python",
   "pygments_lexer": "ipython3",
   "version": "3.7.4"
  }
 },
 "nbformat": 4,
 "nbformat_minor": 2
}
