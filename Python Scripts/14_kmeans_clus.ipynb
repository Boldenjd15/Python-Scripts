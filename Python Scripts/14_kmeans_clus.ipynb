{
 "cells": [
  {
   "cell_type": "markdown",
   "metadata": {},
   "source": [
    "Reference: https://scikit-learn.org/stable/auto_examples/cluster/plot_cluster_comparison.html"
   ]
  },
  {
   "cell_type": "markdown",
   "metadata": {},
   "source": [
    "### Import Packages"
   ]
  },
  {
   "cell_type": "code",
   "execution_count": null,
   "metadata": {},
   "outputs": [],
   "source": [
    "import numpy as np\n",
    "import pandas as pd\n",
    "\n",
    "from sklearn.preprocessing import StandardScaler\n",
    "#from sklearn.cluster import KMeans\n",
    "from sklearn import cluster\n",
    "\n",
    "import matplotlib.pyplot as plt\n",
    "import seaborn as sns\n",
    "\n",
    "%matplotlib inline"
   ]
  },
  {
   "cell_type": "markdown",
   "metadata": {},
   "source": [
    "### Set-up"
   ]
  },
  {
   "cell_type": "code",
   "execution_count": null,
   "metadata": {},
   "outputs": [],
   "source": [
    "# seaborn plot style\n",
    "sns.set_style('white')\n",
    "\n",
    "# color palette for plotting\n",
    "colors = [\"#e74c3c\", \"#34495e\", \"#2ecc71\"]\n",
    "\n",
    "# clustering criterion/methods to use\n",
    "criteria = ['none', 'ward', 'kmeans']"
   ]
  },
  {
   "cell_type": "markdown",
   "metadata": {},
   "source": [
    "### Read data"
   ]
  },
  {
   "cell_type": "code",
   "execution_count": null,
   "metadata": {},
   "outputs": [],
   "source": [
    "# 1. Concentric circles\n",
    "noisy_circles = pd.read_csv('https://www.dropbox.com/s/cgabfjzilc5hzcz/noisy_circles.csv?dl=1')\n",
    "\n",
    "# 2. Interleaving half circles\n",
    "noisy_moons = pd.read_csv('https://www.dropbox.com/s/t9dhhn3yuayfa7i/noisy_moons.csv?dl=1')\n",
    "\n",
    "# 3. Blobs with varied variances\n",
    "varied = pd.read_csv('https://www.dropbox.com/s/esgfpgjebb5fj9d/varied.csv?dl=1')\n",
    "\n",
    "# 4. Anisotropicly distributed data\n",
    "aniso = pd.read_csv('https://www.dropbox.com/s/2ei3rerl5kl2zt0/aniso.csv?dl=1')\n",
    "\n",
    "# 5. Gaussian blobs\n",
    "blobs = pd.read_csv('https://www.dropbox.com/s/dvxhka6v2n1jagv/blobs.csv?dl=1')\n",
    "\n",
    "# 6. No structure\n",
    "no_structure = pd.read_csv('https://www.dropbox.com/s/rbjmbwr6zovs12z/no_structure.csv?dl=1')"
   ]
  },
  {
   "cell_type": "markdown",
   "metadata": {},
   "source": [
    "### Comparisons: Agglomerative Clustering vs. _k_-means"
   ]
  },
  {
   "cell_type": "code",
   "execution_count": null,
   "metadata": {},
   "outputs": [],
   "source": [
    "datasets = [noisy_circles, noisy_moons, varied, aniso, blobs, no_structure]\n",
    "\n",
    "req_clus = 2\n",
    "\n",
    "plt.figure(figsize=(15, 30))\n",
    "\n",
    "plot_num = 1\n",
    "\n",
    "for i, dataset in enumerate(datasets):\n",
    "           \n",
    "    X = StandardScaler().fit_transform(dataset[['X1', 'X2']])\n",
    "    \n",
    "    for criterion in criteria:\n",
    "\n",
    "        plt.subplot(len(datasets), len(criteria), plot_num)\n",
    "        \n",
    "        if criterion == 'none':\n",
    "                \n",
    "            n_clus = dataset['y'].nunique()\n",
    "            if i == 0:\n",
    "                plt.title(criterion, size=14)\n",
    "                \n",
    "            sns.scatterplot(x=X[:, 0], y=X[:, 1], hue=dataset['y'], palette=colors[:n_clus])\n",
    "\n",
    "        elif criterion == 'ward':\n",
    "            agglomerative = cluster.AgglomerativeClustering(n_clusters=req_clus, linkage=criterion).fit(X)\n",
    "            y_pred = agglomerative.labels_.astype(np.int)\n",
    "            n_pred_clus = len(np.unique(y_pred))\n",
    "            if i == 0:\n",
    "                plt.title(criterion, size=14)\n",
    "                \n",
    "            sns.scatterplot(x=X[:, 0], y=X[:, 1], hue=y_pred, palette=colors[:n_pred_clus])\n",
    "            \n",
    "        elif criterion == 'kmeans':\n",
    "            y_pred = cluster.KMeans(n_clusters=req_clus, random_state=314).fit_predict(X)\n",
    "            n_pred_clus = len(np.unique(y_pred))\n",
    "            if i == 0:\n",
    "                plt.title(criterion, size=14)\n",
    "                \n",
    "            sns.scatterplot(x=X[:, 0], y=X[:, 1], hue=y_pred, palette=colors[:n_pred_clus])\n",
    "            \n",
    "        else:\n",
    "            print ('Invalid clustering criterion/method specified.')\n",
    "            \n",
    "        plt.xlim(-2.5, 2.5)\n",
    "        plt.ylim(-2.5, 2.5)\n",
    "        plt.xticks(())\n",
    "        plt.yticks(())\n",
    "        \n",
    "        plot_num += 1\n",
    "    \n",
    "plt.show()"
   ]
  }
 ],
 "metadata": {
  "kernelspec": {
   "display_name": "Python 3",
   "language": "python",
   "name": "python3"
  },
  "language_info": {
   "codemirror_mode": {
    "name": "ipython",
    "version": 3
   },
   "file_extension": ".py",
   "mimetype": "text/x-python",
   "name": "python",
   "nbconvert_exporter": "python",
   "pygments_lexer": "ipython3",
   "version": "3.7.4"
  }
 },
 "nbformat": 4,
 "nbformat_minor": 2
}
