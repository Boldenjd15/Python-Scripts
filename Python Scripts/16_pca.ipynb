{
 "cells": [
  {
   "cell_type": "markdown",
   "metadata": {},
   "source": [
    "### Import packages"
   ]
  },
  {
   "cell_type": "code",
   "execution_count": null,
   "metadata": {},
   "outputs": [],
   "source": [
    "import pandas as pd\n",
    "from sklearn.model_selection import train_test_split\n",
    "from sklearn.preprocessing import StandardScaler\n",
    "from sklearn.linear_model import LogisticRegression\n",
    "from sklearn.metrics import roc_curve, roc_auc_score\n",
    "import matplotlib.pyplot as plt\n",
    "import seaborn as sns\n",
    "from sklearn.decomposition import PCA\n",
    "import numpy as np\n",
    "from sklearn.pipeline import Pipeline"
   ]
  },
  {
   "cell_type": "markdown",
   "metadata": {},
   "source": [
    "### Set-up"
   ]
  },
  {
   "cell_type": "code",
   "execution_count": null,
   "metadata": {},
   "outputs": [],
   "source": [
    "infile = 'https://bitbucket.org/vishal_derive/vcu-data-mining/raw/3d740375d8d00c80e83dacbadc8b5e70cd2bfe48/data/credit_default_model_data.csv'\n",
    "\n",
    "target = 'default payment next month'"
   ]
  },
  {
   "cell_type": "markdown",
   "metadata": {},
   "source": [
    "### Read data"
   ]
  },
  {
   "cell_type": "code",
   "execution_count": null,
   "metadata": {},
   "outputs": [],
   "source": [
    "df = pd.read_csv(infile)\n",
    "\n",
    "y = df[target]\n",
    "X = df.drop(target, axis=1)\n",
    "\n",
    "del df"
   ]
  },
  {
   "cell_type": "code",
   "execution_count": null,
   "metadata": {},
   "outputs": [],
   "source": [
    "X.head()"
   ]
  },
  {
   "cell_type": "code",
   "execution_count": null,
   "metadata": {},
   "outputs": [],
   "source": [
    "X = X[X.columns[:-1]]"
   ]
  },
  {
   "cell_type": "code",
   "execution_count": null,
   "metadata": {},
   "outputs": [],
   "source": [
    "X.shape"
   ]
  },
  {
   "cell_type": "code",
   "execution_count": null,
   "metadata": {},
   "outputs": [],
   "source": [
    "y.mean()"
   ]
  },
  {
   "cell_type": "markdown",
   "metadata": {},
   "source": [
    "### Train-Test partition"
   ]
  },
  {
   "cell_type": "code",
   "execution_count": null,
   "metadata": {},
   "outputs": [],
   "source": [
    "X_train, X_test, y_train, y_test = train_test_split(X, y, test_size=20000, random_state=314)\n",
    "\n",
    "X_test, X_valid, y_test, y_valid = train_test_split(X_test, y_test, test_size=10000, random_state=314)\n",
    "\n",
    "len(X_train), len(X_test), len(X_valid)"
   ]
  },
  {
   "cell_type": "markdown",
   "metadata": {},
   "source": [
    "### Logistic Regression model"
   ]
  },
  {
   "cell_type": "code",
   "execution_count": null,
   "metadata": {},
   "outputs": [],
   "source": [
    "logit = LogisticRegression(solver='lbfgs', max_iter=1000, random_state=314)"
   ]
  },
  {
   "cell_type": "markdown",
   "metadata": {},
   "source": [
    "Standardize the input data."
   ]
  },
  {
   "cell_type": "code",
   "execution_count": null,
   "metadata": {},
   "outputs": [],
   "source": [
    "X_scaler = StandardScaler()\n",
    "\n",
    "# fit and transform the training data frame\n",
    "X_train_std = X_scaler.fit_transform(X_train.astype(float))\n",
    "\n",
    "# transform the test data frame\n",
    "X_test_std = X_scaler.transform(X_test.astype(float))"
   ]
  },
  {
   "cell_type": "markdown",
   "metadata": {},
   "source": [
    "Fit the model and get model scores."
   ]
  },
  {
   "cell_type": "code",
   "execution_count": null,
   "metadata": {},
   "outputs": [],
   "source": [
    "logit.fit(X_train_std, y_train)\n",
    "\n",
    "logit_scores_train = logit.predict_proba(X_train_std)[:, 1]\n",
    "logit_scores_test = logit.predict_proba(X_test_std)[:, 1]"
   ]
  },
  {
   "cell_type": "markdown",
   "metadata": {},
   "source": [
    "ROC Curve"
   ]
  },
  {
   "cell_type": "code",
   "execution_count": null,
   "metadata": {},
   "outputs": [],
   "source": [
    "logit_fpr_test, logit_tpr_test, _ = roc_curve(y_test, logit_scores_test)\n",
    "auc_logit = roc_auc_score(y_test, logit_scores_test)\n",
    "\n",
    "sns.set(style='darkgrid')\n",
    "plt.figure().set_size_inches(9, 9)\n",
    "\n",
    "plt.plot(logit_fpr_test, logit_tpr_test, color='royalblue', lw=2, linestyle = '-',\n",
    "         label=f'Test (AUC = {auc_logit:0.3f})')\n",
    "\n",
    "\n",
    "plt.plot([0, 1], [0, 1], color='gray', lw=1, linestyle='--')\n",
    "plt.xlim([0.0, 1.0])\n",
    "plt.ylim([0.0, 1.0])\n",
    "plt.xlabel('False Positive Rate', fontsize = 14)\n",
    "plt.ylabel('True Positive Rate', fontsize = 14)\n",
    "plt.title('Default Risk Model: Logistic Regression', fontsize = 16)\n",
    "plt.legend(loc=\"lower right\", fontsize = 14);"
   ]
  },
  {
   "cell_type": "markdown",
   "metadata": {},
   "source": [
    "### Principal Component Analysis (PCA)"
   ]
  },
  {
   "cell_type": "code",
   "execution_count": null,
   "metadata": {},
   "outputs": [],
   "source": [
    "pca = PCA(random_state=314)\n",
    "\n",
    "pca.fit(X_train)\n",
    "\n",
    "plt.figure().set_size_inches(9, 6)\n",
    "\n",
    "sns.lineplot(x=range(len(X.columns)), y=pca.explained_variance_ratio_, linewidth=3, color='tomato')\n",
    "plt.xlabel('Number of Components', fontsize = 14)\n",
    "plt.ylabel('Explained Variance', fontsize = 14);"
   ]
  },
  {
   "cell_type": "markdown",
   "metadata": {},
   "source": [
    "Cumulative Variance Explained"
   ]
  },
  {
   "cell_type": "code",
   "execution_count": null,
   "metadata": {},
   "outputs": [],
   "source": [
    "plt.figure().set_size_inches(9, 6)\n",
    "\n",
    "sns.lineplot(x=range(len(X.columns)), y=np.cumsum(pca.explained_variance_ratio_), linewidth=3, color='tomato')\n",
    "plt.xlabel('Number of Components', fontsize = 14)\n",
    "plt.ylabel('Explained Variance', fontsize = 14);"
   ]
  },
  {
   "cell_type": "markdown",
   "metadata": {},
   "source": [
    "A very few principal compoents appear to explain most of the variance in the data. The top ten principal components explain almost 100% of all variance!"
   ]
  },
  {
   "cell_type": "markdown",
   "metadata": {},
   "source": [
    "We need to *standardize* the data before fitting PCA -- or, run PCA on the standardized data."
   ]
  },
  {
   "cell_type": "code",
   "execution_count": null,
   "metadata": {},
   "outputs": [],
   "source": [
    "pca.fit(X_train_std)\n",
    "\n",
    "plt.figure().set_size_inches(9, 6)\n",
    "\n",
    "sns.lineplot(x=range(len(X.columns)), y=pca.explained_variance_ratio_, linewidth=3, color='tomato')\n",
    "\n",
    "plt.xlabel('Number of Components', fontsize = 14)\n",
    "plt.ylabel('Explained Variance', fontsize = 14);"
   ]
  },
  {
   "cell_type": "markdown",
   "metadata": {},
   "source": [
    "Cumulative Variance Explained"
   ]
  },
  {
   "cell_type": "code",
   "execution_count": null,
   "metadata": {},
   "outputs": [],
   "source": [
    "plt.figure().set_size_inches(9, 6)\n",
    "\n",
    "sns.lineplot(x=range(len(X.columns)), y=np.cumsum(pca.explained_variance_ratio_), linewidth=3, color='tomato')\n",
    "\n",
    "plt.xlabel('Number of Components', fontsize = 14)\n",
    "plt.ylabel('Explained Variance', fontsize = 14);"
   ]
  },
  {
   "cell_type": "code",
   "execution_count": null,
   "metadata": {},
   "outputs": [],
   "source": [
    "np.cumsum(pca.explained_variance_ratio_)[30]"
   ]
  },
  {
   "cell_type": "markdown",
   "metadata": {},
   "source": [
    "Let's keep the top 30 principal compoents. By doing so, we will retain 97% of the total variance."
   ]
  },
  {
   "cell_type": "code",
   "execution_count": null,
   "metadata": {},
   "outputs": [],
   "source": [
    "components_to_keep = 30\n",
    "\n",
    "pca = PCA(n_components=components_to_keep, random_state=314)"
   ]
  },
  {
   "cell_type": "markdown",
   "metadata": {},
   "source": [
    "### Pipelines"
   ]
  },
  {
   "cell_type": "code",
   "execution_count": null,
   "metadata": {},
   "outputs": [],
   "source": [
    "# define the pipeline\n",
    "pl = Pipeline(steps=[('scaling', X_scaler),\n",
    "                     ('pca', pca),\n",
    "                     ('logit', logit)])\n",
    "\n",
    "# fit the pipeline\n",
    "pl_fit = pl.fit(X_train.astype(float), y_train)\n",
    "\n",
    "# calculate model scores (predicted probabilities)\n",
    "pl_scores_test = pl_fit.predict_proba(X_test.astype(float))[:, 1]"
   ]
  },
  {
   "cell_type": "markdown",
   "metadata": {},
   "source": [
    "ROC Curve"
   ]
  },
  {
   "cell_type": "code",
   "execution_count": null,
   "metadata": {},
   "outputs": [],
   "source": [
    "pl_fpr_test, pl_tpr_test, _ = roc_curve(y_test, pl_scores_test)\n",
    "auc_pl = roc_auc_score(y_test, pl_scores_test)\n",
    "\n",
    "plt.figure().set_size_inches(9, 6)\n",
    "\n",
    "plt.plot(logit_fpr_test, logit_tpr_test, color='royalblue', lw=2, label=f'Logistic (AUC = {auc_logit:0.3f})')\n",
    "\n",
    "plt.plot(pl_fpr_test, pl_tpr_test, color='tomato', lw=2, label=f'PCA + Logistic (AUC = {auc_pl:0.3f})')\n",
    "\n",
    "plt.plot([0, 1], [0, 1], color='gray', lw=1, linestyle='--')\n",
    "plt.xlim([0.0, 1.0])\n",
    "plt.ylim([0.0, 1.0])\n",
    "plt.xlabel('False Positive Rate', fontsize = 14)\n",
    "plt.ylabel('True Positive Rate', fontsize = 14)\n",
    "plt.title('Default Risk Model: Logit vs. PCA+Logit', fontsize = 16)\n",
    "plt.legend(loc=\"lower right\", fontsize = 14);"
   ]
  },
  {
   "cell_type": "markdown",
   "metadata": {},
   "source": [
    "Why did the performance of the model didn't improve?"
   ]
  },
  {
   "cell_type": "markdown",
   "metadata": {},
   "source": [
    "What would happen if we keep *all* principal components?"
   ]
  },
  {
   "cell_type": "code",
   "execution_count": null,
   "metadata": {},
   "outputs": [],
   "source": [
    "pca = PCA(random_state=314)\n",
    "\n",
    "# define the pipeline\n",
    "pl = Pipeline(steps=[('scaling', X_scaler),\n",
    "                     ('pca', pca),\n",
    "                     ('logit', logit)])\n",
    "\n",
    "# fit the pipeline\n",
    "pl_fit = pl.fit(X_train.astype(float), y_train)\n",
    "\n",
    "# calculate model scores (predicted probabilities)\n",
    "pl_scores_test = pl_fit.predict_proba(X_test.astype(float))[:, 1]\n",
    "\n",
    "# ROC Curve\n",
    "pl_fpr_test, pl_tpr_test, _ = roc_curve(y_test, pl_scores_test)\n",
    "auc_pl = roc_auc_score(y_test, pl_scores_test)\n",
    "\n",
    "plt.figure().set_size_inches(9, 6)\n",
    "\n",
    "plt.plot(logit_fpr_test, logit_tpr_test, color='royalblue', lw=2, label=f'Logistic (AUC = {auc_logit:0.3f})')\n",
    "\n",
    "plt.plot(pl_fpr_test, pl_tpr_test, color='tomato', lw=2, label=f'PCA + Logistic (AUC = {auc_pl:0.3f})')\n",
    "\n",
    "plt.plot([0, 1], [0, 1], color='gray', lw=1, linestyle='--')\n",
    "plt.xlim([0.0, 1.0])\n",
    "plt.ylim([0.0, 1.0])\n",
    "plt.xlabel('False Positive Rate', fontsize = 14)\n",
    "plt.ylabel('True Positive Rate', fontsize = 14)\n",
    "plt.title('Default Risk Model: Logit vs. PCA+Logit', fontsize = 16)\n",
    "plt.legend(loc=\"lower right\", fontsize = 14);"
   ]
  }
 ],
 "metadata": {
  "kernelspec": {
   "display_name": "Python 3",
   "language": "python",
   "name": "python3"
  },
  "language_info": {
   "codemirror_mode": {
    "name": "ipython",
    "version": 3
   },
   "file_extension": ".py",
   "mimetype": "text/x-python",
   "name": "python",
   "nbconvert_exporter": "python",
   "pygments_lexer": "ipython3",
   "version": "3.7.4"
  }
 },
 "nbformat": 4,
 "nbformat_minor": 2
}
