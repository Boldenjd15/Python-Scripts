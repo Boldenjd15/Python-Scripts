{
 "cells": [
  {
   "cell_type": "markdown",
   "metadata": {},
   "source": [
    "This exercise is adopted from [this](https://joernhees.de/blog/2015/08/26/scipy-hierarchical-clustering-and-dendrogram-tutorial/) tutorial."
   ]
  },
  {
   "cell_type": "code",
   "execution_count": null,
   "metadata": {},
   "outputs": [],
   "source": [
    "from matplotlib import pyplot as plt\n",
    "from scipy.cluster.hierarchy import dendrogram, linkage\n",
    "import seaborn as sns\n",
    "import numpy as np"
   ]
  },
  {
   "cell_type": "code",
   "execution_count": null,
   "metadata": {},
   "outputs": [],
   "source": [
    "# generate two clusters: a with 100 points, b with 50:\n",
    "\n",
    "np.random.seed(4711)\n",
    "\n",
    "a = np.random.multivariate_normal([10, 0], [[3, 1], [1, 4]], size=[100,])\n",
    "b = np.random.multivariate_normal([0, 20], [[3, 1], [1, 4]], size=[50,])\n",
    "\n",
    "X = np.concatenate((a, b),)\n",
    "\n",
    "print(X.shape)"
   ]
  },
  {
   "cell_type": "code",
   "execution_count": null,
   "metadata": {},
   "outputs": [],
   "source": [
    "# visualize data\n",
    "\n",
    "plt.figure(figsize=(6, 6))\n",
    "\n",
    "sns.scatterplot(X[:,0], X[:,1], s=80)\n",
    "plt.show();"
   ]
  },
  {
   "cell_type": "code",
   "execution_count": null,
   "metadata": {},
   "outputs": [],
   "source": [
    "# generate the linkage matrix\n",
    "\n",
    "Z = linkage(X, 'ward')"
   ]
  },
  {
   "cell_type": "code",
   "execution_count": null,
   "metadata": {},
   "outputs": [],
   "source": [
    "Z.shape"
   ]
  },
  {
   "cell_type": "code",
   "execution_count": null,
   "metadata": {},
   "outputs": [],
   "source": [
    "# the first merge\n",
    "\n",
    "Z[0]"
   ]
  },
  {
   "cell_type": "markdown",
   "metadata": {},
   "source": [
    "The format is [idx1, idx2, dist, sample_count]. Here, indices 52 and 53 had a distance of 0.04151 between them, and they were merged to create a cluster with a total of 2 samples."
   ]
  },
  {
   "cell_type": "code",
   "execution_count": null,
   "metadata": {},
   "outputs": [],
   "source": [
    "# the first 20 merges\n",
    "\n",
    "np.set_printoptions(suppress=True)\n",
    "\n",
    "Z[:20]"
   ]
  },
  {
   "cell_type": "code",
   "execution_count": null,
   "metadata": {},
   "outputs": [],
   "source": [
    "# plot dendrogram\n",
    "\n",
    "plt.figure(figsize=(25, 15))\n",
    "\n",
    "dendrogram(Z, leaf_rotation=90, leaf_font_size=8)\n",
    "\n",
    "plt.title('Hierarchical Clustering Dendrogram', fontsize=14)\n",
    "plt.xlabel('Sample index', fontsize=14)\n",
    "plt.ylabel('Distance', fontsize=14)\n",
    "plt.show()"
   ]
  },
  {
   "cell_type": "code",
   "execution_count": null,
   "metadata": {},
   "outputs": [],
   "source": [
    "# the last four merges\n",
    "\n",
    "Z[-4:]"
   ]
  },
  {
   "cell_type": "code",
   "execution_count": null,
   "metadata": {},
   "outputs": [],
   "source": [
    "# truncated dendrogram\n",
    "\n",
    "plt.figure(figsize=(9, 6))\n",
    "\n",
    "dendrogram(Z, \n",
    "           truncate_mode='lastp',  # show only the last p merged clusters\n",
    "           p=12,  # show only the last p merged clusters\n",
    "           leaf_rotation=90,\n",
    "           leaf_font_size=12)\n",
    "\n",
    "plt.title('Hierarchical Clustering Dendrogram', fontsize=12)\n",
    "plt.xlabel('Sample index or cluster size)', fontsize=12)\n",
    "plt.ylabel('Distance', fontsize=12)\n",
    "plt.show()"
   ]
  },
  {
   "cell_type": "code",
   "execution_count": null,
   "metadata": {},
   "outputs": [],
   "source": [
    "# set cut-off to 50\n",
    "\n",
    "max_d = 50  # max_d as in max_distance\n",
    "\n",
    "dendrogram(Z, \n",
    "           truncate_mode='lastp',  # show only the last p merged clusters\n",
    "           p=12,  # show only the last p merged clusters\n",
    "           leaf_rotation=90,\n",
    "           leaf_font_size=12)\n",
    "\n",
    "plt.title('Hierarchical Clustering Dendrogram', fontsize=12)\n",
    "plt.xlabel('Sample index or cluster size)', fontsize=12)\n",
    "plt.ylabel('Distance', fontsize=12)\n",
    "\n",
    "plt.axhline(y=max_d, color='black', linestyle='--')\n",
    "\n",
    "plt.show()"
   ]
  },
  {
   "cell_type": "markdown",
   "metadata": {},
   "source": [
    "This cut-off value would give us two clusters."
   ]
  },
  {
   "cell_type": "code",
   "execution_count": null,
   "metadata": {},
   "outputs": [],
   "source": [
    "# set cut-off to 16\n",
    "\n",
    "max_d = 16\n",
    "\n",
    "dendrogram(Z, \n",
    "           truncate_mode='lastp',  # show only the last p merged clusters\n",
    "           p=12,  # show only the last p merged clusters\n",
    "           leaf_rotation=90,\n",
    "           leaf_font_size=12)\n",
    "\n",
    "plt.title('Hierarchical Clustering Dendrogram', fontsize=12)\n",
    "plt.xlabel('Sample index or cluster size)', fontsize=12)\n",
    "plt.ylabel('Distance', fontsize=12)\n",
    "\n",
    "plt.axhline(y=max_d, color='black', linestyle='--')\n",
    "\n",
    "plt.show()"
   ]
  },
  {
   "cell_type": "markdown",
   "metadata": {},
   "source": [
    "This cut-off value would give us four clusters."
   ]
  },
  {
   "cell_type": "code",
   "execution_count": null,
   "metadata": {},
   "outputs": [],
   "source": [
    "# retrieve cluster numbers (assignments) based on max_d\n",
    "\n",
    "from scipy.cluster.hierarchy import fcluster\n",
    "\n",
    "max_d = 50\n",
    "\n",
    "clusters = fcluster(Z, max_d, criterion='distance')\n",
    "\n",
    "clusters"
   ]
  },
  {
   "cell_type": "code",
   "execution_count": null,
   "metadata": {},
   "outputs": [],
   "source": [
    "# retrieve cluster numbers (assignments) based on k\n",
    "\n",
    "k = 2\n",
    "\n",
    "fcluster(Z, k, criterion='maxclust')"
   ]
  },
  {
   "cell_type": "code",
   "execution_count": null,
   "metadata": {},
   "outputs": [],
   "source": [
    "# visualize clusters\n",
    "\n",
    "plt.figure(figsize=(6, 6))\n",
    "\n",
    "sns.scatterplot(X[:,0], X[:,1], hue=clusters, s=80, legend=False, palette=['royalblue', 'tomato'])\n",
    "\n",
    "plt.show()"
   ]
  }
 ],
 "metadata": {
  "kernelspec": {
   "display_name": "Python 3",
   "language": "python",
   "name": "python3"
  },
  "language_info": {
   "codemirror_mode": {
    "name": "ipython",
    "version": 3
   },
   "file_extension": ".py",
   "mimetype": "text/x-python",
   "name": "python",
   "nbconvert_exporter": "python",
   "pygments_lexer": "ipython3",
   "version": "3.7.4"
  }
 },
 "nbformat": 4,
 "nbformat_minor": 2
}
