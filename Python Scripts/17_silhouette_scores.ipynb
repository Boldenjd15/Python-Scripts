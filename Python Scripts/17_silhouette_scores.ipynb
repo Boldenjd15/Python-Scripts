{
 "cells": [
  {
   "cell_type": "markdown",
   "metadata": {},
   "source": [
    "### Import packages"
   ]
  },
  {
   "cell_type": "code",
   "execution_count": null,
   "metadata": {},
   "outputs": [],
   "source": [
    "import pandas as pd\n",
    "from sklearn.preprocessing import StandardScaler\n",
    "import matplotlib.pyplot as plt\n",
    "import seaborn as sns\n",
    "from sklearn.decomposition import PCA\n",
    "from sklearn.cluster import KMeans\n",
    "from sklearn.metrics import silhouette_samples, silhouette_score"
   ]
  },
  {
   "cell_type": "markdown",
   "metadata": {},
   "source": [
    "### Set-up"
   ]
  },
  {
   "cell_type": "code",
   "execution_count": null,
   "metadata": {},
   "outputs": [],
   "source": [
    "infile = 'https://bitbucket.org/vishal_derive/vcu-data-mining/raw/3d740375d8d00c80e83dacbadc8b5e70cd2bfe48/data/credit_default_model_data.csv'\n",
    "\n",
    "target = 'default payment next month'\n",
    "\n",
    "sns.set(style='darkgrid')"
   ]
  },
  {
   "cell_type": "markdown",
   "metadata": {},
   "source": [
    "### Read data"
   ]
  },
  {
   "cell_type": "code",
   "execution_count": null,
   "metadata": {},
   "outputs": [],
   "source": [
    "df = pd.read_csv(infile)\n",
    "\n",
    "df.head()"
   ]
  },
  {
   "cell_type": "code",
   "execution_count": null,
   "metadata": {},
   "outputs": [],
   "source": [
    "X = df.drop([target, 'group'], axis=1)\n",
    "\n",
    "del df\n",
    "\n",
    "X.shape"
   ]
  },
  {
   "cell_type": "code",
   "execution_count": null,
   "metadata": {},
   "outputs": [],
   "source": [
    "# we will take a sample for this exercise (to save time on code execution)\n",
    "\n",
    "X = X.sample(10000, random_state=123)\n",
    "\n",
    "X.shape"
   ]
  },
  {
   "cell_type": "markdown",
   "metadata": {},
   "source": [
    "### Standardize"
   ]
  },
  {
   "cell_type": "code",
   "execution_count": null,
   "metadata": {},
   "outputs": [],
   "source": [
    "X_scaler = StandardScaler()\n",
    "\n",
    "# this will subtract the mean and divide by the standard deviation (for each column)\n",
    "X_std = X_scaler.fit_transform(X.astype(float))"
   ]
  },
  {
   "cell_type": "markdown",
   "metadata": {},
   "source": [
    "### k-means Clustering"
   ]
  },
  {
   "cell_type": "code",
   "execution_count": null,
   "metadata": {},
   "outputs": [],
   "source": [
    "# choose a range for number of principal components\n",
    "range_pca = [10, 15, 20, 25, 30, 35, 40, 45, 50]\n",
    "\n",
    "# choose a range for number of clusters\n",
    "range_n_clusters = [2, 3, 4, 5, 6, 7, 8, 9, 10]\n",
    "\n",
    "# create a dataframe to store the silhouette scores for each combination\n",
    "silhouette_matrix = pd.DataFrame(index=range_pca, columns=range_n_clusters)\n",
    "\n",
    "\n",
    "def perform_clus(components_to_keep_all, range_n_clusters_all):\n",
    "\n",
    "    # for each number of principal components\n",
    "    for components_to_keep in components_to_keep_all:\n",
    "\n",
    "        pca = PCA(n_components=components_to_keep, random_state=314)\n",
    "\n",
    "        X_pca = pca.fit_transform(X_std)\n",
    "\n",
    "        # for each number of clusters\n",
    "        for n_clus in range_n_clusters_all:\n",
    "\n",
    "            # define the k-means model\n",
    "            clusterer = KMeans(n_clusters=n_clus, random_state=314)\n",
    "\n",
    "            # assigned a cluster number to each record\n",
    "            clus_labels = clusterer.fit_predict(X_pca)\n",
    "\n",
    "            # overall (average) Silhouette score\n",
    "            silhouette_avg = silhouette_score(X_pca, clus_labels)\n",
    "            \n",
    "            silhouette_matrix.loc[components_to_keep, n_clus] = silhouette_avg\n",
    "\n",
    "            print('Components:', components_to_keep, ', Clusters:', n_clus, ', Silhouette Score:', silhouette_avg)\n",
    "\n",
    "    \n",
    "perform_clus(range_pca, range_n_clusters)"
   ]
  },
  {
   "cell_type": "code",
   "execution_count": null,
   "metadata": {},
   "outputs": [],
   "source": [
    "silhouette_matrix"
   ]
  },
  {
   "cell_type": "code",
   "execution_count": null,
   "metadata": {},
   "outputs": [],
   "source": [
    "# create a heat map\n",
    "\n",
    "plt.figure(figsize=(8, 6))\n",
    "\n",
    "ax = sns.heatmap(silhouette_matrix.astype(float))\n",
    "ax.set_ylim(len(silhouette_matrix), 0)\n",
    "ax.set_xlabel('Number of Clusters')\n",
    "ax.set_ylabel('Number of Principal Components')\n",
    "\n",
    "plt.show()"
   ]
  },
  {
   "cell_type": "code",
   "execution_count": null,
   "metadata": {},
   "outputs": [],
   "source": [
    "# max score within each row (max value across columns)\n",
    "silhouette_matrix.max(axis=1)"
   ]
  },
  {
   "cell_type": "markdown",
   "metadata": {},
   "source": [
    "10 principal components generated the highest score."
   ]
  },
  {
   "cell_type": "code",
   "execution_count": null,
   "metadata": {},
   "outputs": [],
   "source": [
    "# the first row (index=10) has the highest score\n",
    "# let's extract that row\n",
    "silhouette_matrix.loc[10, :]"
   ]
  },
  {
   "cell_type": "code",
   "execution_count": null,
   "metadata": {},
   "outputs": [],
   "source": [
    "# find the column name where silhuette score is max\n",
    "\n",
    "silhouette_matrix.astype(float).idxmax(axis=1)"
   ]
  },
  {
   "cell_type": "markdown",
   "metadata": {},
   "source": [
    "`idxmax()` returns the index of first occurrence of maximum over requested axis."
   ]
  },
  {
   "cell_type": "markdown",
   "metadata": {},
   "source": [
    "10 principal components and 8 clusters generated the highest score."
   ]
  },
  {
   "cell_type": "code",
   "execution_count": null,
   "metadata": {},
   "outputs": [],
   "source": [
    "# best values that generated the highest Silhuette score\n",
    "\n",
    "n_compoments = 10 \n",
    "k = 5  # trying to keep the number of clusters small (picking 5 clusters instead of 8)"
   ]
  },
  {
   "cell_type": "code",
   "execution_count": null,
   "metadata": {},
   "outputs": [],
   "source": [
    "pca = PCA(n_components=n_compoments, random_state=314)\n",
    "\n",
    "X_pca = pca.fit_transform(X_std)\n",
    "\n",
    "# define the k-means model\n",
    "clusterer = KMeans(n_clusters=k, random_state=314)\n",
    "\n",
    "# get assigned cluster numbers for each record\n",
    "clus_labels = clusterer.fit_predict(X_pca)\n",
    "\n",
    "# overall (average) Silhouette score\n",
    "silhouette_avg = silhouette_score(X_pca, clus_labels)\n",
    "\n",
    "print(silhouette_avg)"
   ]
  },
  {
   "cell_type": "code",
   "execution_count": null,
   "metadata": {},
   "outputs": [],
   "source": [
    "clus_labels[:10]"
   ]
  },
  {
   "cell_type": "code",
   "execution_count": null,
   "metadata": {},
   "outputs": [],
   "source": [
    "# add one to cluster numbers (so that it starts at 1 instead of 0)\n",
    "X['cluster'] = clus_labels + 1\n",
    "\n",
    "X.head()"
   ]
  },
  {
   "cell_type": "code",
   "execution_count": null,
   "metadata": {},
   "outputs": [],
   "source": [
    "# number of records by cluster\n",
    "X.cluster.value_counts()"
   ]
  },
  {
   "cell_type": "code",
   "execution_count": null,
   "metadata": {},
   "outputs": [],
   "source": [
    "# % of records by cluster\n",
    "X.cluster.value_counts() / len(X)"
   ]
  },
  {
   "cell_type": "markdown",
   "metadata": {},
   "source": [
    "### Cluster Profiles"
   ]
  },
  {
   "cell_type": "code",
   "execution_count": null,
   "metadata": {},
   "outputs": [],
   "source": [
    "pd.options.display.float_format = '{:.2f}'.format\n",
    "\n",
    "clus_profile = X.groupby('cluster').mean().T\n",
    "clus_profile.head()"
   ]
  },
  {
   "cell_type": "code",
   "execution_count": null,
   "metadata": {},
   "outputs": [],
   "source": [
    "clus_profile['overall'] = X.mean().T\n",
    "clus_profile.head()"
   ]
  },
  {
   "cell_type": "code",
   "execution_count": null,
   "metadata": {},
   "outputs": [],
   "source": [
    "# index \n",
    "clus_indices = clus_profile[[1, 2, 3, 4, 5]].div(clus_profile['overall'], axis=0) * 100\n",
    "clus_indices.head()"
   ]
  },
  {
   "cell_type": "markdown",
   "metadata": {},
   "source": [
    "Customers in cluster 3 have 33% higher balance limit as compared to the overall population. This type of information can be provided (preferably in a visual way) to provide detailed descriptions for each cluster (aka cluster profile)."
   ]
  }
 ],
 "metadata": {
  "kernelspec": {
   "display_name": "Python 3",
   "language": "python",
   "name": "python3"
  },
  "language_info": {
   "codemirror_mode": {
    "name": "ipython",
    "version": 3
   },
   "file_extension": ".py",
   "mimetype": "text/x-python",
   "name": "python",
   "nbconvert_exporter": "python",
   "pygments_lexer": "ipython3",
   "version": "3.7.5"
  }
 },
 "nbformat": 4,
 "nbformat_minor": 2
}
