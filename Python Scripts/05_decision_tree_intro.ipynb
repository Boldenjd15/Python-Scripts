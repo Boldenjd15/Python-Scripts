{
 "cells": [
  {
   "cell_type": "markdown",
   "metadata": {},
   "source": [
    "#### A quick introduction to Decision Trees using Python"
   ]
  },
  {
   "cell_type": "markdown",
   "metadata": {},
   "source": [
    "### Import Packages"
   ]
  },
  {
   "cell_type": "code",
   "execution_count": null,
   "metadata": {},
   "outputs": [],
   "source": [
    "import numpy as np\n",
    "import pandas as pd\n",
    "from sklearn import tree\n",
    "import matplotlib.pyplot as plt\n",
    "import seaborn as sns"
   ]
  },
  {
   "cell_type": "markdown",
   "metadata": {},
   "source": [
    "### Read and Plot Data"
   ]
  },
  {
   "cell_type": "code",
   "execution_count": null,
   "metadata": {},
   "outputs": [],
   "source": [
    "data_url = 'https://bitbucket.org/vishal_derive/vcu-data-mining/raw/5b4bf03e5a3894c25ee67075f16850853f38ca3e/data/linreg_sample.csv'\n",
    "\n",
    "df = pd.read_csv(data_url)\n",
    "\n",
    "print(df.head())\n",
    "\n",
    "sns.set(style='darkgrid')\n",
    "\n",
    "plt.figure().set_size_inches(12, 9)\n",
    "\n",
    "plt.scatter(df.x, df.y, color='lightcoral', s=100)\n",
    "\n",
    "plt.xlabel('x', fontsize=14)\n",
    "plt.ylabel('y', fontsize=14)\n",
    "plt.title('Sample Data for Simple Linear Regression', fontsize=14, weight='semibold')\n",
    "\n",
    "plt.show();"
   ]
  },
  {
   "cell_type": "markdown",
   "metadata": {},
   "source": [
    "## Decision Tree"
   ]
  },
  {
   "cell_type": "markdown",
   "metadata": {},
   "source": [
    "Step 1: Create a decision tree object."
   ]
  },
  {
   "cell_type": "code",
   "execution_count": null,
   "metadata": {},
   "outputs": [],
   "source": [
    "max_d = 3\n",
    "\n",
    "dtree = tree.DecisionTreeRegressor(max_leaf_nodes=max_d, random_state=314)"
   ]
  },
  {
   "cell_type": "markdown",
   "metadata": {},
   "source": [
    "Step 2: Fit the model."
   ]
  },
  {
   "cell_type": "code",
   "execution_count": null,
   "metadata": {},
   "outputs": [],
   "source": [
    "dtree.fit(df.x[:, np.newaxis], df.y)"
   ]
  },
  {
   "cell_type": "markdown",
   "metadata": {},
   "source": [
    "Step 3: Make predictions."
   ]
  },
  {
   "cell_type": "code",
   "execution_count": null,
   "metadata": {},
   "outputs": [],
   "source": [
    "df['y_hat'] = dtree.predict(df.x[:, np.newaxis])"
   ]
  },
  {
   "cell_type": "markdown",
   "metadata": {},
   "source": [
    "Plot the original data points and the predictions."
   ]
  },
  {
   "cell_type": "code",
   "execution_count": null,
   "metadata": {},
   "outputs": [],
   "source": [
    "sns.set(style='darkgrid')\n",
    "plt.figure().set_size_inches(12, 9)\n",
    "\n",
    "plt.scatter(df.x, df.y, color='lightcoral', s=100, alpha=.8)\n",
    "plt.scatter(df.x, df.y_hat, color='forestgreen', label=f'Decision Tree (depth={max_d})')\n",
    "\n",
    "plt.axvspan(0, .48, alpha=0.1, color='red')\n",
    "plt.axvspan(.48, .8, alpha=0.1, color='yellow')\n",
    "plt.axvspan(0.8, 1, alpha=0.1, color='orange')\n",
    "\n",
    "plt.xlabel('x', fontsize = 14)\n",
    "plt.ylabel('y', fontsize = 14)\n",
    "plt.xlim((0, 1))\n",
    "plt.ylim((-2, 2))\n",
    "plt.legend(loc='best', fontsize = 14)\n",
    "plt.title('Decision Tree', fontsize=14, weight='semibold')\n",
    "plt.show();"
   ]
  },
  {
   "cell_type": "code",
   "execution_count": null,
   "metadata": {},
   "outputs": [],
   "source": [
    "df[['y', 'y_hat']].head(10)"
   ]
  },
  {
   "cell_type": "code",
   "execution_count": null,
   "metadata": {},
   "outputs": [],
   "source": [
    "plt.figure()\n",
    "tree.plot_tree(dtree, filled=True)\n",
    "plt.show();"
   ]
  },
  {
   "cell_type": "markdown",
   "metadata": {},
   "source": [
    "## Decision Tree model using Wine Quality data"
   ]
  },
  {
   "cell_type": "code",
   "execution_count": null,
   "metadata": {},
   "outputs": [],
   "source": [
    "df_wine = pd.read_csv(r'../data/winequality.csv', index_col=0)\n",
    "\n",
    "num_cols = df_wine.columns[df_wine.dtypes == 'float64']\n",
    "\n",
    "dtree = tree.DecisionTreeRegressor(max_depth=5, random_state=314)\n",
    "\n",
    "dtree_wine = dtree.fit(df_wine[num_cols], df_wine.quality)\n",
    "\n",
    "df_wine['preds'] = dtree_wine.predict(df_wine[num_cols])"
   ]
  },
  {
   "cell_type": "markdown",
   "metadata": {},
   "source": [
    "Mean Squared Error (MSE)"
   ]
  },
  {
   "cell_type": "code",
   "execution_count": null,
   "metadata": {},
   "outputs": [],
   "source": [
    "from sklearn.metrics import mean_squared_error\n",
    "\n",
    "mean_squared_error(df_wine.quality, df_wine.preds)"
   ]
  },
  {
   "cell_type": "markdown",
   "metadata": {},
   "source": [
    "What happens if we build a model with the default settings..."
   ]
  },
  {
   "cell_type": "code",
   "execution_count": null,
   "metadata": {},
   "outputs": [],
   "source": [
    "dtree = tree.DecisionTreeRegressor(random_state=314)\n",
    "\n",
    "dtree_wine = dtree.fit(df_wine[num_cols], df_wine.quality)\n",
    "\n",
    "df_wine['preds'] = dtree_wine.predict(df_wine[num_cols])\n",
    "\n",
    "mean_squared_error(df_wine.quality, df_wine.preds)"
   ]
  },
  {
   "cell_type": "code",
   "execution_count": null,
   "metadata": {},
   "outputs": [],
   "source": [
    "df_wine[['quality', 'preds']].head(20)"
   ]
  },
  {
   "cell_type": "markdown",
   "metadata": {},
   "source": [
    "This is called over-fitting. Decision Tree is a _greedy_ algorithm, prone to over-fitting."
   ]
  }
 ],
 "metadata": {
  "kernelspec": {
   "display_name": "Python 3",
   "language": "python",
   "name": "python3"
  },
  "language_info": {
   "codemirror_mode": {
    "name": "ipython",
    "version": 3
   },
   "file_extension": ".py",
   "mimetype": "text/x-python",
   "name": "python",
   "nbconvert_exporter": "python",
   "pygments_lexer": "ipython3",
   "version": "3.7.4"
  }
 },
 "nbformat": 4,
 "nbformat_minor": 2
}
